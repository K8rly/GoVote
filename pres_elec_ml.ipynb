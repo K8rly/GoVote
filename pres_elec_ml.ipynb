{
 "cells": [
  {
   "cell_type": "code",
   "execution_count": 16,
   "metadata": {},
   "outputs": [],
   "source": [
    "import pandas as pd\n",
    "%matplotlib inline\n",
    "import matplotlib.pyplot as plt\n",
    "import numpy as np"
   ]
  },
  {
   "cell_type": "code",
   "execution_count": 17,
   "metadata": {},
   "outputs": [],
   "source": [
    "# 1. Create a DataFrame for the Presedential Election data. \n",
    "file_to_open = \"Resources\\pres_election.csv\"\n",
    "pres_elec_df = pd.read_csv(file_to_open, encoding=\"ISO-8859-1\") "
   ]
  },
  {
   "cell_type": "code",
   "execution_count": 18,
   "metadata": {},
   "outputs": [
    {
     "data": {
      "text/plain": [
       "<bound method NDFrame.head of         voter_id_org           city  party  birth_date    zip g_11_03_2020  \\\n",
       "0             704844    SEVEN HILLS  NOPTY        1959  44131            t   \n",
       "1            1658758          PARMA    REP        1968  44130            t   \n",
       "2            2005536  BROADVIEW HTS    REP        1976  44147            t   \n",
       "3            2465762          SOLON  NOPTY        1991  44139            f   \n",
       "4             710633   INDEPENDENCE    REP        1968  44131            t   \n",
       "...              ...            ...    ...         ...    ...          ...   \n",
       "873946        689381      PARMA HTS    DEM        1958  44130            t   \n",
       "873947        823935   STRONGSVILLE    REP        1946  44149            t   \n",
       "873948        749942         EUCLID    DEM        1927  44132            t   \n",
       "873949        276903         EUCLID  NOPTY        1944  44132            f   \n",
       "873950       3017222    SEVEN HILLS  NOPTY        1975  44131            f   \n",
       "\n",
       "       g_11_08_2016 g_11_06_2012 g_11_04_2008  \n",
       "0                 t            t            t  \n",
       "1                 t            t            t  \n",
       "2                 t            t            t  \n",
       "3                 f            t            f  \n",
       "4                 t            t            t  \n",
       "...             ...          ...          ...  \n",
       "873946            t            t            t  \n",
       "873947            t            t            t  \n",
       "873948            t            t            t  \n",
       "873949            f            t            t  \n",
       "873950            f            f            f  \n",
       "\n",
       "[873951 rows x 9 columns]>"
      ]
     },
     "execution_count": 18,
     "metadata": {},
     "output_type": "execute_result"
    }
   ],
   "source": [
    "pres_elec_df.head"
   ]
  },
  {
   "cell_type": "code",
   "execution_count": 19,
   "metadata": {},
   "outputs": [
    {
     "data": {
      "text/plain": [
       "(873951, 9)"
      ]
     },
     "execution_count": 19,
     "metadata": {},
     "output_type": "execute_result"
    }
   ],
   "source": [
    "pres_elec_df.shape"
   ]
  },
  {
   "cell_type": "code",
   "execution_count": 20,
   "metadata": {},
   "outputs": [
    {
     "data": {
      "text/plain": [
       "voter_id_org     int64\n",
       "city            object\n",
       "party           object\n",
       "birth_date       int64\n",
       "zip              int64\n",
       "g_11_03_2020    object\n",
       "g_11_08_2016    object\n",
       "g_11_06_2012    object\n",
       "g_11_04_2008    object\n",
       "dtype: object"
      ]
     },
     "execution_count": 20,
     "metadata": {},
     "output_type": "execute_result"
    }
   ],
   "source": [
    "#Column Datatypes\n",
    "pres_elec_df.dtypes"
   ]
  },
  {
   "cell_type": "code",
   "execution_count": 21,
   "metadata": {},
   "outputs": [],
   "source": [
    "#Replace True and False Values with 0 and 1\n",
    "pres_elec_df.replace(('f', 't'), (0, 1), inplace=True)"
   ]
  },
  {
   "cell_type": "code",
   "execution_count": 22,
   "metadata": {},
   "outputs": [
    {
     "data": {
      "text/html": [
       "<div>\n",
       "<style scoped>\n",
       "    .dataframe tbody tr th:only-of-type {\n",
       "        vertical-align: middle;\n",
       "    }\n",
       "\n",
       "    .dataframe tbody tr th {\n",
       "        vertical-align: top;\n",
       "    }\n",
       "\n",
       "    .dataframe thead th {\n",
       "        text-align: right;\n",
       "    }\n",
       "</style>\n",
       "<table border=\"1\" class=\"dataframe\">\n",
       "  <thead>\n",
       "    <tr style=\"text-align: right;\">\n",
       "      <th></th>\n",
       "      <th>voter_id_org</th>\n",
       "      <th>city</th>\n",
       "      <th>party</th>\n",
       "      <th>birth_date</th>\n",
       "      <th>zip</th>\n",
       "      <th>g_11_03_2020</th>\n",
       "      <th>g_11_08_2016</th>\n",
       "      <th>g_11_06_2012</th>\n",
       "      <th>g_11_04_2008</th>\n",
       "    </tr>\n",
       "  </thead>\n",
       "  <tbody>\n",
       "    <tr>\n",
       "      <th>0</th>\n",
       "      <td>704844</td>\n",
       "      <td>SEVEN HILLS</td>\n",
       "      <td>NOPTY</td>\n",
       "      <td>1959</td>\n",
       "      <td>44131</td>\n",
       "      <td>1</td>\n",
       "      <td>1</td>\n",
       "      <td>1</td>\n",
       "      <td>1</td>\n",
       "    </tr>\n",
       "    <tr>\n",
       "      <th>1</th>\n",
       "      <td>1658758</td>\n",
       "      <td>PARMA</td>\n",
       "      <td>REP</td>\n",
       "      <td>1968</td>\n",
       "      <td>44130</td>\n",
       "      <td>1</td>\n",
       "      <td>1</td>\n",
       "      <td>1</td>\n",
       "      <td>1</td>\n",
       "    </tr>\n",
       "    <tr>\n",
       "      <th>2</th>\n",
       "      <td>2005536</td>\n",
       "      <td>BROADVIEW HTS</td>\n",
       "      <td>REP</td>\n",
       "      <td>1976</td>\n",
       "      <td>44147</td>\n",
       "      <td>1</td>\n",
       "      <td>1</td>\n",
       "      <td>1</td>\n",
       "      <td>1</td>\n",
       "    </tr>\n",
       "    <tr>\n",
       "      <th>3</th>\n",
       "      <td>2465762</td>\n",
       "      <td>SOLON</td>\n",
       "      <td>NOPTY</td>\n",
       "      <td>1991</td>\n",
       "      <td>44139</td>\n",
       "      <td>0</td>\n",
       "      <td>0</td>\n",
       "      <td>1</td>\n",
       "      <td>0</td>\n",
       "    </tr>\n",
       "    <tr>\n",
       "      <th>4</th>\n",
       "      <td>710633</td>\n",
       "      <td>INDEPENDENCE</td>\n",
       "      <td>REP</td>\n",
       "      <td>1968</td>\n",
       "      <td>44131</td>\n",
       "      <td>1</td>\n",
       "      <td>1</td>\n",
       "      <td>1</td>\n",
       "      <td>1</td>\n",
       "    </tr>\n",
       "  </tbody>\n",
       "</table>\n",
       "</div>"
      ],
      "text/plain": [
       "   voter_id_org           city  party  birth_date    zip  g_11_03_2020  \\\n",
       "0        704844    SEVEN HILLS  NOPTY        1959  44131             1   \n",
       "1       1658758          PARMA    REP        1968  44130             1   \n",
       "2       2005536  BROADVIEW HTS    REP        1976  44147             1   \n",
       "3       2465762          SOLON  NOPTY        1991  44139             0   \n",
       "4        710633   INDEPENDENCE    REP        1968  44131             1   \n",
       "\n",
       "   g_11_08_2016  g_11_06_2012  g_11_04_2008  \n",
       "0             1             1             1  \n",
       "1             1             1             1  \n",
       "2             1             1             1  \n",
       "3             0             1             0  \n",
       "4             1             1             1  "
      ]
     },
     "execution_count": 22,
     "metadata": {},
     "output_type": "execute_result"
    }
   ],
   "source": [
    "pres_elec_df.head()"
   ]
  },
  {
   "cell_type": "code",
   "execution_count": 23,
   "metadata": {},
   "outputs": [
    {
     "data": {
      "text/html": [
       "<div>\n",
       "<style scoped>\n",
       "    .dataframe tbody tr th:only-of-type {\n",
       "        vertical-align: middle;\n",
       "    }\n",
       "\n",
       "    .dataframe tbody tr th {\n",
       "        vertical-align: top;\n",
       "    }\n",
       "\n",
       "    .dataframe thead th {\n",
       "        text-align: right;\n",
       "    }\n",
       "</style>\n",
       "<table border=\"1\" class=\"dataframe\">\n",
       "  <thead>\n",
       "    <tr style=\"text-align: right;\">\n",
       "      <th></th>\n",
       "      <th>city</th>\n",
       "      <th>party</th>\n",
       "      <th>birth_date</th>\n",
       "      <th>zip</th>\n",
       "      <th>g_11_03_2020</th>\n",
       "      <th>g_11_08_2016</th>\n",
       "      <th>g_11_06_2012</th>\n",
       "      <th>g_11_04_2008</th>\n",
       "    </tr>\n",
       "    <tr>\n",
       "      <th>voter_id_org</th>\n",
       "      <th></th>\n",
       "      <th></th>\n",
       "      <th></th>\n",
       "      <th></th>\n",
       "      <th></th>\n",
       "      <th></th>\n",
       "      <th></th>\n",
       "      <th></th>\n",
       "    </tr>\n",
       "  </thead>\n",
       "  <tbody>\n",
       "    <tr>\n",
       "      <th>704844</th>\n",
       "      <td>SEVEN HILLS</td>\n",
       "      <td>NOPTY</td>\n",
       "      <td>1959</td>\n",
       "      <td>44131</td>\n",
       "      <td>1</td>\n",
       "      <td>1</td>\n",
       "      <td>1</td>\n",
       "      <td>1</td>\n",
       "    </tr>\n",
       "    <tr>\n",
       "      <th>1658758</th>\n",
       "      <td>PARMA</td>\n",
       "      <td>REP</td>\n",
       "      <td>1968</td>\n",
       "      <td>44130</td>\n",
       "      <td>1</td>\n",
       "      <td>1</td>\n",
       "      <td>1</td>\n",
       "      <td>1</td>\n",
       "    </tr>\n",
       "    <tr>\n",
       "      <th>2005536</th>\n",
       "      <td>BROADVIEW HTS</td>\n",
       "      <td>REP</td>\n",
       "      <td>1976</td>\n",
       "      <td>44147</td>\n",
       "      <td>1</td>\n",
       "      <td>1</td>\n",
       "      <td>1</td>\n",
       "      <td>1</td>\n",
       "    </tr>\n",
       "    <tr>\n",
       "      <th>2465762</th>\n",
       "      <td>SOLON</td>\n",
       "      <td>NOPTY</td>\n",
       "      <td>1991</td>\n",
       "      <td>44139</td>\n",
       "      <td>0</td>\n",
       "      <td>0</td>\n",
       "      <td>1</td>\n",
       "      <td>0</td>\n",
       "    </tr>\n",
       "    <tr>\n",
       "      <th>710633</th>\n",
       "      <td>INDEPENDENCE</td>\n",
       "      <td>REP</td>\n",
       "      <td>1968</td>\n",
       "      <td>44131</td>\n",
       "      <td>1</td>\n",
       "      <td>1</td>\n",
       "      <td>1</td>\n",
       "      <td>1</td>\n",
       "    </tr>\n",
       "  </tbody>\n",
       "</table>\n",
       "</div>"
      ],
      "text/plain": [
       "                       city  party  birth_date    zip  g_11_03_2020  \\\n",
       "voter_id_org                                                          \n",
       "704844          SEVEN HILLS  NOPTY        1959  44131             1   \n",
       "1658758               PARMA    REP        1968  44130             1   \n",
       "2005536       BROADVIEW HTS    REP        1976  44147             1   \n",
       "2465762               SOLON  NOPTY        1991  44139             0   \n",
       "710633         INDEPENDENCE    REP        1968  44131             1   \n",
       "\n",
       "              g_11_08_2016  g_11_06_2012  g_11_04_2008  \n",
       "voter_id_org                                            \n",
       "704844                   1             1             1  \n",
       "1658758                  1             1             1  \n",
       "2005536                  1             1             1  \n",
       "2465762                  0             1             0  \n",
       "710633                   1             1             1  "
      ]
     },
     "execution_count": 23,
     "metadata": {},
     "output_type": "execute_result"
    }
   ],
   "source": [
    "# Set voter_id_org column as index\n",
    "pres_elec_df = pres_elec_df.set_index('voter_id_org')\n",
    "pres_elec_df.head()"
   ]
  },
  {
   "cell_type": "code",
   "execution_count": null,
   "metadata": {},
   "outputs": [],
   "source": [
    "# Assign data to x and y"
   ]
  },
  {
   "cell_type": "code",
   "execution_count": null,
   "metadata": {},
   "outputs": [],
   "source": [
    "# Split the data\n",
    "from sklearn.model_selection import train_test_split\n",
    "\n",
    "X_train, X_test, y_train, y_test = train_test_split(X, y, random_state=1)"
   ]
  },
  {
   "cell_type": "code",
   "execution_count": null,
   "metadata": {},
   "outputs": [],
   "source": [
    "from sklearn.linear_model import LogisticRegression\n",
    "classifier = LogisticRegression()\n",
    "classifier"
   ]
  },
  {
   "cell_type": "code",
   "execution_count": null,
   "metadata": {},
   "outputs": [],
   "source": [
    "classifier.fit(X_train, y_train)"
   ]
  },
  {
   "cell_type": "code",
   "execution_count": null,
   "metadata": {},
   "outputs": [],
   "source": [
    "print(f\"Training Data Score: {classifier.score(X_train, y_train)}\")\n",
    "print(f\"Testing Data Score: {classifier.score(X_test, y_test)}\")"
   ]
  }
 ],
 "metadata": {
  "kernelspec": {
   "display_name": "Python 3.7.13",
   "language": "python",
   "name": "python3"
  },
  "language_info": {
   "codemirror_mode": {
    "name": "ipython",
    "version": 3
   },
   "file_extension": ".py",
   "mimetype": "text/x-python",
   "name": "python",
   "nbconvert_exporter": "python",
   "pygments_lexer": "ipython3",
   "version": "3.7.13"
  },
  "orig_nbformat": 4,
  "vscode": {
   "interpreter": {
    "hash": "9cbd3ad8153c16a78d81bc8a504c18eabb83723a1b678246e27cd1390a16f6c4"
   }
  }
 },
 "nbformat": 4,
 "nbformat_minor": 2
}
