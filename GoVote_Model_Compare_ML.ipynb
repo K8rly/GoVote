{
 "cells": [
  {
   "cell_type": "code",
   "execution_count": 1,
   "metadata": {},
   "outputs": [],
   "source": [
    "import warnings\n",
    "warnings.filterwarnings('ignore')\n",
    "import pandas as pd\n",
    "import numpy as np\n",
    "import seaborn as sb\n",
    "from pathlib import Path"
   ]
  },
  {
   "cell_type": "markdown",
   "metadata": {},
   "source": [
    "## Import CSV"
   ]
  },
  {
   "cell_type": "code",
   "execution_count": 2,
   "metadata": {},
   "outputs": [
    {
     "data": {
      "text/html": [
       "<div>\n",
       "<style scoped>\n",
       "    .dataframe tbody tr th:only-of-type {\n",
       "        vertical-align: middle;\n",
       "    }\n",
       "\n",
       "    .dataframe tbody tr th {\n",
       "        vertical-align: top;\n",
       "    }\n",
       "\n",
       "    .dataframe thead th {\n",
       "        text-align: right;\n",
       "    }\n",
       "</style>\n",
       "<table border=\"1\" class=\"dataframe\">\n",
       "  <thead>\n",
       "    <tr style=\"text-align: right;\">\n",
       "      <th></th>\n",
       "      <th>Voter_ID</th>\n",
       "      <th>City</th>\n",
       "      <th>Zip_Code</th>\n",
       "      <th>Party</th>\n",
       "      <th>Birth_Year</th>\n",
       "      <th>Primary_Election_2020</th>\n",
       "      <th>General_Election_2020</th>\n",
       "      <th>Primary_Election_2016</th>\n",
       "      <th>General_Election_2016</th>\n",
       "      <th>Primary_Election_2012</th>\n",
       "      <th>General_Election_2012</th>\n",
       "      <th>Primary_Election_2008</th>\n",
       "      <th>General_Election_2008</th>\n",
       "      <th>Generational_Group</th>\n",
       "    </tr>\n",
       "  </thead>\n",
       "  <tbody>\n",
       "    <tr>\n",
       "      <th>0</th>\n",
       "      <td>704844</td>\n",
       "      <td>SEVEN HILLS</td>\n",
       "      <td>44131</td>\n",
       "      <td>NOPTY</td>\n",
       "      <td>1959</td>\n",
       "      <td>0</td>\n",
       "      <td>t</td>\n",
       "      <td>D</td>\n",
       "      <td>t</td>\n",
       "      <td>0</td>\n",
       "      <td>t</td>\n",
       "      <td>D</td>\n",
       "      <td>t</td>\n",
       "      <td>Boomers</td>\n",
       "    </tr>\n",
       "    <tr>\n",
       "      <th>1</th>\n",
       "      <td>1658758</td>\n",
       "      <td>PARMA</td>\n",
       "      <td>44130</td>\n",
       "      <td>REP</td>\n",
       "      <td>1968</td>\n",
       "      <td>0</td>\n",
       "      <td>t</td>\n",
       "      <td>R</td>\n",
       "      <td>t</td>\n",
       "      <td>R</td>\n",
       "      <td>t</td>\n",
       "      <td>D</td>\n",
       "      <td>t</td>\n",
       "      <td>Generation X</td>\n",
       "    </tr>\n",
       "    <tr>\n",
       "      <th>2</th>\n",
       "      <td>2005536</td>\n",
       "      <td>BROADVIEW HTS</td>\n",
       "      <td>44147</td>\n",
       "      <td>REP</td>\n",
       "      <td>1976</td>\n",
       "      <td>0</td>\n",
       "      <td>t</td>\n",
       "      <td>R</td>\n",
       "      <td>t</td>\n",
       "      <td>R</td>\n",
       "      <td>t</td>\n",
       "      <td>D</td>\n",
       "      <td>t</td>\n",
       "      <td>Generation X</td>\n",
       "    </tr>\n",
       "    <tr>\n",
       "      <th>3</th>\n",
       "      <td>2465762</td>\n",
       "      <td>SOLON</td>\n",
       "      <td>44139</td>\n",
       "      <td>NOPTY</td>\n",
       "      <td>1991</td>\n",
       "      <td>0</td>\n",
       "      <td>f</td>\n",
       "      <td>0</td>\n",
       "      <td>f</td>\n",
       "      <td>0</td>\n",
       "      <td>t</td>\n",
       "      <td>0</td>\n",
       "      <td>f</td>\n",
       "      <td>Millennials</td>\n",
       "    </tr>\n",
       "    <tr>\n",
       "      <th>4</th>\n",
       "      <td>710633</td>\n",
       "      <td>INDEPENDENCE</td>\n",
       "      <td>44131</td>\n",
       "      <td>REP</td>\n",
       "      <td>1968</td>\n",
       "      <td>0</td>\n",
       "      <td>t</td>\n",
       "      <td>R</td>\n",
       "      <td>t</td>\n",
       "      <td>R</td>\n",
       "      <td>t</td>\n",
       "      <td>0</td>\n",
       "      <td>t</td>\n",
       "      <td>Generation X</td>\n",
       "    </tr>\n",
       "  </tbody>\n",
       "</table>\n",
       "</div>"
      ],
      "text/plain": [
       "   Voter_ID           City  Zip_Code  Party  Birth_Year Primary_Election_2020  \\\n",
       "0    704844    SEVEN HILLS     44131  NOPTY        1959                     0   \n",
       "1   1658758          PARMA     44130    REP        1968                     0   \n",
       "2   2005536  BROADVIEW HTS     44147    REP        1976                     0   \n",
       "3   2465762          SOLON     44139  NOPTY        1991                     0   \n",
       "4    710633   INDEPENDENCE     44131    REP        1968                     0   \n",
       "\n",
       "  General_Election_2020 Primary_Election_2016 General_Election_2016  \\\n",
       "0                     t                     D                     t   \n",
       "1                     t                     R                     t   \n",
       "2                     t                     R                     t   \n",
       "3                     f                     0                     f   \n",
       "4                     t                     R                     t   \n",
       "\n",
       "  Primary_Election_2012 General_Election_2012 Primary_Election_2008  \\\n",
       "0                     0                     t                     D   \n",
       "1                     R                     t                     D   \n",
       "2                     R                     t                     D   \n",
       "3                     0                     t                     0   \n",
       "4                     R                     t                     0   \n",
       "\n",
       "  General_Election_2008 Generational_Group  \n",
       "0                     t            Boomers  \n",
       "1                     t       Generation X  \n",
       "2                     t       Generation X  \n",
       "3                     f        Millennials  \n",
       "4                     t       Generation X  "
      ]
     },
     "execution_count": 2,
     "metadata": {},
     "output_type": "execute_result"
    }
   ],
   "source": [
    "# 1. Create a DataFrame for the Presidential Election data. \n",
    "file_to_open = (\"election_groups.csv\")\n",
    "ml_df = pd.read_csv(file_to_open,  encoding=\"ISO-8859-1\")\n",
    "ml_df.head()"
   ]
  },
  {
   "cell_type": "markdown",
   "metadata": {},
   "source": [
    "## Data Cleaning"
   ]
  },
  {
   "cell_type": "code",
   "execution_count": 3,
   "metadata": {},
   "outputs": [],
   "source": [
    "#Replace True and False Values with 0 and 1\n",
    "ml_df.replace(('f', 't'), (0, 1), inplace=True)"
   ]
  },
  {
   "cell_type": "code",
   "execution_count": 4,
   "metadata": {},
   "outputs": [
    {
     "data": {
      "text/plain": [
       "(870075, 14)"
      ]
     },
     "execution_count": 4,
     "metadata": {},
     "output_type": "execute_result"
    }
   ],
   "source": [
    "ml_df.shape"
   ]
  },
  {
   "cell_type": "code",
   "execution_count": 5,
   "metadata": {},
   "outputs": [
    {
     "name": "stdout",
     "output_type": "stream",
     "text": [
      "<class 'pandas.core.frame.DataFrame'>\n",
      "RangeIndex: 870075 entries, 0 to 870074\n",
      "Data columns (total 14 columns):\n",
      " #   Column                 Non-Null Count   Dtype \n",
      "---  ------                 --------------   ----- \n",
      " 0   Voter_ID               870075 non-null  int64 \n",
      " 1   City                   870075 non-null  object\n",
      " 2   Zip_Code               870075 non-null  int64 \n",
      " 3   Party                  870075 non-null  object\n",
      " 4   Birth_Year             870075 non-null  int64 \n",
      " 5   Primary_Election_2020  870075 non-null  object\n",
      " 6   General_Election_2020  870075 non-null  int64 \n",
      " 7   Primary_Election_2016  870075 non-null  object\n",
      " 8   General_Election_2016  870075 non-null  int64 \n",
      " 9   Primary_Election_2012  870075 non-null  object\n",
      " 10  General_Election_2012  870075 non-null  int64 \n",
      " 11  Primary_Election_2008  870075 non-null  object\n",
      " 12  General_Election_2008  870075 non-null  int64 \n",
      " 13  Generational_Group     870075 non-null  object\n",
      "dtypes: int64(7), object(7)\n",
      "memory usage: 92.9+ MB\n"
     ]
    }
   ],
   "source": [
    "#Column Datatypes\n",
    "ml_df.info()"
   ]
  },
  {
   "cell_type": "code",
   "execution_count": 6,
   "metadata": {},
   "outputs": [],
   "source": [
    "# Set voter_id_org column as index\n",
    "ml_df =ml_df.set_index('Voter_ID')"
   ]
  },
  {
   "cell_type": "code",
   "execution_count": null,
   "metadata": {},
   "outputs": [],
   "source": []
  },
  {
   "cell_type": "code",
   "execution_count": null,
   "metadata": {},
   "outputs": [],
   "source": [
    "# Hand categorical data\n",
    "# code primary election data into integers\n",
    "#D is Democrat, R is Republican, L is Libertarian, G is Green, 0, \" \", X and N is non-party, issues only ballot\n"
   ]
  },
  {
   "cell_type": "code",
   "execution_count": 8,
   "metadata": {},
   "outputs": [],
   "source": [
    "party={\"D\": 0, \"R\": 1, \"L\": 2, \"0\": 3, \"N\": 3, \" \": 3, \"G\": 4, \"X\": 3}\n",
    "ml_df['Primary_Election_2016'] = ml_df['Primary_Election_2016'].apply(lambda x:party[x])\n",
    "ml_df['Primary_Election_2012'] = ml_df['Primary_Election_2012'].apply(lambda x:party[x])\n",
    "ml_df['Primary_Election_2008'] = ml_df['Primary_Election_2008'].apply(lambda x:party[x])\n",
    "ml_df['Primary_Election_2020'] = ml_df['Primary_Election_2020'].apply(lambda x:party[x])\n"
   ]
  },
  {
   "cell_type": "code",
   "execution_count": 9,
   "metadata": {},
   "outputs": [
    {
     "data": {
      "text/html": [
       "<div>\n",
       "<style scoped>\n",
       "    .dataframe tbody tr th:only-of-type {\n",
       "        vertical-align: middle;\n",
       "    }\n",
       "\n",
       "    .dataframe tbody tr th {\n",
       "        vertical-align: top;\n",
       "    }\n",
       "\n",
       "    .dataframe thead th {\n",
       "        text-align: right;\n",
       "    }\n",
       "</style>\n",
       "<table border=\"1\" class=\"dataframe\">\n",
       "  <thead>\n",
       "    <tr style=\"text-align: right;\">\n",
       "      <th></th>\n",
       "      <th>City</th>\n",
       "      <th>Zip_Code</th>\n",
       "      <th>Party</th>\n",
       "      <th>Birth_Year</th>\n",
       "      <th>Primary_Election_2020</th>\n",
       "      <th>General_Election_2020</th>\n",
       "      <th>Primary_Election_2016</th>\n",
       "      <th>General_Election_2016</th>\n",
       "      <th>Primary_Election_2012</th>\n",
       "      <th>General_Election_2012</th>\n",
       "      <th>Primary_Election_2008</th>\n",
       "      <th>General_Election_2008</th>\n",
       "      <th>Generational_Group</th>\n",
       "    </tr>\n",
       "    <tr>\n",
       "      <th>Voter_ID</th>\n",
       "      <th></th>\n",
       "      <th></th>\n",
       "      <th></th>\n",
       "      <th></th>\n",
       "      <th></th>\n",
       "      <th></th>\n",
       "      <th></th>\n",
       "      <th></th>\n",
       "      <th></th>\n",
       "      <th></th>\n",
       "      <th></th>\n",
       "      <th></th>\n",
       "      <th></th>\n",
       "    </tr>\n",
       "  </thead>\n",
       "  <tbody>\n",
       "    <tr>\n",
       "      <th>704844</th>\n",
       "      <td>SEVEN HILLS</td>\n",
       "      <td>44131</td>\n",
       "      <td>NOPTY</td>\n",
       "      <td>1959</td>\n",
       "      <td>3</td>\n",
       "      <td>1</td>\n",
       "      <td>0</td>\n",
       "      <td>1</td>\n",
       "      <td>3</td>\n",
       "      <td>1</td>\n",
       "      <td>0</td>\n",
       "      <td>1</td>\n",
       "      <td>Boomers</td>\n",
       "    </tr>\n",
       "    <tr>\n",
       "      <th>1658758</th>\n",
       "      <td>PARMA</td>\n",
       "      <td>44130</td>\n",
       "      <td>REP</td>\n",
       "      <td>1968</td>\n",
       "      <td>3</td>\n",
       "      <td>1</td>\n",
       "      <td>1</td>\n",
       "      <td>1</td>\n",
       "      <td>1</td>\n",
       "      <td>1</td>\n",
       "      <td>0</td>\n",
       "      <td>1</td>\n",
       "      <td>Generation X</td>\n",
       "    </tr>\n",
       "    <tr>\n",
       "      <th>2005536</th>\n",
       "      <td>BROADVIEW HTS</td>\n",
       "      <td>44147</td>\n",
       "      <td>REP</td>\n",
       "      <td>1976</td>\n",
       "      <td>3</td>\n",
       "      <td>1</td>\n",
       "      <td>1</td>\n",
       "      <td>1</td>\n",
       "      <td>1</td>\n",
       "      <td>1</td>\n",
       "      <td>0</td>\n",
       "      <td>1</td>\n",
       "      <td>Generation X</td>\n",
       "    </tr>\n",
       "    <tr>\n",
       "      <th>2465762</th>\n",
       "      <td>SOLON</td>\n",
       "      <td>44139</td>\n",
       "      <td>NOPTY</td>\n",
       "      <td>1991</td>\n",
       "      <td>3</td>\n",
       "      <td>0</td>\n",
       "      <td>3</td>\n",
       "      <td>0</td>\n",
       "      <td>3</td>\n",
       "      <td>1</td>\n",
       "      <td>3</td>\n",
       "      <td>0</td>\n",
       "      <td>Millennials</td>\n",
       "    </tr>\n",
       "    <tr>\n",
       "      <th>710633</th>\n",
       "      <td>INDEPENDENCE</td>\n",
       "      <td>44131</td>\n",
       "      <td>REP</td>\n",
       "      <td>1968</td>\n",
       "      <td>3</td>\n",
       "      <td>1</td>\n",
       "      <td>1</td>\n",
       "      <td>1</td>\n",
       "      <td>1</td>\n",
       "      <td>1</td>\n",
       "      <td>3</td>\n",
       "      <td>1</td>\n",
       "      <td>Generation X</td>\n",
       "    </tr>\n",
       "  </tbody>\n",
       "</table>\n",
       "</div>"
      ],
      "text/plain": [
       "                   City  Zip_Code  Party  Birth_Year  Primary_Election_2020  \\\n",
       "Voter_ID                                                                      \n",
       "704844      SEVEN HILLS     44131  NOPTY        1959                      3   \n",
       "1658758           PARMA     44130    REP        1968                      3   \n",
       "2005536   BROADVIEW HTS     44147    REP        1976                      3   \n",
       "2465762           SOLON     44139  NOPTY        1991                      3   \n",
       "710633     INDEPENDENCE     44131    REP        1968                      3   \n",
       "\n",
       "          General_Election_2020  Primary_Election_2016  General_Election_2016  \\\n",
       "Voter_ID                                                                        \n",
       "704844                        1                      0                      1   \n",
       "1658758                       1                      1                      1   \n",
       "2005536                       1                      1                      1   \n",
       "2465762                       0                      3                      0   \n",
       "710633                        1                      1                      1   \n",
       "\n",
       "          Primary_Election_2012  General_Election_2012  Primary_Election_2008  \\\n",
       "Voter_ID                                                                        \n",
       "704844                        3                      1                      0   \n",
       "1658758                       1                      1                      0   \n",
       "2005536                       1                      1                      0   \n",
       "2465762                       3                      1                      3   \n",
       "710633                        1                      1                      3   \n",
       "\n",
       "          General_Election_2008 Generational_Group  \n",
       "Voter_ID                                            \n",
       "704844                        1            Boomers  \n",
       "1658758                       1       Generation X  \n",
       "2005536                       1       Generation X  \n",
       "2465762                       0        Millennials  \n",
       "710633                        1       Generation X  "
      ]
     },
     "execution_count": 9,
     "metadata": {},
     "output_type": "execute_result"
    }
   ],
   "source": [
    "ml_df.head()"
   ]
  },
  {
   "cell_type": "code",
   "execution_count": 10,
   "metadata": {},
   "outputs": [
    {
     "data": {
      "text/plain": [
       "array(['NOPTY', 'REP', 'DEM', 'GRE', 'LIB'], dtype=object)"
      ]
     },
     "execution_count": 10,
     "metadata": {},
     "output_type": "execute_result"
    }
   ],
   "source": [
    "ml_df[\"Party\"].unique()"
   ]
  },
  {
   "cell_type": "code",
   "execution_count": 11,
   "metadata": {},
   "outputs": [
    {
     "data": {
      "text/html": [
       "<div>\n",
       "<style scoped>\n",
       "    .dataframe tbody tr th:only-of-type {\n",
       "        vertical-align: middle;\n",
       "    }\n",
       "\n",
       "    .dataframe tbody tr th {\n",
       "        vertical-align: top;\n",
       "    }\n",
       "\n",
       "    .dataframe thead th {\n",
       "        text-align: right;\n",
       "    }\n",
       "</style>\n",
       "<table border=\"1\" class=\"dataframe\">\n",
       "  <thead>\n",
       "    <tr style=\"text-align: right;\">\n",
       "      <th></th>\n",
       "      <th>City</th>\n",
       "      <th>Zip_Code</th>\n",
       "      <th>Party</th>\n",
       "      <th>Birth_Year</th>\n",
       "      <th>Primary_Election_2020</th>\n",
       "      <th>General_Election_2020</th>\n",
       "      <th>Primary_Election_2016</th>\n",
       "      <th>General_Election_2016</th>\n",
       "      <th>Primary_Election_2012</th>\n",
       "      <th>General_Election_2012</th>\n",
       "      <th>Primary_Election_2008</th>\n",
       "      <th>General_Election_2008</th>\n",
       "      <th>Generational_Group</th>\n",
       "    </tr>\n",
       "    <tr>\n",
       "      <th>Voter_ID</th>\n",
       "      <th></th>\n",
       "      <th></th>\n",
       "      <th></th>\n",
       "      <th></th>\n",
       "      <th></th>\n",
       "      <th></th>\n",
       "      <th></th>\n",
       "      <th></th>\n",
       "      <th></th>\n",
       "      <th></th>\n",
       "      <th></th>\n",
       "      <th></th>\n",
       "      <th></th>\n",
       "    </tr>\n",
       "  </thead>\n",
       "  <tbody>\n",
       "    <tr>\n",
       "      <th>704844</th>\n",
       "      <td>SEVEN HILLS</td>\n",
       "      <td>44131</td>\n",
       "      <td>3</td>\n",
       "      <td>1959</td>\n",
       "      <td>3</td>\n",
       "      <td>1</td>\n",
       "      <td>0</td>\n",
       "      <td>1</td>\n",
       "      <td>3</td>\n",
       "      <td>1</td>\n",
       "      <td>0</td>\n",
       "      <td>1</td>\n",
       "      <td>Boomers</td>\n",
       "    </tr>\n",
       "    <tr>\n",
       "      <th>1658758</th>\n",
       "      <td>PARMA</td>\n",
       "      <td>44130</td>\n",
       "      <td>1</td>\n",
       "      <td>1968</td>\n",
       "      <td>3</td>\n",
       "      <td>1</td>\n",
       "      <td>1</td>\n",
       "      <td>1</td>\n",
       "      <td>1</td>\n",
       "      <td>1</td>\n",
       "      <td>0</td>\n",
       "      <td>1</td>\n",
       "      <td>Generation X</td>\n",
       "    </tr>\n",
       "    <tr>\n",
       "      <th>2005536</th>\n",
       "      <td>BROADVIEW HTS</td>\n",
       "      <td>44147</td>\n",
       "      <td>1</td>\n",
       "      <td>1976</td>\n",
       "      <td>3</td>\n",
       "      <td>1</td>\n",
       "      <td>1</td>\n",
       "      <td>1</td>\n",
       "      <td>1</td>\n",
       "      <td>1</td>\n",
       "      <td>0</td>\n",
       "      <td>1</td>\n",
       "      <td>Generation X</td>\n",
       "    </tr>\n",
       "    <tr>\n",
       "      <th>2465762</th>\n",
       "      <td>SOLON</td>\n",
       "      <td>44139</td>\n",
       "      <td>3</td>\n",
       "      <td>1991</td>\n",
       "      <td>3</td>\n",
       "      <td>0</td>\n",
       "      <td>3</td>\n",
       "      <td>0</td>\n",
       "      <td>3</td>\n",
       "      <td>1</td>\n",
       "      <td>3</td>\n",
       "      <td>0</td>\n",
       "      <td>Millennials</td>\n",
       "    </tr>\n",
       "    <tr>\n",
       "      <th>710633</th>\n",
       "      <td>INDEPENDENCE</td>\n",
       "      <td>44131</td>\n",
       "      <td>1</td>\n",
       "      <td>1968</td>\n",
       "      <td>3</td>\n",
       "      <td>1</td>\n",
       "      <td>1</td>\n",
       "      <td>1</td>\n",
       "      <td>1</td>\n",
       "      <td>1</td>\n",
       "      <td>3</td>\n",
       "      <td>1</td>\n",
       "      <td>Generation X</td>\n",
       "    </tr>\n",
       "  </tbody>\n",
       "</table>\n",
       "</div>"
      ],
      "text/plain": [
       "                   City  Zip_Code  Party  Birth_Year  Primary_Election_2020  \\\n",
       "Voter_ID                                                                      \n",
       "704844      SEVEN HILLS     44131      3        1959                      3   \n",
       "1658758           PARMA     44130      1        1968                      3   \n",
       "2005536   BROADVIEW HTS     44147      1        1976                      3   \n",
       "2465762           SOLON     44139      3        1991                      3   \n",
       "710633     INDEPENDENCE     44131      1        1968                      3   \n",
       "\n",
       "          General_Election_2020  Primary_Election_2016  General_Election_2016  \\\n",
       "Voter_ID                                                                        \n",
       "704844                        1                      0                      1   \n",
       "1658758                       1                      1                      1   \n",
       "2005536                       1                      1                      1   \n",
       "2465762                       0                      3                      0   \n",
       "710633                        1                      1                      1   \n",
       "\n",
       "          Primary_Election_2012  General_Election_2012  Primary_Election_2008  \\\n",
       "Voter_ID                                                                        \n",
       "704844                        3                      1                      0   \n",
       "1658758                       1                      1                      0   \n",
       "2005536                       1                      1                      0   \n",
       "2465762                       3                      1                      3   \n",
       "710633                        1                      1                      3   \n",
       "\n",
       "          General_Election_2008 Generational_Group  \n",
       "Voter_ID                                            \n",
       "704844                        1            Boomers  \n",
       "1658758                       1       Generation X  \n",
       "2005536                       1       Generation X  \n",
       "2465762                       0        Millennials  \n",
       "710633                        1       Generation X  "
      ]
     },
     "execution_count": 11,
     "metadata": {},
     "output_type": "execute_result"
    }
   ],
   "source": [
    "# Handle Categorical \"Party\" columns\n",
    "P_ID = {\"DEM\": 0, \"REP\": 1,\"LIB\": 2, \"NOPTY\": 3, \"GRE\": 4}\n",
    "ml_df[\"Party\"] = ml_df[\"Party\"].apply(lambda x:P_ID[x])\n",
    "ml_df.head()"
   ]
  },
  {
   "cell_type": "code",
   "execution_count": 48,
   "metadata": {
    "scrolled": true
   },
   "outputs": [
    {
     "data": {
      "text/html": [
       "<div>\n",
       "<style scoped>\n",
       "    .dataframe tbody tr th:only-of-type {\n",
       "        vertical-align: middle;\n",
       "    }\n",
       "\n",
       "    .dataframe tbody tr th {\n",
       "        vertical-align: top;\n",
       "    }\n",
       "\n",
       "    .dataframe thead th {\n",
       "        text-align: right;\n",
       "    }\n",
       "</style>\n",
       "<table border=\"1\" class=\"dataframe\">\n",
       "  <thead>\n",
       "    <tr style=\"text-align: right;\">\n",
       "      <th></th>\n",
       "      <th>City</th>\n",
       "      <th>Zip_Code</th>\n",
       "      <th>Party</th>\n",
       "      <th>Birth_Year</th>\n",
       "      <th>Primary_Election_2020</th>\n",
       "      <th>General_Election_2020</th>\n",
       "      <th>Primary_Election_2016</th>\n",
       "      <th>General_Election_2016</th>\n",
       "      <th>Primary_Election_2012</th>\n",
       "      <th>General_Election_2012</th>\n",
       "      <th>Primary_Election_2008</th>\n",
       "      <th>General_Election_2008</th>\n",
       "      <th>Generational_Groups</th>\n",
       "    </tr>\n",
       "    <tr>\n",
       "      <th>Voter_ID</th>\n",
       "      <th></th>\n",
       "      <th></th>\n",
       "      <th></th>\n",
       "      <th></th>\n",
       "      <th></th>\n",
       "      <th></th>\n",
       "      <th></th>\n",
       "      <th></th>\n",
       "      <th></th>\n",
       "      <th></th>\n",
       "      <th></th>\n",
       "      <th></th>\n",
       "      <th></th>\n",
       "    </tr>\n",
       "  </thead>\n",
       "  <tbody>\n",
       "    <tr>\n",
       "      <th>704844</th>\n",
       "      <td>1</td>\n",
       "      <td>44131</td>\n",
       "      <td>3</td>\n",
       "      <td>1959</td>\n",
       "      <td>3</td>\n",
       "      <td>1</td>\n",
       "      <td>0</td>\n",
       "      <td>1</td>\n",
       "      <td>3</td>\n",
       "      <td>1</td>\n",
       "      <td>0</td>\n",
       "      <td>1</td>\n",
       "      <td>2</td>\n",
       "    </tr>\n",
       "    <tr>\n",
       "      <th>1658758</th>\n",
       "      <td>2</td>\n",
       "      <td>44130</td>\n",
       "      <td>1</td>\n",
       "      <td>1968</td>\n",
       "      <td>3</td>\n",
       "      <td>1</td>\n",
       "      <td>1</td>\n",
       "      <td>1</td>\n",
       "      <td>1</td>\n",
       "      <td>1</td>\n",
       "      <td>0</td>\n",
       "      <td>1</td>\n",
       "      <td>3</td>\n",
       "    </tr>\n",
       "    <tr>\n",
       "      <th>2005536</th>\n",
       "      <td>3</td>\n",
       "      <td>44147</td>\n",
       "      <td>1</td>\n",
       "      <td>1976</td>\n",
       "      <td>3</td>\n",
       "      <td>1</td>\n",
       "      <td>1</td>\n",
       "      <td>1</td>\n",
       "      <td>1</td>\n",
       "      <td>1</td>\n",
       "      <td>0</td>\n",
       "      <td>1</td>\n",
       "      <td>3</td>\n",
       "    </tr>\n",
       "    <tr>\n",
       "      <th>2465762</th>\n",
       "      <td>4</td>\n",
       "      <td>44139</td>\n",
       "      <td>3</td>\n",
       "      <td>1991</td>\n",
       "      <td>3</td>\n",
       "      <td>0</td>\n",
       "      <td>3</td>\n",
       "      <td>0</td>\n",
       "      <td>3</td>\n",
       "      <td>1</td>\n",
       "      <td>3</td>\n",
       "      <td>0</td>\n",
       "      <td>4</td>\n",
       "    </tr>\n",
       "    <tr>\n",
       "      <th>710633</th>\n",
       "      <td>5</td>\n",
       "      <td>44131</td>\n",
       "      <td>1</td>\n",
       "      <td>1968</td>\n",
       "      <td>3</td>\n",
       "      <td>1</td>\n",
       "      <td>1</td>\n",
       "      <td>1</td>\n",
       "      <td>1</td>\n",
       "      <td>1</td>\n",
       "      <td>3</td>\n",
       "      <td>1</td>\n",
       "      <td>3</td>\n",
       "    </tr>\n",
       "  </tbody>\n",
       "</table>\n",
       "</div>"
      ],
      "text/plain": [
       "          City  Zip_Code  Party  Birth_Year  Primary_Election_2020  \\\n",
       "Voter_ID                                                             \n",
       "704844       1     44131      3        1959                      3   \n",
       "1658758      2     44130      1        1968                      3   \n",
       "2005536      3     44147      1        1976                      3   \n",
       "2465762      4     44139      3        1991                      3   \n",
       "710633       5     44131      1        1968                      3   \n",
       "\n",
       "          General_Election_2020  Primary_Election_2016  General_Election_2016  \\\n",
       "Voter_ID                                                                        \n",
       "704844                        1                      0                      1   \n",
       "1658758                       1                      1                      1   \n",
       "2005536                       1                      1                      1   \n",
       "2465762                       0                      3                      0   \n",
       "710633                        1                      1                      1   \n",
       "\n",
       "          Primary_Election_2012  General_Election_2012  Primary_Election_2008  \\\n",
       "Voter_ID                                                                        \n",
       "704844                        3                      1                      0   \n",
       "1658758                       1                      1                      0   \n",
       "2005536                       1                      1                      0   \n",
       "2465762                       3                      1                      3   \n",
       "710633                        1                      1                      3   \n",
       "\n",
       "          General_Election_2008 Generational_Groups  \n",
       "Voter_ID                                             \n",
       "704844                        1                   2  \n",
       "1658758                       1                   3  \n",
       "2005536                       1                   3  \n",
       "2465762                       0                   4  \n",
       "710633                        1                   3  "
      ]
     },
     "execution_count": 48,
     "metadata": {},
     "output_type": "execute_result"
    }
   ],
   "source": [
    "group = {\"Silent\": 1,\"Boomers\": 2, \"Generation X\": 3, \"Millenials\": 4, \"Generation Z\": 5}\n",
    "ml_df[\"Generational_Groups\"] = ml_df[\"Generational_Groups\"].apply(lambda x:group[x])\n",
    "ml_df.head()"
   ]
  },
  {
   "cell_type": "code",
   "execution_count": 49,
   "metadata": {},
   "outputs": [
    {
     "data": {
      "text/plain": [
       "array([ 1,  2,  3,  4,  5,  6,  7,  8,  9, 10, 11, 12, 13, 14, 15, 16, 17,\n",
       "       18, 19, 20, 21, 22, 23, 24, 25, 27, 28, 29, 30, 31, 32, 33, 34, 35,\n",
       "       36, 37, 38, 39, 40, 41, 42, 43, 44, 45, 46, 47, 48, 49, 50, 51, 52,\n",
       "       53, 54, 55, 56, 57, 58])"
      ]
     },
     "execution_count": 49,
     "metadata": {},
     "output_type": "execute_result"
    }
   ],
   "source": [
    "ml_df[\"City\"].unique()"
   ]
  },
  {
   "cell_type": "code",
   "execution_count": 52,
   "metadata": {},
   "outputs": [],
   "source": [
    "# Code the cities to unique #s\n",
    "cities = {'SEVEN HILLS': 1, 'PARMA': 2, 'BROADVIEW HTS': 3, 'SOLON': 4, 'INDEPENDENCE': 5,\n",
    "       'EUCLID': 6, 'CLEVELAND HTS': 7, 'GARFIELD HTS': 8, 'CLEVELAND': 9,\n",
    "       'ROCKY RIVER': 10, 'WESTLAKE': 11, 'ORANGE': 12, 'PEPPER PIKE':13, 'MAPLE HTS':14,\n",
    "       'EAST CLEVELAND':15, 'BROOK PARK':16, 'NORTH ROYALTON':17, 'HIGHLAND HTS':18,\n",
    "       'WARRENSVILLE HTS':19, 'FAIRVIEW PARK':20, 'SOUTH EUCLID':21, 'BEREA':22,\n",
    "       'MIDDLEBURG HTS':23, 'LAKEWOOD':24, 'LYNDHURST':25, 'SHAKER HTS':25,\n",
    "       'BROOKLYN':27, 'OLMSTED FALLS':28, 'UNIVERSITY HTS':29, 'GATES MILLS':30,\n",
    "       'MAYFIELD HTS':31, 'PARMA HTS':32, 'BEACHWOOD':33, 'RICHMOND HTS':33,\n",
    "       'BRECKSVILLE':34, 'BEDFORD':35, 'BEDFORD HTS':36, 'OAKWOOD':37,\n",
    "       'NORTH OLMSTED':38, 'OLMSTED TWP':39, 'STRONGSVILLE':40, 'BROOKLYN HTS':41,\n",
    "       'NEWBURGH HTS':42, 'BAY VILLAGE':43, 'MORELAND HILLS':44, 'WALTON HILLS':45,\n",
    "       'CUYAHOGA HTS':46, 'VALLEY VIEW':47, 'MAYFIELD VILLAGE':48, 'BENTLEYVILLE':49,\n",
    "       'GLENWILLOW':50, 'CHAGRIN FALLS':51, 'HUNTING VALLEY':52, 'BRATENAHL':53,\n",
    "       'WOODMERE':54, 'HIGHLAND HILLS':55, 'NORTH RANDALL':56, 'LINNDALE': 57,\n",
    "       'CHAGRIN FALLS TWP': 58}\n",
    "\n",
    "ml_df[\"City\"] = ml_df[\"City\"].apply(lambda x:cities[x])\n"
   ]
  },
  {
   "cell_type": "code",
   "execution_count": 51,
   "metadata": {},
   "outputs": [
    {
     "name": "stdout",
     "output_type": "stream",
     "text": [
      "<class 'pandas.core.frame.DataFrame'>\n",
      "Int64Index: 870075 entries, 704844 to 3017222\n",
      "Data columns (total 13 columns):\n",
      " #   Column                 Non-Null Count   Dtype   \n",
      "---  ------                 --------------   -----   \n",
      " 0   City                   870075 non-null  int64   \n",
      " 1   Zip_Code               870075 non-null  int64   \n",
      " 2   Party                  870075 non-null  int64   \n",
      " 3   Birth_Year             870075 non-null  int64   \n",
      " 4   Primary_Election_2020  870075 non-null  int64   \n",
      " 5   General_Election_2020  870075 non-null  int64   \n",
      " 6   Primary_Election_2016  870075 non-null  int64   \n",
      " 7   General_Election_2016  870075 non-null  int64   \n",
      " 8   Primary_Election_2012  870075 non-null  int64   \n",
      " 9   General_Election_2012  870075 non-null  int64   \n",
      " 10  Primary_Election_2008  870075 non-null  int64   \n",
      " 11  General_Election_2008  870075 non-null  int64   \n",
      " 12  Generational_Groups    870075 non-null  category\n",
      "dtypes: category(1), int64(12)\n",
      "memory usage: 87.1 MB\n"
     ]
    }
   ],
   "source": [
    "ml_df.info()"
   ]
  },
  {
   "cell_type": "code",
   "execution_count": null,
   "metadata": {},
   "outputs": [],
   "source": []
  },
  {
   "cell_type": "code",
   "execution_count": null,
   "metadata": {},
   "outputs": [],
   "source": []
  },
  {
   "cell_type": "code",
   "execution_count": 53,
   "metadata": {},
   "outputs": [
    {
     "data": {
      "text/plain": [
       "1990    18098\n",
       "1991    18025\n",
       "1992    17816\n",
       "1993    17563\n",
       "1989    17524\n",
       "        ...  \n",
       "1931     2071\n",
       "1930     1877\n",
       "2004     1567\n",
       "1929     1459\n",
       "1928     1234\n",
       "Name: Birth_Year, Length: 77, dtype: int64"
      ]
     },
     "execution_count": 53,
     "metadata": {},
     "output_type": "execute_result"
    }
   ],
   "source": [
    "ml_df[\"Birth_Year\"].value_counts()"
   ]
  },
  {
   "cell_type": "code",
   "execution_count": 54,
   "metadata": {},
   "outputs": [
    {
     "data": {
      "text/plain": [
       "General_Election_2020    1.000000\n",
       "General_Election_2016    0.434058\n",
       "General_Election_2012    0.340591\n",
       "General_Election_2008    0.335148\n",
       "City                     0.109691\n",
       "Zip_Code                 0.051428\n",
       "Primary_Election_2012   -0.241401\n",
       "Birth_Year              -0.279956\n",
       "Primary_Election_2008   -0.287192\n",
       "Primary_Election_2020   -0.306218\n",
       "Primary_Election_2016   -0.335290\n",
       "Party                   -0.389422\n",
       "Name: General_Election_2020, dtype: float64"
      ]
     },
     "execution_count": 54,
     "metadata": {},
     "output_type": "execute_result"
    }
   ],
   "source": [
    "corr_matrix = ml_df.corr()\n",
    "corr_matrix['General_Election_2020'].sort_values(ascending=False)"
   ]
  },
  {
   "cell_type": "code",
   "execution_count": 55,
   "metadata": {},
   "outputs": [
    {
     "data": {
      "text/plain": [
       "City\n",
       "1     81.608154\n",
       "2     73.561847\n",
       "3     78.779009\n",
       "4     81.140451\n",
       "5     85.096565\n",
       "6     66.864696\n",
       "7     72.391677\n",
       "8     63.959750\n",
       "9     55.112270\n",
       "10    80.988781\n",
       "11    79.794409\n",
       "12    83.916084\n",
       "13    84.975051\n",
       "14    64.378409\n",
       "15    50.058502\n",
       "16    67.875820\n",
       "17    78.303649\n",
       "18    85.876043\n",
       "19    63.724971\n",
       "20    82.075091\n",
       "21    75.049581\n",
       "22    76.277460\n",
       "23    79.831382\n",
       "24    74.610427\n",
       "25    78.879323\n",
       "27    70.823146\n",
       "28    78.317001\n",
       "29    75.465733\n",
       "30    83.234127\n",
       "31    74.817203\n",
       "32    68.431896\n",
       "33    77.107818\n",
       "34    85.034642\n",
       "35    68.376262\n",
       "36    69.693349\n",
       "37    76.758180\n",
       "38    76.959950\n",
       "39    78.944693\n",
       "40    80.406759\n",
       "41    85.688730\n",
       "42    62.841016\n",
       "43    84.670882\n",
       "44    84.692180\n",
       "45    84.228769\n",
       "46    72.749392\n",
       "47    85.622179\n",
       "48    84.481394\n",
       "49    83.776596\n",
       "50    77.668309\n",
       "51    78.402107\n",
       "52    82.022472\n",
       "53    84.028892\n",
       "54    68.972746\n",
       "55    72.745098\n",
       "56    67.394696\n",
       "57    41.666667\n",
       "58    78.378378\n",
       "Name: General_Election_2020, dtype: float64"
      ]
     },
     "execution_count": 55,
     "metadata": {},
     "output_type": "execute_result"
    }
   ],
   "source": [
    "# Calculate the percent voting by City during 2020 Election.\n",
    "per_city= ml_df.groupby([\"City\"]).mean()[\"General_Election_2020\"]*100\n",
    "per_city"
   ]
  },
  {
   "cell_type": "code",
   "execution_count": 56,
   "metadata": {},
   "outputs": [
    {
     "data": {
      "text/html": [
       "<div>\n",
       "<style scoped>\n",
       "    .dataframe tbody tr th:only-of-type {\n",
       "        vertical-align: middle;\n",
       "    }\n",
       "\n",
       "    .dataframe tbody tr th {\n",
       "        vertical-align: top;\n",
       "    }\n",
       "\n",
       "    .dataframe thead th {\n",
       "        text-align: right;\n",
       "    }\n",
       "</style>\n",
       "<table border=\"1\" class=\"dataframe\">\n",
       "  <thead>\n",
       "    <tr style=\"text-align: right;\">\n",
       "      <th></th>\n",
       "      <th>General_Election_2020</th>\n",
       "    </tr>\n",
       "    <tr>\n",
       "      <th>City</th>\n",
       "      <th></th>\n",
       "    </tr>\n",
       "  </thead>\n",
       "  <tbody>\n",
       "    <tr>\n",
       "      <th>18</th>\n",
       "      <td>0.858760</td>\n",
       "    </tr>\n",
       "    <tr>\n",
       "      <th>41</th>\n",
       "      <td>0.856887</td>\n",
       "    </tr>\n",
       "    <tr>\n",
       "      <th>47</th>\n",
       "      <td>0.856222</td>\n",
       "    </tr>\n",
       "    <tr>\n",
       "      <th>5</th>\n",
       "      <td>0.850966</td>\n",
       "    </tr>\n",
       "    <tr>\n",
       "      <th>34</th>\n",
       "      <td>0.850346</td>\n",
       "    </tr>\n",
       "    <tr>\n",
       "      <th>13</th>\n",
       "      <td>0.849751</td>\n",
       "    </tr>\n",
       "    <tr>\n",
       "      <th>44</th>\n",
       "      <td>0.846922</td>\n",
       "    </tr>\n",
       "    <tr>\n",
       "      <th>43</th>\n",
       "      <td>0.846709</td>\n",
       "    </tr>\n",
       "    <tr>\n",
       "      <th>48</th>\n",
       "      <td>0.844814</td>\n",
       "    </tr>\n",
       "    <tr>\n",
       "      <th>45</th>\n",
       "      <td>0.842288</td>\n",
       "    </tr>\n",
       "    <tr>\n",
       "      <th>53</th>\n",
       "      <td>0.840289</td>\n",
       "    </tr>\n",
       "    <tr>\n",
       "      <th>12</th>\n",
       "      <td>0.839161</td>\n",
       "    </tr>\n",
       "    <tr>\n",
       "      <th>49</th>\n",
       "      <td>0.837766</td>\n",
       "    </tr>\n",
       "    <tr>\n",
       "      <th>30</th>\n",
       "      <td>0.832341</td>\n",
       "    </tr>\n",
       "    <tr>\n",
       "      <th>20</th>\n",
       "      <td>0.820751</td>\n",
       "    </tr>\n",
       "    <tr>\n",
       "      <th>52</th>\n",
       "      <td>0.820225</td>\n",
       "    </tr>\n",
       "    <tr>\n",
       "      <th>1</th>\n",
       "      <td>0.816082</td>\n",
       "    </tr>\n",
       "    <tr>\n",
       "      <th>4</th>\n",
       "      <td>0.811405</td>\n",
       "    </tr>\n",
       "    <tr>\n",
       "      <th>10</th>\n",
       "      <td>0.809888</td>\n",
       "    </tr>\n",
       "    <tr>\n",
       "      <th>40</th>\n",
       "      <td>0.804068</td>\n",
       "    </tr>\n",
       "    <tr>\n",
       "      <th>23</th>\n",
       "      <td>0.798314</td>\n",
       "    </tr>\n",
       "    <tr>\n",
       "      <th>11</th>\n",
       "      <td>0.797944</td>\n",
       "    </tr>\n",
       "    <tr>\n",
       "      <th>39</th>\n",
       "      <td>0.789447</td>\n",
       "    </tr>\n",
       "    <tr>\n",
       "      <th>25</th>\n",
       "      <td>0.788793</td>\n",
       "    </tr>\n",
       "    <tr>\n",
       "      <th>3</th>\n",
       "      <td>0.787790</td>\n",
       "    </tr>\n",
       "    <tr>\n",
       "      <th>51</th>\n",
       "      <td>0.784021</td>\n",
       "    </tr>\n",
       "    <tr>\n",
       "      <th>58</th>\n",
       "      <td>0.783784</td>\n",
       "    </tr>\n",
       "    <tr>\n",
       "      <th>28</th>\n",
       "      <td>0.783170</td>\n",
       "    </tr>\n",
       "    <tr>\n",
       "      <th>17</th>\n",
       "      <td>0.783036</td>\n",
       "    </tr>\n",
       "    <tr>\n",
       "      <th>50</th>\n",
       "      <td>0.776683</td>\n",
       "    </tr>\n",
       "    <tr>\n",
       "      <th>33</th>\n",
       "      <td>0.771078</td>\n",
       "    </tr>\n",
       "    <tr>\n",
       "      <th>38</th>\n",
       "      <td>0.769599</td>\n",
       "    </tr>\n",
       "    <tr>\n",
       "      <th>37</th>\n",
       "      <td>0.767582</td>\n",
       "    </tr>\n",
       "    <tr>\n",
       "      <th>22</th>\n",
       "      <td>0.762775</td>\n",
       "    </tr>\n",
       "    <tr>\n",
       "      <th>29</th>\n",
       "      <td>0.754657</td>\n",
       "    </tr>\n",
       "    <tr>\n",
       "      <th>21</th>\n",
       "      <td>0.750496</td>\n",
       "    </tr>\n",
       "    <tr>\n",
       "      <th>31</th>\n",
       "      <td>0.748172</td>\n",
       "    </tr>\n",
       "    <tr>\n",
       "      <th>24</th>\n",
       "      <td>0.746104</td>\n",
       "    </tr>\n",
       "    <tr>\n",
       "      <th>2</th>\n",
       "      <td>0.735618</td>\n",
       "    </tr>\n",
       "    <tr>\n",
       "      <th>46</th>\n",
       "      <td>0.727494</td>\n",
       "    </tr>\n",
       "    <tr>\n",
       "      <th>55</th>\n",
       "      <td>0.727451</td>\n",
       "    </tr>\n",
       "    <tr>\n",
       "      <th>7</th>\n",
       "      <td>0.723917</td>\n",
       "    </tr>\n",
       "    <tr>\n",
       "      <th>27</th>\n",
       "      <td>0.708231</td>\n",
       "    </tr>\n",
       "    <tr>\n",
       "      <th>36</th>\n",
       "      <td>0.696933</td>\n",
       "    </tr>\n",
       "    <tr>\n",
       "      <th>54</th>\n",
       "      <td>0.689727</td>\n",
       "    </tr>\n",
       "    <tr>\n",
       "      <th>32</th>\n",
       "      <td>0.684319</td>\n",
       "    </tr>\n",
       "    <tr>\n",
       "      <th>35</th>\n",
       "      <td>0.683763</td>\n",
       "    </tr>\n",
       "    <tr>\n",
       "      <th>16</th>\n",
       "      <td>0.678758</td>\n",
       "    </tr>\n",
       "    <tr>\n",
       "      <th>56</th>\n",
       "      <td>0.673947</td>\n",
       "    </tr>\n",
       "    <tr>\n",
       "      <th>6</th>\n",
       "      <td>0.668647</td>\n",
       "    </tr>\n",
       "    <tr>\n",
       "      <th>14</th>\n",
       "      <td>0.643784</td>\n",
       "    </tr>\n",
       "    <tr>\n",
       "      <th>8</th>\n",
       "      <td>0.639597</td>\n",
       "    </tr>\n",
       "    <tr>\n",
       "      <th>19</th>\n",
       "      <td>0.637250</td>\n",
       "    </tr>\n",
       "    <tr>\n",
       "      <th>42</th>\n",
       "      <td>0.628410</td>\n",
       "    </tr>\n",
       "    <tr>\n",
       "      <th>9</th>\n",
       "      <td>0.551123</td>\n",
       "    </tr>\n",
       "    <tr>\n",
       "      <th>15</th>\n",
       "      <td>0.500585</td>\n",
       "    </tr>\n",
       "    <tr>\n",
       "      <th>57</th>\n",
       "      <td>0.416667</td>\n",
       "    </tr>\n",
       "  </tbody>\n",
       "</table>\n",
       "</div>"
      ],
      "text/plain": [
       "      General_Election_2020\n",
       "City                       \n",
       "18                 0.858760\n",
       "41                 0.856887\n",
       "47                 0.856222\n",
       "5                  0.850966\n",
       "34                 0.850346\n",
       "13                 0.849751\n",
       "44                 0.846922\n",
       "43                 0.846709\n",
       "48                 0.844814\n",
       "45                 0.842288\n",
       "53                 0.840289\n",
       "12                 0.839161\n",
       "49                 0.837766\n",
       "30                 0.832341\n",
       "20                 0.820751\n",
       "52                 0.820225\n",
       "1                  0.816082\n",
       "4                  0.811405\n",
       "10                 0.809888\n",
       "40                 0.804068\n",
       "23                 0.798314\n",
       "11                 0.797944\n",
       "39                 0.789447\n",
       "25                 0.788793\n",
       "3                  0.787790\n",
       "51                 0.784021\n",
       "58                 0.783784\n",
       "28                 0.783170\n",
       "17                 0.783036\n",
       "50                 0.776683\n",
       "33                 0.771078\n",
       "38                 0.769599\n",
       "37                 0.767582\n",
       "22                 0.762775\n",
       "29                 0.754657\n",
       "21                 0.750496\n",
       "31                 0.748172\n",
       "24                 0.746104\n",
       "2                  0.735618\n",
       "46                 0.727494\n",
       "55                 0.727451\n",
       "7                  0.723917\n",
       "27                 0.708231\n",
       "36                 0.696933\n",
       "54                 0.689727\n",
       "32                 0.684319\n",
       "35                 0.683763\n",
       "16                 0.678758\n",
       "56                 0.673947\n",
       "6                  0.668647\n",
       "14                 0.643784\n",
       "8                  0.639597\n",
       "19                 0.637250\n",
       "42                 0.628410\n",
       "9                  0.551123\n",
       "15                 0.500585\n",
       "57                 0.416667"
      ]
     },
     "execution_count": 56,
     "metadata": {},
     "output_type": "execute_result"
    }
   ],
   "source": [
    "ml_df[[\"City\", \"General_Election_2020\"]].groupby([\"City\"], as_index=True).mean().sort_values(by=\"General_Election_2020\", ascending=False)\n"
   ]
  },
  {
   "cell_type": "code",
   "execution_count": 57,
   "metadata": {},
   "outputs": [
    {
     "data": {
      "image/png": "[encoded data removed]",
      "text/plain": [
       "<Figure size 1080x576 with 2 Axes>"
      ]
     },
     "metadata": {
      "needs_background": "light"
     },
     "output_type": "display_data"
    }
   ],
   "source": [
    "import matplotlib.pyplot as plt\n",
    "%matplotlib inline\n",
    "plt.subplots(figsize = (15,8))\n",
    "sb.heatmap(ml_df.corr(), annot=True,cmap=\"PiYG\")\n",
    "plt.title(\"Correlations Among Features\", fontsize = 20);"
   ]
  },
  {
   "cell_type": "code",
   "execution_count": 58,
   "metadata": {},
   "outputs": [
    {
     "data": {
      "text/html": [
       "<div>\n",
       "<style scoped>\n",
       "    .dataframe tbody tr th:only-of-type {\n",
       "        vertical-align: middle;\n",
       "    }\n",
       "\n",
       "    .dataframe tbody tr th {\n",
       "        vertical-align: top;\n",
       "    }\n",
       "\n",
       "    .dataframe thead th {\n",
       "        text-align: right;\n",
       "    }\n",
       "</style>\n",
       "<table border=\"1\" class=\"dataframe\">\n",
       "  <thead>\n",
       "    <tr style=\"text-align: right;\">\n",
       "      <th></th>\n",
       "      <th>City</th>\n",
       "      <th>Zip_Code</th>\n",
       "      <th>Party</th>\n",
       "      <th>Birth_Year</th>\n",
       "      <th>General_Election_2020</th>\n",
       "      <th>Primary_Election_2020</th>\n",
       "      <th>Generational_Groups</th>\n",
       "    </tr>\n",
       "    <tr>\n",
       "      <th>Voter_ID</th>\n",
       "      <th></th>\n",
       "      <th></th>\n",
       "      <th></th>\n",
       "      <th></th>\n",
       "      <th></th>\n",
       "      <th></th>\n",
       "      <th></th>\n",
       "    </tr>\n",
       "  </thead>\n",
       "  <tbody>\n",
       "    <tr>\n",
       "      <th>704844</th>\n",
       "      <td>1</td>\n",
       "      <td>44131</td>\n",
       "      <td>3</td>\n",
       "      <td>1959</td>\n",
       "      <td>1</td>\n",
       "      <td>3</td>\n",
       "      <td>2</td>\n",
       "    </tr>\n",
       "    <tr>\n",
       "      <th>1658758</th>\n",
       "      <td>2</td>\n",
       "      <td>44130</td>\n",
       "      <td>1</td>\n",
       "      <td>1968</td>\n",
       "      <td>1</td>\n",
       "      <td>3</td>\n",
       "      <td>3</td>\n",
       "    </tr>\n",
       "    <tr>\n",
       "      <th>2005536</th>\n",
       "      <td>3</td>\n",
       "      <td>44147</td>\n",
       "      <td>1</td>\n",
       "      <td>1976</td>\n",
       "      <td>1</td>\n",
       "      <td>3</td>\n",
       "      <td>3</td>\n",
       "    </tr>\n",
       "    <tr>\n",
       "      <th>2465762</th>\n",
       "      <td>4</td>\n",
       "      <td>44139</td>\n",
       "      <td>3</td>\n",
       "      <td>1991</td>\n",
       "      <td>0</td>\n",
       "      <td>3</td>\n",
       "      <td>4</td>\n",
       "    </tr>\n",
       "    <tr>\n",
       "      <th>710633</th>\n",
       "      <td>5</td>\n",
       "      <td>44131</td>\n",
       "      <td>1</td>\n",
       "      <td>1968</td>\n",
       "      <td>1</td>\n",
       "      <td>3</td>\n",
       "      <td>3</td>\n",
       "    </tr>\n",
       "  </tbody>\n",
       "</table>\n",
       "</div>"
      ],
      "text/plain": [
       "          City  Zip_Code  Party  Birth_Year  General_Election_2020  \\\n",
       "Voter_ID                                                             \n",
       "704844       1     44131      3        1959                      1   \n",
       "1658758      2     44130      1        1968                      1   \n",
       "2005536      3     44147      1        1976                      1   \n",
       "2465762      4     44139      3        1991                      0   \n",
       "710633       5     44131      1        1968                      1   \n",
       "\n",
       "          Primary_Election_2020 Generational_Groups  \n",
       "Voter_ID                                             \n",
       "704844                        3                   2  \n",
       "1658758                       3                   3  \n",
       "2005536                       3                   3  \n",
       "2465762                       3                   4  \n",
       "710633                        3                   3  "
      ]
     },
     "execution_count": 58,
     "metadata": {},
     "output_type": "execute_result"
    }
   ],
   "source": [
    "ml_2020 = ml_df[['City', 'Zip_Code', 'Party', 'Birth_Year', 'General_Election_2020', 'Primary_Election_2020', 'Generational_Groups']].copy()\n",
    "ml_2020.head()"
   ]
  },
  {
   "cell_type": "code",
   "execution_count": null,
   "metadata": {},
   "outputs": [],
   "source": []
  },
  {
   "cell_type": "code",
   "execution_count": 59,
   "metadata": {},
   "outputs": [
    {
     "data": {
      "text/plain": [
       "count    864312.000000\n",
       "mean       1971.875392\n",
       "std          18.360409\n",
       "min        1928.000000\n",
       "25%        1957.000000\n",
       "50%        1972.000000\n",
       "75%        1988.000000\n",
       "max        2002.000000\n",
       "Name: Birth_Year, dtype: float64"
      ]
     },
     "execution_count": 59,
     "metadata": {},
     "output_type": "execute_result"
    }
   ],
   "source": [
    "ml_2020 = ml_2020[ml_2020['Birth_Year'] <= 2002]\n",
    "ml_2020['Birth_Year'].describe()"
   ]
  },
  {
   "cell_type": "code",
   "execution_count": 60,
   "metadata": {},
   "outputs": [
    {
     "data": {
      "image/png": "[encoded data removed]",
      "text/plain": [
       "<Figure size 1080x576 with 2 Axes>"
      ]
     },
     "metadata": {
      "needs_background": "light"
     },
     "output_type": "display_data"
    }
   ],
   "source": [
    "plt.subplots(figsize = (15,8))\n",
    "sb.heatmap(ml_2020.corr(), annot=True,cmap=\"PiYG\")\n",
    "plt.title(\"Correlations Among Features for 2020 Election\", fontsize = 20);"
   ]
  },
  {
   "cell_type": "code",
   "execution_count": 61,
   "metadata": {},
   "outputs": [
    {
     "data": {
      "text/plain": [
       "count    820467.000000\n",
       "mean       1970.352997\n",
       "std          17.588824\n",
       "min        1928.000000\n",
       "25%        1957.000000\n",
       "50%        1971.000000\n",
       "75%        1986.000000\n",
       "max        1998.000000\n",
       "Name: Birth_Year, dtype: float64"
      ]
     },
     "execution_count": 61,
     "metadata": {},
     "output_type": "execute_result"
    }
   ],
   "source": [
    "ml_2016 = ml_df[ml_df['Birth_Year'] <= 1998]\n",
    "ml_2016['Birth_Year'].describe()"
   ]
  },
  {
   "cell_type": "code",
   "execution_count": 62,
   "metadata": {},
   "outputs": [
    {
     "data": {
      "text/html": [
       "<div>\n",
       "<style scoped>\n",
       "    .dataframe tbody tr th:only-of-type {\n",
       "        vertical-align: middle;\n",
       "    }\n",
       "\n",
       "    .dataframe tbody tr th {\n",
       "        vertical-align: top;\n",
       "    }\n",
       "\n",
       "    .dataframe thead th {\n",
       "        text-align: right;\n",
       "    }\n",
       "</style>\n",
       "<table border=\"1\" class=\"dataframe\">\n",
       "  <thead>\n",
       "    <tr style=\"text-align: right;\">\n",
       "      <th></th>\n",
       "      <th>City</th>\n",
       "      <th>Zip_Code</th>\n",
       "      <th>Party</th>\n",
       "      <th>Birth_Year</th>\n",
       "      <th>General_Election_2020</th>\n",
       "      <th>Primary_Election_2020</th>\n",
       "      <th>General_Election_2016</th>\n",
       "      <th>Primary_Election_2016</th>\n",
       "      <th>Generational_Groups</th>\n",
       "    </tr>\n",
       "    <tr>\n",
       "      <th>Voter_ID</th>\n",
       "      <th></th>\n",
       "      <th></th>\n",
       "      <th></th>\n",
       "      <th></th>\n",
       "      <th></th>\n",
       "      <th></th>\n",
       "      <th></th>\n",
       "      <th></th>\n",
       "      <th></th>\n",
       "    </tr>\n",
       "  </thead>\n",
       "  <tbody>\n",
       "    <tr>\n",
       "      <th>704844</th>\n",
       "      <td>1</td>\n",
       "      <td>44131</td>\n",
       "      <td>3</td>\n",
       "      <td>1959</td>\n",
       "      <td>1</td>\n",
       "      <td>3</td>\n",
       "      <td>1</td>\n",
       "      <td>0</td>\n",
       "      <td>2</td>\n",
       "    </tr>\n",
       "    <tr>\n",
       "      <th>1658758</th>\n",
       "      <td>2</td>\n",
       "      <td>44130</td>\n",
       "      <td>1</td>\n",
       "      <td>1968</td>\n",
       "      <td>1</td>\n",
       "      <td>3</td>\n",
       "      <td>1</td>\n",
       "      <td>1</td>\n",
       "      <td>3</td>\n",
       "    </tr>\n",
       "    <tr>\n",
       "      <th>2005536</th>\n",
       "      <td>3</td>\n",
       "      <td>44147</td>\n",
       "      <td>1</td>\n",
       "      <td>1976</td>\n",
       "      <td>1</td>\n",
       "      <td>3</td>\n",
       "      <td>1</td>\n",
       "      <td>1</td>\n",
       "      <td>3</td>\n",
       "    </tr>\n",
       "    <tr>\n",
       "      <th>2465762</th>\n",
       "      <td>4</td>\n",
       "      <td>44139</td>\n",
       "      <td>3</td>\n",
       "      <td>1991</td>\n",
       "      <td>0</td>\n",
       "      <td>3</td>\n",
       "      <td>0</td>\n",
       "      <td>3</td>\n",
       "      <td>4</td>\n",
       "    </tr>\n",
       "    <tr>\n",
       "      <th>710633</th>\n",
       "      <td>5</td>\n",
       "      <td>44131</td>\n",
       "      <td>1</td>\n",
       "      <td>1968</td>\n",
       "      <td>1</td>\n",
       "      <td>3</td>\n",
       "      <td>1</td>\n",
       "      <td>1</td>\n",
       "      <td>3</td>\n",
       "    </tr>\n",
       "  </tbody>\n",
       "</table>\n",
       "</div>"
      ],
      "text/plain": [
       "          City  Zip_Code  Party  Birth_Year  General_Election_2020  \\\n",
       "Voter_ID                                                             \n",
       "704844       1     44131      3        1959                      1   \n",
       "1658758      2     44130      1        1968                      1   \n",
       "2005536      3     44147      1        1976                      1   \n",
       "2465762      4     44139      3        1991                      0   \n",
       "710633       5     44131      1        1968                      1   \n",
       "\n",
       "          Primary_Election_2020  General_Election_2016  Primary_Election_2016  \\\n",
       "Voter_ID                                                                        \n",
       "704844                        3                      1                      0   \n",
       "1658758                       3                      1                      1   \n",
       "2005536                       3                      1                      1   \n",
       "2465762                       3                      0                      3   \n",
       "710633                        3                      1                      1   \n",
       "\n",
       "         Generational_Groups  \n",
       "Voter_ID                      \n",
       "704844                     2  \n",
       "1658758                    3  \n",
       "2005536                    3  \n",
       "2465762                    4  \n",
       "710633                     3  "
      ]
     },
     "execution_count": 62,
     "metadata": {},
     "output_type": "execute_result"
    }
   ],
   "source": [
    "ml_2016 = ml_2016[['City', 'Zip_Code', 'Party', 'Birth_Year', 'General_Election_2020', 'Primary_Election_2020',  'General_Election_2016', 'Primary_Election_2016', 'Generational_Groups']].copy()\n",
    "ml_2016.head()"
   ]
  },
  {
   "cell_type": "code",
   "execution_count": 63,
   "metadata": {},
   "outputs": [
    {
     "data": {
      "image/png": "[encoded data removed]",
      "text/plain": [
       "<Figure size 1080x576 with 2 Axes>"
      ]
     },
     "metadata": {
      "needs_background": "light"
     },
     "output_type": "display_data"
    }
   ],
   "source": [
    "plt.subplots(figsize = (15,8))\n",
    "sb.heatmap(ml_2016.corr(), annot=True,cmap=\"PiYG\")\n",
    "plt.title(\"Correlations Among Features for 2016 and 2020 Elections\", fontsize = 20);"
   ]
  },
  {
   "cell_type": "code",
   "execution_count": null,
   "metadata": {},
   "outputs": [],
   "source": [
    "# plt.subplots(figsize = (15,8))\n",
    "# sb.barplot(x = \"City\", y = per_city, data=ml_df, edgecolor=(0,0,0), linewidth=2)\n",
    "# # plt.title(\"Voting By City Distribution\", fontsize = 15)\n",
    "# # plt.ylabel(\"2020_General_Election\", fontsize = 15)\n",
    "# # plt.xlabel(\"Cities\",fontsize = 15)\n",
    "# # plt.xticks(\"City\")"
   ]
  },
  {
   "cell_type": "markdown",
   "metadata": {},
   "source": [
    "# Machine Learning on 2020 election - Voters Born 1928-2002"
   ]
  },
  {
   "cell_type": "code",
   "execution_count": null,
   "metadata": {},
   "outputs": [],
   "source": []
  },
  {
   "cell_type": "code",
   "execution_count": 64,
   "metadata": {},
   "outputs": [],
   "source": [
    "x = ml_2020.drop(\"General_Election_2020\",axis=1)\n",
    "y = ml_2020[\"General_Election_2020\"]"
   ]
  },
  {
   "cell_type": "code",
   "execution_count": 65,
   "metadata": {},
   "outputs": [],
   "source": [
    "from sklearn.model_selection import StratifiedShuffleSplit\n",
    "from sklearn.metrics import accuracy_score, log_loss\n",
    "from sklearn.ensemble import RandomForestClassifier,GradientBoostingClassifier\n",
    "from sklearn.linear_model import LogisticRegression\n",
    "from warnings import filterwarnings\n",
    "filterwarnings(action='ignore')\n",
    "\n",
    "\n",
    "classifiers = [\n",
    "    \n",
    "    RandomForestClassifier(n_estimators=100, max_features=3),\n",
    "    GradientBoostingClassifier(),\n",
    "    LogisticRegression()]\n",
    "    \n",
    "\n",
    "\n",
    "log_cols = [\"Classifier\", \"Accuracy\"]\n",
    "log= pd.DataFrame(columns=log_cols)"
   ]
  },
  {
   "cell_type": "code",
   "execution_count": 66,
   "metadata": {},
   "outputs": [],
   "source": [
    "sss = StratifiedShuffleSplit(n_splits=10, test_size=0.3, random_state=0)\n",
    "acc_dict = {}\n",
    "\n",
    "for train_index, test_index in sss.split(x, y):\n",
    "    \n",
    "    X_train, X_test = x.iloc[train_index], x.iloc[test_index]\n",
    "    y_train, y_test = y.iloc[train_index], y.iloc[test_index]\n",
    "    \n",
    "    for clf in classifiers:\n",
    "        name = clf.__class__.__name__\n",
    "    \n",
    "        clf.fit(X_train,y_train)\n",
    "        predict=clf.predict(X_test)\n",
    "        acc=accuracy_score(y_test,predict)\n",
    "        if name in acc_dict:\n",
    "            acc_dict[name]+=acc\n",
    "        else:\n",
    "            acc_dict[name]=acc"
   ]
  },
  {
   "cell_type": "code",
   "execution_count": null,
   "metadata": {},
   "outputs": [],
   "source": []
  },
  {
   "cell_type": "code",
   "execution_count": null,
   "metadata": {},
   "outputs": [],
   "source": []
  },
  {
   "cell_type": "code",
   "execution_count": null,
   "metadata": {},
   "outputs": [],
   "source": []
  },
  {
   "cell_type": "code",
   "execution_count": 67,
   "metadata": {},
   "outputs": [
    {
     "data": {
      "text/plain": [
       "Text(0.5, 1.0, 'Classifier Accuracy')"
      ]
     },
     "execution_count": 67,
     "metadata": {},
     "output_type": "execute_result"
    },
    {
     "data": {
      "image/png": "[encoded data removed]",
      "text/plain": [
       "<Figure size 1080x720 with 1 Axes>"
      ]
     },
     "metadata": {
      "needs_background": "light"
     },
     "output_type": "display_data"
    }
   ],
   "source": [
    "log['Classifier']=acc_dict.keys()\n",
    "log['Accuracy']=acc_dict.values()\n",
    "log.set_index([[0,1,2]])\n",
    "%matplotlib inline\n",
    "sb.set_color_codes(\"muted\")\n",
    "ax=plt.subplots(figsize=(15,10))\n",
    "ax=sb.barplot(y='Classifier',x='Accuracy',data=log,color='b')\n",
    "ax.set_xlabel('Accuracy',fontsize=15)\n",
    "plt.ylabel('Classifier',fontsize=15)\n",
    "plt.grid(color='r', linestyle='-', linewidth=0.5)\n",
    "plt.title('Classifier Accuracy',fontsize=15)\n"
   ]
  },
  {
   "cell_type": "code",
   "execution_count": 68,
   "metadata": {},
   "outputs": [
    {
     "data": {
      "text/plain": [
       "1    7.450616\n",
       "0    7.430222\n",
       "2    7.256516\n",
       "Name: Accuracy, dtype: float64"
      ]
     },
     "execution_count": 68,
     "metadata": {},
     "output_type": "execute_result"
    }
   ],
   "source": [
    "log['Accuracy'].sort_values(ascending=False)"
   ]
  },
  {
   "cell_type": "code",
   "execution_count": 69,
   "metadata": {},
   "outputs": [
    {
     "data": {
      "text/plain": [
       "0        RandomForestClassifier\n",
       "1    GradientBoostingClassifier\n",
       "2            LogisticRegression\n",
       "Name: Classifier, dtype: object"
      ]
     },
     "execution_count": 69,
     "metadata": {},
     "output_type": "execute_result"
    }
   ],
   "source": [
    "log['Classifier']"
   ]
  },
  {
   "cell_type": "markdown",
   "metadata": {},
   "source": [
    "## From above results we can say that gradient boosting classifier gave the best result for our dataset"
   ]
  },
  {
   "cell_type": "code",
   "execution_count": 70,
   "metadata": {},
   "outputs": [],
   "source": [
    "classifier = GradientBoostingClassifier()"
   ]
  },
  {
   "cell_type": "code",
   "execution_count": 71,
   "metadata": {},
   "outputs": [],
   "source": [
    "from sklearn.model_selection import train_test_split\n",
    "X_train , X_test , Y_train , Y_test = train_test_split(x,y,test_size = 0.2 , random_state = 33)\n",
    "\n",
    "classifier.fit(X_train,Y_train)\n",
    "\n",
    "\n",
    "from sklearn.model_selection import cross_val_score\n",
    "\n",
    "score = cross_val_score(classifier, X_train, Y_train,cv=5,\n",
    "scoring=\"accuracy\").mean()"
   ]
  },
  {
   "cell_type": "code",
   "execution_count": 72,
   "metadata": {},
   "outputs": [
    {
     "data": {
      "text/plain": [
       "0.7448560937308079"
      ]
     },
     "execution_count": 72,
     "metadata": {},
     "output_type": "execute_result"
    }
   ],
   "source": [
    "score \n"
   ]
  },
  {
   "cell_type": "markdown",
   "metadata": {},
   "source": [
    "## Confusion Matrices"
   ]
  },
  {
   "cell_type": "code",
   "execution_count": 73,
   "metadata": {},
   "outputs": [
    {
     "data": {
      "image/png": "[encoded data removed]",
      "text/plain": [
       "<Figure size 432x288 with 2 Axes>"
      ]
     },
     "metadata": {
      "needs_background": "light"
     },
     "output_type": "display_data"
    },
    {
     "data": {
      "image/png": "[encoded data removed]",
      "text/plain": [
       "<Figure size 432x288 with 2 Axes>"
      ]
     },
     "metadata": {
      "needs_background": "light"
     },
     "output_type": "display_data"
    },
    {
     "data": {
      "image/png": "[encoded data removed]",
      "text/plain": [
       "<Figure size 432x288 with 2 Axes>"
      ]
     },
     "metadata": {
      "needs_background": "light"
     },
     "output_type": "display_data"
    }
   ],
   "source": [
    "for classifier in classifiers:\n",
    "    \n",
    "\n",
    "    classifier.fit(X_train,Y_train)\n",
    "\n",
    "    p_vals = classifier.predict(X_test)\n",
    "\n",
    "    confusion_matrix = pd.crosstab(Y_test, p_vals, rownames=['Actual'], colnames=['Predicted'])\n",
    "\n",
    "    sb.heatmap(confusion_matrix, annot=True)\n",
    "    plt.title( classifier.__class__.__name__,fontsize=15)\n",
    "    plt.show()"
   ]
  },
  {
   "cell_type": "code",
   "execution_count": null,
   "metadata": {},
   "outputs": [],
   "source": []
  },
  {
   "cell_type": "code",
   "execution_count": null,
   "metadata": {},
   "outputs": [],
   "source": []
  },
  {
   "cell_type": "code",
   "execution_count": null,
   "metadata": {},
   "outputs": [],
   "source": []
  },
  {
   "cell_type": "code",
   "execution_count": null,
   "metadata": {},
   "outputs": [],
   "source": []
  },
  {
   "cell_type": "markdown",
   "metadata": {},
   "source": []
  },
  {
   "cell_type": "code",
   "execution_count": null,
   "metadata": {},
   "outputs": [],
   "source": []
  },
  {
   "cell_type": "code",
   "execution_count": null,
   "metadata": {},
   "outputs": [],
   "source": []
  },
  {
   "cell_type": "code",
   "execution_count": null,
   "metadata": {},
   "outputs": [],
   "source": []
  },
  {
   "cell_type": "code",
   "execution_count": null,
   "metadata": {},
   "outputs": [],
   "source": []
  },
  {
   "cell_type": "code",
   "execution_count": null,
   "metadata": {},
   "outputs": [],
   "source": []
  },
  {
   "cell_type": "code",
   "execution_count": null,
   "metadata": {},
   "outputs": [],
   "source": []
  },
  {
   "cell_type": "code",
   "execution_count": null,
   "metadata": {},
   "outputs": [],
   "source": []
  },
  {
   "cell_type": "code",
   "execution_count": null,
   "metadata": {},
   "outputs": [],
   "source": []
  },
  {
   "cell_type": "code",
   "execution_count": null,
   "metadata": {},
   "outputs": [],
   "source": []
  },
  {
   "cell_type": "code",
   "execution_count": null,
   "metadata": {},
   "outputs": [],
   "source": []
  },
  {
   "cell_type": "code",
   "execution_count": null,
   "metadata": {},
   "outputs": [],
   "source": []
  },
  {
   "cell_type": "code",
   "execution_count": null,
   "metadata": {},
   "outputs": [],
   "source": []
  }
 ],
 "metadata": {
  "kernelspec": {
   "display_name": "mlenv",
   "language": "python",
   "name": "mlenv"
  },
  "language_info": {
   "codemirror_mode": {
    "name": "ipython",
    "version": 3
   },
   "file_extension": ".py",
   "mimetype": "text/x-python",
   "name": "python",
   "nbconvert_exporter": "python",
   "pygments_lexer": "ipython3",
   "version": "3.7.13"
  },
  "vscode": {
   "interpreter": {
    "hash": "9cbd3ad8153c16a78d81bc8a504c18eabb83723a1b678246e27cd1390a16f6c4"
   }
  }
 },
 "nbformat": 4,
 "nbformat_minor": 2
}
