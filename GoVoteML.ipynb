{
 "cells": [
  {
   "cell_type": "code",
   "execution_count": 2,
   "metadata": {},
   "outputs": [],
   "source": [
    "import pandas as pd\n",
    "%matplotlib inline\n",
    "import matplotlib.pyplot as plt\n",
    "import numpy as np"
   ]
  },
  {
   "cell_type": "code",
   "execution_count": 3,
   "metadata": {},
   "outputs": [],
   "source": [
    "# 1. Create a DataFrame for the Presidential Election data. \n",
    "file_to_open = \"prim_gen_joined.csv\"\n",
    "pres_elec_df = pd.read_csv(file_to_open, encoding=\"ISO-8859-1\") "
   ]
  },
  {
   "cell_type": "code",
   "execution_count": 4,
   "metadata": {},
   "outputs": [
    {
     "data": {
      "text/plain": [
       "<bound method NDFrame.head of         Voter_ID           City  Zip_Code  Party  Birth_Year  \\\n",
       "0         704844    SEVEN HILLS     44131  NOPTY        1959   \n",
       "1        1658758          PARMA     44130    REP        1968   \n",
       "2        2005536  BROADVIEW HTS     44147    REP        1976   \n",
       "3        2465762          SOLON     44139  NOPTY        1991   \n",
       "4         710633   INDEPENDENCE     44131    REP        1968   \n",
       "...          ...            ...       ...    ...         ...   \n",
       "873946    689381      PARMA HTS     44130    DEM        1958   \n",
       "873947    823935   STRONGSVILLE     44149    REP        1946   \n",
       "873948    749942         EUCLID     44132    DEM        1927   \n",
       "873949    276903         EUCLID     44132  NOPTY        1944   \n",
       "873950   3017222    SEVEN HILLS     44131  NOPTY        1975   \n",
       "\n",
       "       2020_Primary_Election 2020_General_Election 2016_Primary_Election  \\\n",
       "0                          0                     t                     D   \n",
       "1                          0                     t                     R   \n",
       "2                          0                     t                     R   \n",
       "3                          0                     f                     0   \n",
       "4                          0                     t                     R   \n",
       "...                      ...                   ...                   ...   \n",
       "873946                     D                     t                     D   \n",
       "873947                     R                     t                     D   \n",
       "873948                     0                     t                     0   \n",
       "873949                     0                     f                     0   \n",
       "873950                     0                     f                     0   \n",
       "\n",
       "       2016_General_Election 2012_Primary_Election 2012_General_Election  \\\n",
       "0                          t                     0                     t   \n",
       "1                          t                     R                     t   \n",
       "2                          t                     R                     t   \n",
       "3                          f                     0                     t   \n",
       "4                          t                     R                     t   \n",
       "...                      ...                   ...                   ...   \n",
       "873946                     t                     0                     t   \n",
       "873947                     t                     X                     t   \n",
       "873948                     t                     0                     t   \n",
       "873949                     f                     0                     t   \n",
       "873950                     f                     0                     f   \n",
       "\n",
       "       2008_Primary_Election 2008_General_Election  \n",
       "0                          D                     t  \n",
       "1                          D                     t  \n",
       "2                          D                     t  \n",
       "3                          0                     f  \n",
       "4                          0                     t  \n",
       "...                      ...                   ...  \n",
       "873946                     D                     t  \n",
       "873947                     D                     t  \n",
       "873948                     D                     t  \n",
       "873949                     0                     t  \n",
       "873950                     0                     f  \n",
       "\n",
       "[873951 rows x 13 columns]>"
      ]
     },
     "execution_count": 4,
     "metadata": {},
     "output_type": "execute_result"
    }
   ],
   "source": [
    "pres_elec_df.head"
   ]
  },
  {
   "cell_type": "code",
   "execution_count": 5,
   "metadata": {},
   "outputs": [
    {
     "data": {
      "text/plain": [
       "(873951, 13)"
      ]
     },
     "execution_count": 5,
     "metadata": {},
     "output_type": "execute_result"
    }
   ],
   "source": [
    "pres_elec_df.shape"
   ]
  },
  {
   "cell_type": "code",
   "execution_count": 6,
   "metadata": {},
   "outputs": [
    {
     "data": {
      "text/plain": [
       "Voter_ID                  int64\n",
       "City                     object\n",
       "Zip_Code                  int64\n",
       "Party                    object\n",
       "Birth_Year                int64\n",
       "2020_Primary_Election    object\n",
       "2020_General_Election    object\n",
       "2016_Primary_Election    object\n",
       "2016_General_Election    object\n",
       "2012_Primary_Election    object\n",
       "2012_General_Election    object\n",
       "2008_Primary_Election    object\n",
       "2008_General_Election    object\n",
       "dtype: object"
      ]
     },
     "execution_count": 6,
     "metadata": {},
     "output_type": "execute_result"
    }
   ],
   "source": [
    "#Column Datatypes\n",
    "pres_elec_df.dtypes"
   ]
  },
  {
   "cell_type": "code",
   "execution_count": 15,
   "metadata": {},
   "outputs": [],
   "source": [
    "#Replace True and False Values with 0 and 1\n",
    "pres_elec_df.replace(('f', 't'), (0, 1), inplace=True)"
   ]
  },
  {
   "cell_type": "code",
   "execution_count": 16,
   "metadata": {},
   "outputs": [
    {
     "data": {
      "text/html": [
       "<div>\n",
       "<style scoped>\n",
       "    .dataframe tbody tr th:only-of-type {\n",
       "        vertical-align: middle;\n",
       "    }\n",
       "\n",
       "    .dataframe tbody tr th {\n",
       "        vertical-align: top;\n",
       "    }\n",
       "\n",
       "    .dataframe thead th {\n",
       "        text-align: right;\n",
       "    }\n",
       "</style>\n",
       "<table border=\"1\" class=\"dataframe\">\n",
       "  <thead>\n",
       "    <tr style=\"text-align: right;\">\n",
       "      <th></th>\n",
       "      <th>City</th>\n",
       "      <th>Zip_Code</th>\n",
       "      <th>Party</th>\n",
       "      <th>Birth_Year</th>\n",
       "      <th>2020_Primary_Election</th>\n",
       "      <th>2020_General_Election</th>\n",
       "      <th>2016_Primary_Election</th>\n",
       "      <th>2016_General_Election</th>\n",
       "      <th>2012_Primary_Election</th>\n",
       "      <th>2012_General_Election</th>\n",
       "      <th>2008_Primary_Election</th>\n",
       "      <th>2008_General_Election</th>\n",
       "      <th>Generational_Groups</th>\n",
       "    </tr>\n",
       "    <tr>\n",
       "      <th>Voter_ID</th>\n",
       "      <th></th>\n",
       "      <th></th>\n",
       "      <th></th>\n",
       "      <th></th>\n",
       "      <th></th>\n",
       "      <th></th>\n",
       "      <th></th>\n",
       "      <th></th>\n",
       "      <th></th>\n",
       "      <th></th>\n",
       "      <th></th>\n",
       "      <th></th>\n",
       "      <th></th>\n",
       "    </tr>\n",
       "  </thead>\n",
       "  <tbody>\n",
       "    <tr>\n",
       "      <th>704844</th>\n",
       "      <td>SEVEN HILLS</td>\n",
       "      <td>44131</td>\n",
       "      <td>NOPTY</td>\n",
       "      <td>1959</td>\n",
       "      <td>0</td>\n",
       "      <td>1</td>\n",
       "      <td>D</td>\n",
       "      <td>1</td>\n",
       "      <td>0</td>\n",
       "      <td>1</td>\n",
       "      <td>D</td>\n",
       "      <td>1</td>\n",
       "      <td>Boomers</td>\n",
       "    </tr>\n",
       "    <tr>\n",
       "      <th>1658758</th>\n",
       "      <td>PARMA</td>\n",
       "      <td>44130</td>\n",
       "      <td>REP</td>\n",
       "      <td>1968</td>\n",
       "      <td>0</td>\n",
       "      <td>1</td>\n",
       "      <td>R</td>\n",
       "      <td>1</td>\n",
       "      <td>R</td>\n",
       "      <td>1</td>\n",
       "      <td>D</td>\n",
       "      <td>1</td>\n",
       "      <td>Generation X</td>\n",
       "    </tr>\n",
       "    <tr>\n",
       "      <th>2005536</th>\n",
       "      <td>BROADVIEW HTS</td>\n",
       "      <td>44147</td>\n",
       "      <td>REP</td>\n",
       "      <td>1976</td>\n",
       "      <td>0</td>\n",
       "      <td>1</td>\n",
       "      <td>R</td>\n",
       "      <td>1</td>\n",
       "      <td>R</td>\n",
       "      <td>1</td>\n",
       "      <td>D</td>\n",
       "      <td>1</td>\n",
       "      <td>Generation X</td>\n",
       "    </tr>\n",
       "    <tr>\n",
       "      <th>2465762</th>\n",
       "      <td>SOLON</td>\n",
       "      <td>44139</td>\n",
       "      <td>NOPTY</td>\n",
       "      <td>1991</td>\n",
       "      <td>0</td>\n",
       "      <td>0</td>\n",
       "      <td>0</td>\n",
       "      <td>0</td>\n",
       "      <td>0</td>\n",
       "      <td>1</td>\n",
       "      <td>0</td>\n",
       "      <td>0</td>\n",
       "      <td>Millenials</td>\n",
       "    </tr>\n",
       "    <tr>\n",
       "      <th>710633</th>\n",
       "      <td>INDEPENDENCE</td>\n",
       "      <td>44131</td>\n",
       "      <td>REP</td>\n",
       "      <td>1968</td>\n",
       "      <td>0</td>\n",
       "      <td>1</td>\n",
       "      <td>R</td>\n",
       "      <td>1</td>\n",
       "      <td>R</td>\n",
       "      <td>1</td>\n",
       "      <td>0</td>\n",
       "      <td>1</td>\n",
       "      <td>Generation X</td>\n",
       "    </tr>\n",
       "  </tbody>\n",
       "</table>\n",
       "</div>"
      ],
      "text/plain": [
       "                   City  Zip_Code  Party  Birth_Year 2020_Primary_Election  \\\n",
       "Voter_ID                                                                     \n",
       "704844      SEVEN HILLS     44131  NOPTY        1959                     0   \n",
       "1658758           PARMA     44130    REP        1968                     0   \n",
       "2005536   BROADVIEW HTS     44147    REP        1976                     0   \n",
       "2465762           SOLON     44139  NOPTY        1991                     0   \n",
       "710633     INDEPENDENCE     44131    REP        1968                     0   \n",
       "\n",
       "          2020_General_Election 2016_Primary_Election  2016_General_Election  \\\n",
       "Voter_ID                                                                       \n",
       "704844                        1                     D                      1   \n",
       "1658758                       1                     R                      1   \n",
       "2005536                       1                     R                      1   \n",
       "2465762                       0                     0                      0   \n",
       "710633                        1                     R                      1   \n",
       "\n",
       "         2012_Primary_Election  2012_General_Election 2008_Primary_Election  \\\n",
       "Voter_ID                                                                      \n",
       "704844                       0                      1                     D   \n",
       "1658758                      R                      1                     D   \n",
       "2005536                      R                      1                     D   \n",
       "2465762                      0                      1                     0   \n",
       "710633                       R                      1                     0   \n",
       "\n",
       "          2008_General_Election Generational_Groups  \n",
       "Voter_ID                                             \n",
       "704844                        1             Boomers  \n",
       "1658758                       1        Generation X  \n",
       "2005536                       1        Generation X  \n",
       "2465762                       0          Millenials  \n",
       "710633                        1        Generation X  "
      ]
     },
     "execution_count": 16,
     "metadata": {},
     "output_type": "execute_result"
    }
   ],
   "source": [
    "pres_elec_df.head()"
   ]
  },
  {
   "cell_type": "code",
   "execution_count": 18,
   "metadata": {},
   "outputs": [],
   "source": [
    "# Set voter_id_org column as index\n",
    "pres_elec_df = pres_elec_df.set_index('Voter_ID')\n"
   ]
  },
  {
   "cell_type": "code",
   "execution_count": 19,
   "metadata": {},
   "outputs": [
    {
     "data": {
      "text/html": [
       "<div>\n",
       "<style scoped>\n",
       "    .dataframe tbody tr th:only-of-type {\n",
       "        vertical-align: middle;\n",
       "    }\n",
       "\n",
       "    .dataframe tbody tr th {\n",
       "        vertical-align: top;\n",
       "    }\n",
       "\n",
       "    .dataframe thead th {\n",
       "        text-align: right;\n",
       "    }\n",
       "</style>\n",
       "<table border=\"1\" class=\"dataframe\">\n",
       "  <thead>\n",
       "    <tr style=\"text-align: right;\">\n",
       "      <th></th>\n",
       "      <th>City</th>\n",
       "      <th>Zip_Code</th>\n",
       "      <th>Party</th>\n",
       "      <th>Birth_Year</th>\n",
       "      <th>2020_Primary_Election</th>\n",
       "      <th>2020_General_Election</th>\n",
       "      <th>2016_Primary_Election</th>\n",
       "      <th>2016_General_Election</th>\n",
       "      <th>2012_Primary_Election</th>\n",
       "      <th>2012_General_Election</th>\n",
       "      <th>2008_Primary_Election</th>\n",
       "      <th>2008_General_Election</th>\n",
       "      <th>Generational_Groups</th>\n",
       "    </tr>\n",
       "    <tr>\n",
       "      <th>Voter_ID</th>\n",
       "      <th></th>\n",
       "      <th></th>\n",
       "      <th></th>\n",
       "      <th></th>\n",
       "      <th></th>\n",
       "      <th></th>\n",
       "      <th></th>\n",
       "      <th></th>\n",
       "      <th></th>\n",
       "      <th></th>\n",
       "      <th></th>\n",
       "      <th></th>\n",
       "      <th></th>\n",
       "    </tr>\n",
       "  </thead>\n",
       "  <tbody>\n",
       "    <tr>\n",
       "      <th>704844</th>\n",
       "      <td>SEVEN HILLS</td>\n",
       "      <td>44131</td>\n",
       "      <td>NOPTY</td>\n",
       "      <td>1959</td>\n",
       "      <td>0</td>\n",
       "      <td>1</td>\n",
       "      <td>D</td>\n",
       "      <td>1</td>\n",
       "      <td>0</td>\n",
       "      <td>1</td>\n",
       "      <td>D</td>\n",
       "      <td>1</td>\n",
       "      <td>Boomers</td>\n",
       "    </tr>\n",
       "    <tr>\n",
       "      <th>1658758</th>\n",
       "      <td>PARMA</td>\n",
       "      <td>44130</td>\n",
       "      <td>REP</td>\n",
       "      <td>1968</td>\n",
       "      <td>0</td>\n",
       "      <td>1</td>\n",
       "      <td>R</td>\n",
       "      <td>1</td>\n",
       "      <td>R</td>\n",
       "      <td>1</td>\n",
       "      <td>D</td>\n",
       "      <td>1</td>\n",
       "      <td>Generation X</td>\n",
       "    </tr>\n",
       "    <tr>\n",
       "      <th>2005536</th>\n",
       "      <td>BROADVIEW HTS</td>\n",
       "      <td>44147</td>\n",
       "      <td>REP</td>\n",
       "      <td>1976</td>\n",
       "      <td>0</td>\n",
       "      <td>1</td>\n",
       "      <td>R</td>\n",
       "      <td>1</td>\n",
       "      <td>R</td>\n",
       "      <td>1</td>\n",
       "      <td>D</td>\n",
       "      <td>1</td>\n",
       "      <td>Generation X</td>\n",
       "    </tr>\n",
       "    <tr>\n",
       "      <th>2465762</th>\n",
       "      <td>SOLON</td>\n",
       "      <td>44139</td>\n",
       "      <td>NOPTY</td>\n",
       "      <td>1991</td>\n",
       "      <td>0</td>\n",
       "      <td>0</td>\n",
       "      <td>0</td>\n",
       "      <td>0</td>\n",
       "      <td>0</td>\n",
       "      <td>1</td>\n",
       "      <td>0</td>\n",
       "      <td>0</td>\n",
       "      <td>Millenials</td>\n",
       "    </tr>\n",
       "    <tr>\n",
       "      <th>710633</th>\n",
       "      <td>INDEPENDENCE</td>\n",
       "      <td>44131</td>\n",
       "      <td>REP</td>\n",
       "      <td>1968</td>\n",
       "      <td>0</td>\n",
       "      <td>1</td>\n",
       "      <td>R</td>\n",
       "      <td>1</td>\n",
       "      <td>R</td>\n",
       "      <td>1</td>\n",
       "      <td>0</td>\n",
       "      <td>1</td>\n",
       "      <td>Generation X</td>\n",
       "    </tr>\n",
       "  </tbody>\n",
       "</table>\n",
       "</div>"
      ],
      "text/plain": [
       "                   City  Zip_Code  Party  Birth_Year 2020_Primary_Election  \\\n",
       "Voter_ID                                                                     \n",
       "704844      SEVEN HILLS     44131  NOPTY        1959                     0   \n",
       "1658758           PARMA     44130    REP        1968                     0   \n",
       "2005536   BROADVIEW HTS     44147    REP        1976                     0   \n",
       "2465762           SOLON     44139  NOPTY        1991                     0   \n",
       "710633     INDEPENDENCE     44131    REP        1968                     0   \n",
       "\n",
       "          2020_General_Election 2016_Primary_Election  2016_General_Election  \\\n",
       "Voter_ID                                                                       \n",
       "704844                        1                     D                      1   \n",
       "1658758                       1                     R                      1   \n",
       "2005536                       1                     R                      1   \n",
       "2465762                       0                     0                      0   \n",
       "710633                        1                     R                      1   \n",
       "\n",
       "         2012_Primary_Election  2012_General_Election 2008_Primary_Election  \\\n",
       "Voter_ID                                                                      \n",
       "704844                       0                      1                     D   \n",
       "1658758                      R                      1                     D   \n",
       "2005536                      R                      1                     D   \n",
       "2465762                      0                      1                     0   \n",
       "710633                       R                      1                     0   \n",
       "\n",
       "          2008_General_Election Generational_Groups  \n",
       "Voter_ID                                             \n",
       "704844                        1             Boomers  \n",
       "1658758                       1        Generation X  \n",
       "2005536                       1        Generation X  \n",
       "2465762                       0          Millenials  \n",
       "710633                        1        Generation X  "
      ]
     },
     "execution_count": 19,
     "metadata": {},
     "output_type": "execute_result"
    }
   ],
   "source": [
    "# Establish the generation bins and group names.\n",
    "\n",
    "generation_bins = [0, 1945, 1964, 1980, 1996, 2014]\n",
    "group_names = [\"Silent\",\"Boomers\", \"Generation X\", \"Millenials\", \"Generation Z\"]\n",
    "\n",
    "# Categorize spending based on the bins.\n",
    "pres_elec_df[\"Generational_Groups\"] = pd.cut(pres_elec_df[\"Birth_Year\"], generation_bins, labels=group_names)\n",
    "\n",
    "pres_elec_df.head()"
   ]
  },
  {
   "cell_type": "code",
   "execution_count": 40,
   "metadata": {},
   "outputs": [
    {
     "name": "stdout",
     "output_type": "stream",
     "text": [
      "Shape:  (873951, 2) (873951,)\n"
     ]
    }
   ],
   "source": [
    "# Assign the data to X and y for 2020 election\n",
    "y20=pres_elec_df[\"2020_General_Election\"]\n",
    "X20=pres_elec_df.drop(columns=[\"2020_Primary_Election\",\"2020_General_Election\", \"2016_Primary_Election\", \"2016_General_Election\",\"2012_Primary_Election\", \"2012_General_Election\", \"2008_Primary_Election\", \"2008_General_Election\", \"Generational_Groups\", \"City\", \"Party\"])\n",
    "print(\"Shape: \", X20.shape, y20.shape)"
   ]
  },
  {
   "cell_type": "code",
   "execution_count": 41,
   "metadata": {},
   "outputs": [],
   "source": [
    "# Split the data\n",
    "from sklearn.model_selection import train_test_split\n",
    "\n",
    "X_train, X_test, y_train, y_test = train_test_split(X20, y20, random_state=1)"
   ]
  },
  {
   "cell_type": "code",
   "execution_count": 42,
   "metadata": {},
   "outputs": [
    {
     "data": {
      "text/plain": [
       "LogisticRegression()"
      ]
     },
     "execution_count": 42,
     "metadata": {},
     "output_type": "execute_result"
    }
   ],
   "source": [
    "from sklearn.linear_model import LogisticRegression\n",
    "classifier = LogisticRegression()\n",
    "classifier"
   ]
  },
  {
   "cell_type": "code",
   "execution_count": 43,
   "metadata": {},
   "outputs": [
    {
     "data": {
      "text/plain": [
       "LogisticRegression()"
      ]
     },
     "execution_count": 43,
     "metadata": {},
     "output_type": "execute_result"
    }
   ],
   "source": [
    "classifier.fit(X_train, y_train)"
   ]
  },
  {
   "cell_type": "code",
   "execution_count": 44,
   "metadata": {},
   "outputs": [
    {
     "name": "stdout",
     "output_type": "stream",
     "text": [
      "Training Data Score: 0.6965107107495008\n",
      "Testing Data Score: 0.6956079967778551\n"
     ]
    }
   ],
   "source": [
    "print(f\"Training Data Score: {classifier.score(X_train, y_train)}\")\n",
    "print(f\"Testing Data Score: {classifier.score(X_test, y_test)}\")"
   ]
  },
  {
   "cell_type": "code",
   "execution_count": 35,
   "metadata": {},
   "outputs": [
    {
     "name": "stdout",
     "output_type": "stream",
     "text": [
      "Shape:  (873951, 2) (873951,)\n"
     ]
    }
   ],
   "source": [
    "# Assign the data to X and y for 2016 election\n",
    "y16=pres_elec_df[\"2016_General_Election\"]\n",
    "X16=pres_elec_df.drop(columns=[\"2020_Primary_Election\",\"2020_General_Election\", \"2016_Primary_Election\",\"2016_General_Election\" ,\"2012_Primary_Election\", \"2012_General_Election\", \"2008_Primary_Election\", \"2008_General_Election\", \"Generational_Groups\", \"City\", \"Party\"])\n",
    "print(\"Shape: \", X16.shape, y16.shape)"
   ]
  },
  {
   "cell_type": "code",
   "execution_count": 36,
   "metadata": {},
   "outputs": [],
   "source": [
    "# Split the data\n",
    "from sklearn.model_selection import train_test_split\n",
    "\n",
    "X_train, X_test, y_train, y_test = train_test_split(X16, y16, random_state=1)"
   ]
  },
  {
   "cell_type": "code",
   "execution_count": 37,
   "metadata": {},
   "outputs": [
    {
     "data": {
      "text/plain": [
       "LogisticRegression()"
      ]
     },
     "execution_count": 37,
     "metadata": {},
     "output_type": "execute_result"
    }
   ],
   "source": [
    "from sklearn.linear_model import LogisticRegression\n",
    "classifier = LogisticRegression()\n",
    "classifier"
   ]
  },
  {
   "cell_type": "code",
   "execution_count": 38,
   "metadata": {},
   "outputs": [
    {
     "data": {
      "text/plain": [
       "LogisticRegression()"
      ]
     },
     "execution_count": 38,
     "metadata": {},
     "output_type": "execute_result"
    }
   ],
   "source": [
    "classifier.fit(X_train, y_train)"
   ]
  },
  {
   "cell_type": "code",
   "execution_count": 39,
   "metadata": {},
   "outputs": [
    {
     "name": "stdout",
     "output_type": "stream",
     "text": [
      "Training Data Score: 0.7053823022809831\n",
      "Testing Data Score: 0.7049082787155359\n"
     ]
    }
   ],
   "source": [
    "print(f\"Training Data Score: {classifier.score(X_train, y_train)}\")\n",
    "print(f\"Testing Data Score: {classifier.score(X_test, y_test)}\")"
   ]
  },
  {
   "cell_type": "code",
   "execution_count": 45,
   "metadata": {},
   "outputs": [
    {
     "name": "stdout",
     "output_type": "stream",
     "text": [
      "Shape:  (873951, 2) (873951,)\n"
     ]
    }
   ],
   "source": [
    "# Assign the data to X and y for 2012 election\n",
    "y12=pres_elec_df[\"2012_General_Election\"]\n",
    "X12=pres_elec_df.drop(columns=[\"2020_Primary_Election\",\"2020_General_Election\", \"2016_Primary_Election\",\"2016_General_Election\" ,\"2012_Primary_Election\", \"2012_General_Election\", \"2008_Primary_Election\", \"2008_General_Election\", \"Generational_Groups\", \"City\", \"Party\"])\n",
    "print(\"Shape: \", X12.shape, y12.shape)"
   ]
  },
  {
   "cell_type": "code",
   "execution_count": 46,
   "metadata": {},
   "outputs": [],
   "source": [
    "# Split the data\n",
    "from sklearn.model_selection import train_test_split\n",
    "\n",
    "X_train, X_test, y_train, y_test = train_test_split(X12, y12, random_state=1)"
   ]
  },
  {
   "cell_type": "code",
   "execution_count": 47,
   "metadata": {},
   "outputs": [
    {
     "data": {
      "text/plain": [
       "LogisticRegression()"
      ]
     },
     "execution_count": 47,
     "metadata": {},
     "output_type": "execute_result"
    }
   ],
   "source": [
    "from sklearn.linear_model import LogisticRegression\n",
    "classifier = LogisticRegression()\n",
    "classifier"
   ]
  },
  {
   "cell_type": "code",
   "execution_count": 48,
   "metadata": {},
   "outputs": [
    {
     "data": {
      "text/plain": [
       "LogisticRegression()"
      ]
     },
     "execution_count": 48,
     "metadata": {},
     "output_type": "execute_result"
    }
   ],
   "source": [
    "classifier.fit(X_train, y_train)"
   ]
  },
  {
   "cell_type": "code",
   "execution_count": 49,
   "metadata": {},
   "outputs": [
    {
     "name": "stdout",
     "output_type": "stream",
     "text": [
      "Training Data Score: 0.720747013942816\n",
      "Testing Data Score: 0.7200029292226575\n"
     ]
    }
   ],
   "source": [
    "print(f\"Training Data Score: {classifier.score(X_train, y_train)}\")\n",
    "print(f\"Testing Data Score: {classifier.score(X_test, y_test)}\")"
   ]
  },
  {
   "cell_type": "code",
   "execution_count": 50,
   "metadata": {},
   "outputs": [
    {
     "name": "stdout",
     "output_type": "stream",
     "text": [
      "Shape:  (873951, 2) (873951,)\n"
     ]
    }
   ],
   "source": [
    "# Assign the data to X and y for 2008 election\n",
    "y08=pres_elec_df[\"2008_General_Election\"]\n",
    "X08=pres_elec_df.drop(columns=[\"2020_Primary_Election\",\"2020_General_Election\", \"2016_Primary_Election\",\"2016_General_Election\" ,\"2012_Primary_Election\", \"2012_General_Election\", \"2008_Primary_Election\", \"2008_General_Election\", \"Generational_Groups\", \"City\", \"Party\"])\n",
    "print(\"Shape: \", X08.shape, y08.shape)"
   ]
  },
  {
   "cell_type": "code",
   "execution_count": 51,
   "metadata": {},
   "outputs": [],
   "source": [
    "# Split the data\n",
    "from sklearn.model_selection import train_test_split\n",
    "\n",
    "X_train, X_test, y_train, y_test = train_test_split(X08, y08, random_state=1)"
   ]
  },
  {
   "cell_type": "code",
   "execution_count": 52,
   "metadata": {},
   "outputs": [
    {
     "data": {
      "text/plain": [
       "LogisticRegression()"
      ]
     },
     "execution_count": 52,
     "metadata": {},
     "output_type": "execute_result"
    }
   ],
   "source": [
    "from sklearn.linear_model import LogisticRegression\n",
    "classifier = LogisticRegression()\n",
    "classifier"
   ]
  },
  {
   "cell_type": "code",
   "execution_count": 53,
   "metadata": {},
   "outputs": [
    {
     "data": {
      "text/plain": [
       "LogisticRegression()"
      ]
     },
     "execution_count": 53,
     "metadata": {},
     "output_type": "execute_result"
    }
   ],
   "source": [
    "classifier.fit(X_train, y_train)"
   ]
  },
  {
   "cell_type": "code",
   "execution_count": 54,
   "metadata": {},
   "outputs": [
    {
     "name": "stdout",
     "output_type": "stream",
     "text": [
      "Training Data Score: 0.7343541893287645\n",
      "Testing Data Score: 0.734571235033503\n"
     ]
    }
   ],
   "source": [
    "print(f\"Training Data Score: {classifier.score(X_train, y_train)}\")\n",
    "print(f\"Testing Data Score: {classifier.score(X_test, y_test)}\")"
   ]
  },
  {
   "cell_type": "markdown",
   "metadata": {},
   "source": [
    "## Modify the Machine Learning"
   ]
  },
  {
   "cell_type": "code",
   "execution_count": 59,
   "metadata": {},
   "outputs": [
    {
     "data": {
      "text/html": [
       "<div>\n",
       "<style scoped>\n",
       "    .dataframe tbody tr th:only-of-type {\n",
       "        vertical-align: middle;\n",
       "    }\n",
       "\n",
       "    .dataframe tbody tr th {\n",
       "        vertical-align: top;\n",
       "    }\n",
       "\n",
       "    .dataframe thead th {\n",
       "        text-align: right;\n",
       "    }\n",
       "</style>\n",
       "<table border=\"1\" class=\"dataframe\">\n",
       "  <thead>\n",
       "    <tr style=\"text-align: right;\">\n",
       "      <th></th>\n",
       "      <th>City</th>\n",
       "      <th>Zip_Code</th>\n",
       "      <th>Party</th>\n",
       "      <th>Birth_Year</th>\n",
       "      <th>2020_Primary_Election</th>\n",
       "      <th>2020_General_Election</th>\n",
       "      <th>2016_Primary_Election</th>\n",
       "      <th>2016_General_Election</th>\n",
       "      <th>2012_Primary_Election</th>\n",
       "      <th>2012_General_Election</th>\n",
       "      <th>2008_Primary_Election</th>\n",
       "      <th>2008_General_Election</th>\n",
       "      <th>Generational_Groups_Silent</th>\n",
       "      <th>Generational_Groups_Boomers</th>\n",
       "      <th>Generational_Groups_Generation X</th>\n",
       "      <th>Generational_Groups_Millenials</th>\n",
       "      <th>Generational_Groups_Generation Z</th>\n",
       "    </tr>\n",
       "    <tr>\n",
       "      <th>Voter_ID</th>\n",
       "      <th></th>\n",
       "      <th></th>\n",
       "      <th></th>\n",
       "      <th></th>\n",
       "      <th></th>\n",
       "      <th></th>\n",
       "      <th></th>\n",
       "      <th></th>\n",
       "      <th></th>\n",
       "      <th></th>\n",
       "      <th></th>\n",
       "      <th></th>\n",
       "      <th></th>\n",
       "      <th></th>\n",
       "      <th></th>\n",
       "      <th></th>\n",
       "      <th></th>\n",
       "    </tr>\n",
       "  </thead>\n",
       "  <tbody>\n",
       "    <tr>\n",
       "      <th>704844</th>\n",
       "      <td>SEVEN HILLS</td>\n",
       "      <td>44131</td>\n",
       "      <td>NOPTY</td>\n",
       "      <td>1959</td>\n",
       "      <td>0</td>\n",
       "      <td>1</td>\n",
       "      <td>D</td>\n",
       "      <td>1</td>\n",
       "      <td>0</td>\n",
       "      <td>1</td>\n",
       "      <td>D</td>\n",
       "      <td>1</td>\n",
       "      <td>0</td>\n",
       "      <td>1</td>\n",
       "      <td>0</td>\n",
       "      <td>0</td>\n",
       "      <td>0</td>\n",
       "    </tr>\n",
       "    <tr>\n",
       "      <th>1658758</th>\n",
       "      <td>PARMA</td>\n",
       "      <td>44130</td>\n",
       "      <td>REP</td>\n",
       "      <td>1968</td>\n",
       "      <td>0</td>\n",
       "      <td>1</td>\n",
       "      <td>R</td>\n",
       "      <td>1</td>\n",
       "      <td>R</td>\n",
       "      <td>1</td>\n",
       "      <td>D</td>\n",
       "      <td>1</td>\n",
       "      <td>0</td>\n",
       "      <td>0</td>\n",
       "      <td>1</td>\n",
       "      <td>0</td>\n",
       "      <td>0</td>\n",
       "    </tr>\n",
       "    <tr>\n",
       "      <th>2005536</th>\n",
       "      <td>BROADVIEW HTS</td>\n",
       "      <td>44147</td>\n",
       "      <td>REP</td>\n",
       "      <td>1976</td>\n",
       "      <td>0</td>\n",
       "      <td>1</td>\n",
       "      <td>R</td>\n",
       "      <td>1</td>\n",
       "      <td>R</td>\n",
       "      <td>1</td>\n",
       "      <td>D</td>\n",
       "      <td>1</td>\n",
       "      <td>0</td>\n",
       "      <td>0</td>\n",
       "      <td>1</td>\n",
       "      <td>0</td>\n",
       "      <td>0</td>\n",
       "    </tr>\n",
       "    <tr>\n",
       "      <th>2465762</th>\n",
       "      <td>SOLON</td>\n",
       "      <td>44139</td>\n",
       "      <td>NOPTY</td>\n",
       "      <td>1991</td>\n",
       "      <td>0</td>\n",
       "      <td>0</td>\n",
       "      <td>0</td>\n",
       "      <td>0</td>\n",
       "      <td>0</td>\n",
       "      <td>1</td>\n",
       "      <td>0</td>\n",
       "      <td>0</td>\n",
       "      <td>0</td>\n",
       "      <td>0</td>\n",
       "      <td>0</td>\n",
       "      <td>1</td>\n",
       "      <td>0</td>\n",
       "    </tr>\n",
       "    <tr>\n",
       "      <th>710633</th>\n",
       "      <td>INDEPENDENCE</td>\n",
       "      <td>44131</td>\n",
       "      <td>REP</td>\n",
       "      <td>1968</td>\n",
       "      <td>0</td>\n",
       "      <td>1</td>\n",
       "      <td>R</td>\n",
       "      <td>1</td>\n",
       "      <td>R</td>\n",
       "      <td>1</td>\n",
       "      <td>0</td>\n",
       "      <td>1</td>\n",
       "      <td>0</td>\n",
       "      <td>0</td>\n",
       "      <td>1</td>\n",
       "      <td>0</td>\n",
       "      <td>0</td>\n",
       "    </tr>\n",
       "  </tbody>\n",
       "</table>\n",
       "</div>"
      ],
      "text/plain": [
       "                   City  Zip_Code  Party  Birth_Year 2020_Primary_Election  \\\n",
       "Voter_ID                                                                     \n",
       "704844      SEVEN HILLS     44131  NOPTY        1959                     0   \n",
       "1658758           PARMA     44130    REP        1968                     0   \n",
       "2005536   BROADVIEW HTS     44147    REP        1976                     0   \n",
       "2465762           SOLON     44139  NOPTY        1991                     0   \n",
       "710633     INDEPENDENCE     44131    REP        1968                     0   \n",
       "\n",
       "          2020_General_Election 2016_Primary_Election  2016_General_Election  \\\n",
       "Voter_ID                                                                       \n",
       "704844                        1                     D                      1   \n",
       "1658758                       1                     R                      1   \n",
       "2005536                       1                     R                      1   \n",
       "2465762                       0                     0                      0   \n",
       "710633                        1                     R                      1   \n",
       "\n",
       "         2012_Primary_Election  2012_General_Election 2008_Primary_Election  \\\n",
       "Voter_ID                                                                      \n",
       "704844                       0                      1                     D   \n",
       "1658758                      R                      1                     D   \n",
       "2005536                      R                      1                     D   \n",
       "2465762                      0                      1                     0   \n",
       "710633                       R                      1                     0   \n",
       "\n",
       "          2008_General_Election  Generational_Groups_Silent  \\\n",
       "Voter_ID                                                      \n",
       "704844                        1                           0   \n",
       "1658758                       1                           0   \n",
       "2005536                       1                           0   \n",
       "2465762                       0                           0   \n",
       "710633                        1                           0   \n",
       "\n",
       "          Generational_Groups_Boomers  Generational_Groups_Generation X  \\\n",
       "Voter_ID                                                                  \n",
       "704844                              1                                 0   \n",
       "1658758                             0                                 1   \n",
       "2005536                             0                                 1   \n",
       "2465762                             0                                 0   \n",
       "710633                              0                                 1   \n",
       "\n",
       "          Generational_Groups_Millenials  Generational_Groups_Generation Z  \n",
       "Voter_ID                                                                    \n",
       "704844                                 0                                 0  \n",
       "1658758                                0                                 0  \n",
       "2005536                                0                                 0  \n",
       "2465762                                1                                 0  \n",
       "710633                                 0                                 0  "
      ]
     },
     "execution_count": 59,
     "metadata": {},
     "output_type": "execute_result"
    }
   ],
   "source": [
    "# Hot Code Generation Data\n",
    "gen_encoded_data = pd.get_dummies(pres_elec_df, columns = ['Generational_Groups'])\n",
    "gen_encoded_data.head()"
   ]
  },
  {
   "cell_type": "code",
   "execution_count": 65,
   "metadata": {},
   "outputs": [
    {
     "name": "stdout",
     "output_type": "stream",
     "text": [
      "Shape:  (873951, 7) (873951,)\n"
     ]
    }
   ],
   "source": [
    "# Assign the data to X and y for 2020 election - Add Generational Bucket\n",
    "y20=gen_encoded_data[\"2020_General_Election\"]\n",
    "X20=gen_encoded_data.drop(columns=[\"2020_Primary_Election\",\"2020_General_Election\", \"2016_Primary_Election\", \"2016_General_Election\",\"2012_Primary_Election\", \"2012_General_Election\", \"2008_Primary_Election\", \"2008_General_Election\", \"City\", \"Party\"])\n",
    "print(\"Shape: \", X20.shape, y20.shape)"
   ]
  },
  {
   "cell_type": "code",
   "execution_count": 62,
   "metadata": {},
   "outputs": [],
   "source": [
    "# Split the data\n",
    "from sklearn.model_selection import train_test_split\n",
    "\n",
    "X_train, X_test, y_train, y_test = train_test_split(X20, y20, random_state=1)"
   ]
  },
  {
   "cell_type": "code",
   "execution_count": 63,
   "metadata": {},
   "outputs": [
    {
     "data": {
      "text/plain": [
       "LogisticRegression()"
      ]
     },
     "execution_count": 63,
     "metadata": {},
     "output_type": "execute_result"
    }
   ],
   "source": [
    "from sklearn.linear_model import LogisticRegression\n",
    "classifier = LogisticRegression()\n",
    "classifier"
   ]
  },
  {
   "cell_type": "code",
   "execution_count": 58,
   "metadata": {},
   "outputs": [
    {
     "ename": "ValueError",
     "evalue": "could not convert string to float: 'Boomers'",
     "output_type": "error",
     "traceback": [
      "\u001b[0;31m---------------------------------------------------------------------------\u001b[0m",
      "\u001b[0;31mValueError\u001b[0m                                Traceback (most recent call last)",
      "\u001b[0;32m/var/folders/35/yhtxsvfj1j9g4zx17bsmqqtc0000gn/T/ipykernel_15302/3959894982.py\u001b[0m in \u001b[0;36m<module>\u001b[0;34m\u001b[0m\n\u001b[0;32m----> 1\u001b[0;31m \u001b[0mclassifier\u001b[0m\u001b[0;34m.\u001b[0m\u001b[0mfit\u001b[0m\u001b[0;34m(\u001b[0m\u001b[0mX_train\u001b[0m\u001b[0;34m,\u001b[0m \u001b[0my_train\u001b[0m\u001b[0;34m)\u001b[0m\u001b[0;34m\u001b[0m\u001b[0;34m\u001b[0m\u001b[0m\n\u001b[0m",
      "\u001b[0;32m~/opt/anaconda3/envs/mlenv/lib/python3.7/site-packages/sklearn/linear_model/_logistic.py\u001b[0m in \u001b[0;36mfit\u001b[0;34m(self, X, y, sample_weight)\u001b[0m\n\u001b[1;32m   1512\u001b[0m             \u001b[0mdtype\u001b[0m\u001b[0;34m=\u001b[0m\u001b[0m_dtype\u001b[0m\u001b[0;34m,\u001b[0m\u001b[0;34m\u001b[0m\u001b[0;34m\u001b[0m\u001b[0m\n\u001b[1;32m   1513\u001b[0m             \u001b[0morder\u001b[0m\u001b[0;34m=\u001b[0m\u001b[0;34m\"C\"\u001b[0m\u001b[0;34m,\u001b[0m\u001b[0;34m\u001b[0m\u001b[0;34m\u001b[0m\u001b[0m\n\u001b[0;32m-> 1514\u001b[0;31m             \u001b[0maccept_large_sparse\u001b[0m\u001b[0;34m=\u001b[0m\u001b[0msolver\u001b[0m \u001b[0;32mnot\u001b[0m \u001b[0;32min\u001b[0m \u001b[0;34m[\u001b[0m\u001b[0;34m\"liblinear\"\u001b[0m\u001b[0;34m,\u001b[0m \u001b[0;34m\"sag\"\u001b[0m\u001b[0;34m,\u001b[0m \u001b[0;34m\"saga\"\u001b[0m\u001b[0;34m]\u001b[0m\u001b[0;34m,\u001b[0m\u001b[0;34m\u001b[0m\u001b[0;34m\u001b[0m\u001b[0m\n\u001b[0m\u001b[1;32m   1515\u001b[0m         )\n\u001b[1;32m   1516\u001b[0m         \u001b[0mcheck_classification_targets\u001b[0m\u001b[0;34m(\u001b[0m\u001b[0my\u001b[0m\u001b[0;34m)\u001b[0m\u001b[0;34m\u001b[0m\u001b[0;34m\u001b[0m\u001b[0m\n",
      "\u001b[0;32m~/opt/anaconda3/envs/mlenv/lib/python3.7/site-packages/sklearn/base.py\u001b[0m in \u001b[0;36m_validate_data\u001b[0;34m(self, X, y, reset, validate_separately, **check_params)\u001b[0m\n\u001b[1;32m    579\u001b[0m                 \u001b[0my\u001b[0m \u001b[0;34m=\u001b[0m \u001b[0mcheck_array\u001b[0m\u001b[0;34m(\u001b[0m\u001b[0my\u001b[0m\u001b[0;34m,\u001b[0m \u001b[0;34m**\u001b[0m\u001b[0mcheck_y_params\u001b[0m\u001b[0;34m)\u001b[0m\u001b[0;34m\u001b[0m\u001b[0;34m\u001b[0m\u001b[0m\n\u001b[1;32m    580\u001b[0m             \u001b[0;32melse\u001b[0m\u001b[0;34m:\u001b[0m\u001b[0;34m\u001b[0m\u001b[0;34m\u001b[0m\u001b[0m\n\u001b[0;32m--> 581\u001b[0;31m                 \u001b[0mX\u001b[0m\u001b[0;34m,\u001b[0m \u001b[0my\u001b[0m \u001b[0;34m=\u001b[0m \u001b[0mcheck_X_y\u001b[0m\u001b[0;34m(\u001b[0m\u001b[0mX\u001b[0m\u001b[0;34m,\u001b[0m \u001b[0my\u001b[0m\u001b[0;34m,\u001b[0m \u001b[0;34m**\u001b[0m\u001b[0mcheck_params\u001b[0m\u001b[0;34m)\u001b[0m\u001b[0;34m\u001b[0m\u001b[0;34m\u001b[0m\u001b[0m\n\u001b[0m\u001b[1;32m    582\u001b[0m             \u001b[0mout\u001b[0m \u001b[0;34m=\u001b[0m \u001b[0mX\u001b[0m\u001b[0;34m,\u001b[0m \u001b[0my\u001b[0m\u001b[0;34m\u001b[0m\u001b[0;34m\u001b[0m\u001b[0m\n\u001b[1;32m    583\u001b[0m \u001b[0;34m\u001b[0m\u001b[0m\n",
      "\u001b[0;32m~/opt/anaconda3/envs/mlenv/lib/python3.7/site-packages/sklearn/utils/validation.py\u001b[0m in \u001b[0;36mcheck_X_y\u001b[0;34m(X, y, accept_sparse, accept_large_sparse, dtype, order, copy, force_all_finite, ensure_2d, allow_nd, multi_output, ensure_min_samples, ensure_min_features, y_numeric, estimator)\u001b[0m\n\u001b[1;32m    974\u001b[0m         \u001b[0mensure_min_samples\u001b[0m\u001b[0;34m=\u001b[0m\u001b[0mensure_min_samples\u001b[0m\u001b[0;34m,\u001b[0m\u001b[0;34m\u001b[0m\u001b[0;34m\u001b[0m\u001b[0m\n\u001b[1;32m    975\u001b[0m         \u001b[0mensure_min_features\u001b[0m\u001b[0;34m=\u001b[0m\u001b[0mensure_min_features\u001b[0m\u001b[0;34m,\u001b[0m\u001b[0;34m\u001b[0m\u001b[0;34m\u001b[0m\u001b[0m\n\u001b[0;32m--> 976\u001b[0;31m         \u001b[0mestimator\u001b[0m\u001b[0;34m=\u001b[0m\u001b[0mestimator\u001b[0m\u001b[0;34m,\u001b[0m\u001b[0;34m\u001b[0m\u001b[0;34m\u001b[0m\u001b[0m\n\u001b[0m\u001b[1;32m    977\u001b[0m     )\n\u001b[1;32m    978\u001b[0m \u001b[0;34m\u001b[0m\u001b[0m\n",
      "\u001b[0;32m~/opt/anaconda3/envs/mlenv/lib/python3.7/site-packages/sklearn/utils/validation.py\u001b[0m in \u001b[0;36mcheck_array\u001b[0;34m(array, accept_sparse, accept_large_sparse, dtype, order, copy, force_all_finite, ensure_2d, allow_nd, ensure_min_samples, ensure_min_features, estimator)\u001b[0m\n\u001b[1;32m    744\u001b[0m                     \u001b[0marray\u001b[0m \u001b[0;34m=\u001b[0m \u001b[0marray\u001b[0m\u001b[0;34m.\u001b[0m\u001b[0mastype\u001b[0m\u001b[0;34m(\u001b[0m\u001b[0mdtype\u001b[0m\u001b[0;34m,\u001b[0m \u001b[0mcasting\u001b[0m\u001b[0;34m=\u001b[0m\u001b[0;34m\"unsafe\"\u001b[0m\u001b[0;34m,\u001b[0m \u001b[0mcopy\u001b[0m\u001b[0;34m=\u001b[0m\u001b[0;32mFalse\u001b[0m\u001b[0;34m)\u001b[0m\u001b[0;34m\u001b[0m\u001b[0;34m\u001b[0m\u001b[0m\n\u001b[1;32m    745\u001b[0m                 \u001b[0;32melse\u001b[0m\u001b[0;34m:\u001b[0m\u001b[0;34m\u001b[0m\u001b[0;34m\u001b[0m\u001b[0m\n\u001b[0;32m--> 746\u001b[0;31m                     \u001b[0marray\u001b[0m \u001b[0;34m=\u001b[0m \u001b[0mnp\u001b[0m\u001b[0;34m.\u001b[0m\u001b[0masarray\u001b[0m\u001b[0;34m(\u001b[0m\u001b[0marray\u001b[0m\u001b[0;34m,\u001b[0m \u001b[0morder\u001b[0m\u001b[0;34m=\u001b[0m\u001b[0morder\u001b[0m\u001b[0;34m,\u001b[0m \u001b[0mdtype\u001b[0m\u001b[0;34m=\u001b[0m\u001b[0mdtype\u001b[0m\u001b[0;34m)\u001b[0m\u001b[0;34m\u001b[0m\u001b[0;34m\u001b[0m\u001b[0m\n\u001b[0m\u001b[1;32m    747\u001b[0m             \u001b[0;32mexcept\u001b[0m \u001b[0mComplexWarning\u001b[0m \u001b[0;32mas\u001b[0m \u001b[0mcomplex_warning\u001b[0m\u001b[0;34m:\u001b[0m\u001b[0;34m\u001b[0m\u001b[0;34m\u001b[0m\u001b[0m\n\u001b[1;32m    748\u001b[0m                 raise ValueError(\n",
      "\u001b[0;32m~/opt/anaconda3/envs/mlenv/lib/python3.7/site-packages/pandas/core/generic.py\u001b[0m in \u001b[0;36m__array__\u001b[0;34m(self, dtype)\u001b[0m\n\u001b[1;32m   1991\u001b[0m \u001b[0;34m\u001b[0m\u001b[0m\n\u001b[1;32m   1992\u001b[0m     \u001b[0;32mdef\u001b[0m \u001b[0m__array__\u001b[0m\u001b[0;34m(\u001b[0m\u001b[0mself\u001b[0m\u001b[0;34m,\u001b[0m \u001b[0mdtype\u001b[0m\u001b[0;34m:\u001b[0m \u001b[0mNpDtype\u001b[0m \u001b[0;34m|\u001b[0m \u001b[0;32mNone\u001b[0m \u001b[0;34m=\u001b[0m \u001b[0;32mNone\u001b[0m\u001b[0;34m)\u001b[0m \u001b[0;34m->\u001b[0m \u001b[0mnp\u001b[0m\u001b[0;34m.\u001b[0m\u001b[0mndarray\u001b[0m\u001b[0;34m:\u001b[0m\u001b[0;34m\u001b[0m\u001b[0;34m\u001b[0m\u001b[0m\n\u001b[0;32m-> 1993\u001b[0;31m         \u001b[0;32mreturn\u001b[0m \u001b[0mnp\u001b[0m\u001b[0;34m.\u001b[0m\u001b[0masarray\u001b[0m\u001b[0;34m(\u001b[0m\u001b[0mself\u001b[0m\u001b[0;34m.\u001b[0m\u001b[0m_values\u001b[0m\u001b[0;34m,\u001b[0m \u001b[0mdtype\u001b[0m\u001b[0;34m=\u001b[0m\u001b[0mdtype\u001b[0m\u001b[0;34m)\u001b[0m\u001b[0;34m\u001b[0m\u001b[0;34m\u001b[0m\u001b[0m\n\u001b[0m\u001b[1;32m   1994\u001b[0m \u001b[0;34m\u001b[0m\u001b[0m\n\u001b[1;32m   1995\u001b[0m     def __array_wrap__(\n",
      "\u001b[0;31mValueError\u001b[0m: could not convert string to float: 'Boomers'"
     ]
    }
   ],
   "source": [
    "classifier.fit(X_train, y_train)"
   ]
  },
  {
   "cell_type": "code",
   "execution_count": null,
   "metadata": {},
   "outputs": [],
   "source": []
  }
 ],
 "metadata": {
  "kernelspec": {
   "display_name": "mlenv",
   "language": "python",
   "name": "mlenv"
  },
  "language_info": {
   "codemirror_mode": {
    "name": "ipython",
    "version": 3
   },
   "file_extension": ".py",
   "mimetype": "text/x-python",
   "name": "python",
   "nbconvert_exporter": "python",
   "pygments_lexer": "ipython3",
   "version": "3.7.13"
  },
  "vscode": {
   "interpreter": {
    "hash": "9cbd3ad8153c16a78d81bc8a504c18eabb83723a1b678246e27cd1390a16f6c4"
   }
  }
 },
 "nbformat": 4,
 "nbformat_minor": 2
}
