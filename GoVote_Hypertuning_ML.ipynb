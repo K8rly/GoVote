{
  "cells": [
    {
      "cell_type": "markdown",
      "metadata": {
        "colab_type": "text",
        "id": "view-in-github"
      },
      "source": [
        "<a href=\"https://colab.research.google.com/github/K8rly/GoVote/blob/SarahDivakarla/GoVoteML_2016.ipynb\" target=\"_parent\"><img src=\"https://colab.research.google.com/assets/colab-badge.svg\" alt=\"Open In Colab\"/></a>"
      ]
    },
    {
      "cell_type": "code",
      "execution_count": 1,
      "metadata": {
        "id": "bsGN4GGGpUx2"
      },
      "outputs": [],
      "source": [
        "import warnings\n",
        "warnings.filterwarnings('ignore')\n",
        "import pandas as pd\n",
        "import numpy as np\n",
        "import seaborn as sb\n",
        "from pathlib import Path"
      ]
    },
    {
      "cell_type": "markdown",
      "metadata": {
        "id": "NvsIi5UTpUx9"
      },
      "source": [
        "## Import CSV"
      ]
    },
    {
      "cell_type": "code",
      "execution_count": 2,
      "metadata": {
        "colab": {
          "base_uri": "https://localhost:8080/",
          "height": 73,
          "resources": {
            "http://localhost:8080/nbextensions/google.colab/files.js": {
              "data": "Ly8gQ29weXJpZ2h0IDIwMTcgR29vZ2xlIExMQwovLwovLyBMaWNlbnNlZCB1bmRlciB0aGUgQXBhY2hlIExpY2Vuc2UsIFZlcnNpb24gMi4wICh0aGUgIkxpY2Vuc2UiKTsKLy8geW91IG1heSBub3QgdXNlIHRoaXMgZmlsZSBleGNlcHQgaW4gY29tcGxpYW5jZSB3aXRoIHRoZSBMaWNlbnNlLgovLyBZb3UgbWF5IG9idGFpbiBhIGNvcHkgb2YgdGhlIExpY2Vuc2UgYXQKLy8KLy8gICAgICBodHRwOi8vd3d3LmFwYWNoZS5vcmcvbGljZW5zZXMvTElDRU5TRS0yLjAKLy8KLy8gVW5sZXNzIHJlcXVpcmVkIGJ5IGFwcGxpY2FibGUgbGF3IG9yIGFncmVlZCB0byBpbiB3cml0aW5nLCBzb2Z0d2FyZQovLyBkaXN0cmlidXRlZCB1bmRlciB0aGUgTGljZW5zZSBpcyBkaXN0cmlidXRlZCBvbiBhbiAiQVMgSVMiIEJBU0lTLAovLyBXSVRIT1VUIFdBUlJBTlRJRVMgT1IgQ09ORElUSU9OUyBPRiBBTlkgS0lORCwgZWl0aGVyIGV4cHJlc3Mgb3IgaW1wbGllZC4KLy8gU2VlIHRoZSBMaWNlbnNlIGZvciB0aGUgc3BlY2lmaWMgbGFuZ3VhZ2UgZ292ZXJuaW5nIHBlcm1pc3Npb25zIGFuZAovLyBsaW1pdGF0aW9ucyB1bmRlciB0aGUgTGljZW5zZS4KCi8qKgogKiBAZmlsZW92ZXJ2aWV3IEhlbHBlcnMgZm9yIGdvb2dsZS5jb2xhYiBQeXRob24gbW9kdWxlLgogKi8KKGZ1bmN0aW9uKHNjb3BlKSB7CmZ1bmN0aW9uIHNwYW4odGV4dCwgc3R5bGVBdHRyaWJ1dGVzID0ge30pIHsKICBjb25zdCBlbGVtZW50ID0gZG9jdW1lbnQuY3JlYXRlRWxlbWVudCgnc3BhbicpOwogIGVsZW1lbnQudGV4dENvbnRlbnQgPSB0ZXh0OwogIGZvciAoY29uc3Qga2V5IG9mIE9iamVjdC5rZXlzKHN0eWxlQXR0cmlidXRlcykpIHsKICAgIGVsZW1lbnQuc3R5bGVba2V5XSA9IHN0eWxlQXR0cmlidXRlc1trZXldOwogIH0KICByZXR1cm4gZWxlbWVudDsKfQoKLy8gTWF4IG51bWJlciBvZiBieXRlcyB3aGljaCB3aWxsIGJlIHVwbG9hZGVkIGF0IGEgdGltZS4KY29uc3QgTUFYX1BBWUxPQURfU0laRSA9IDEwMCAqIDEwMjQ7CgpmdW5jdGlvbiBfdXBsb2FkRmlsZXMoaW5wdXRJZCwgb3V0cHV0SWQpIHsKICBjb25zdCBzdGVwcyA9IHVwbG9hZEZpbGVzU3RlcChpbnB1dElkLCBvdXRwdXRJZCk7CiAgY29uc3Qgb3V0cHV0RWxlbWVudCA9IGRvY3VtZW50LmdldEVsZW1lbnRCeUlkKG91dHB1dElkKTsKICAvLyBDYWNoZSBzdGVwcyBvbiB0aGUgb3V0cHV0RWxlbWVudCB0byBtYWtlIGl0IGF2YWlsYWJsZSBmb3IgdGhlIG5leHQgY2FsbAogIC8vIHRvIHVwbG9hZEZpbGVzQ29udGludWUgZnJvbSBQeXRob24uCiAgb3V0cHV0RWxlbWVudC5zdGVwcyA9IHN0ZXBzOwoKICByZXR1cm4gX3VwbG9hZEZpbGVzQ29udGludWUob3V0cHV0SWQpOwp9CgovLyBUaGlzIGlzIHJvdWdobHkgYW4gYXN5bmMgZ2VuZXJhdG9yIChub3Qgc3VwcG9ydGVkIGluIHRoZSBicm93c2VyIHlldCksCi8vIHdoZXJlIHRoZXJlIGFyZSBtdWx0aXBsZSBhc3luY2hyb25vdXMgc3RlcHMgYW5kIHRoZSBQeXRob24gc2lkZSBpcyBnb2luZwovLyB0byBwb2xsIGZvciBjb21wbGV0aW9uIG9mIGVhY2ggc3RlcC4KLy8gVGhpcyB1c2VzIGEgUHJvbWlzZSB0byBibG9jayB0aGUgcHl0aG9uIHNpZGUgb24gY29tcGxldGlvbiBvZiBlYWNoIHN0ZXAsCi8vIHRoZW4gcGFzc2VzIHRoZSByZXN1bHQgb2YgdGhlIHByZXZpb3VzIHN0ZXAgYXMgdGhlIGlucHV0IHRvIHRoZSBuZXh0IHN0ZXAuCmZ1bmN0aW9uIF91cGxvYWRGaWxlc0NvbnRpbnVlKG91dHB1dElkKSB7CiAgY29uc3Qgb3V0cHV0RWxlbWVudCA9IGRvY3VtZW50LmdldEVsZW1lbnRCeUlkKG91dHB1dElkKTsKICBjb25zdCBzdGVwcyA9IG91dHB1dEVsZW1lbnQuc3RlcHM7CgogIGNvbnN0IG5leHQgPSBzdGVwcy5uZXh0KG91dHB1dEVsZW1lbnQubGFzdFByb21pc2VWYWx1ZSk7CiAgcmV0dXJuIFByb21pc2UucmVzb2x2ZShuZXh0LnZhbHVlLnByb21pc2UpLnRoZW4oKHZhbHVlKSA9PiB7CiAgICAvLyBDYWNoZSB0aGUgbGFzdCBwcm9taXNlIHZhbHVlIHRvIG1ha2UgaXQgYXZhaWxhYmxlIHRvIHRoZSBuZXh0CiAgICAvLyBzdGVwIG9mIHRoZSBnZW5lcmF0b3IuCiAgICBvdXRwdXRFbGVtZW50Lmxhc3RQcm9taXNlVmFsdWUgPSB2YWx1ZTsKICAgIHJldHVybiBuZXh0LnZhbHVlLnJlc3BvbnNlOwogIH0pOwp9CgovKioKICogR2VuZXJhdG9yIGZ1bmN0aW9uIHdoaWNoIGlzIGNhbGxlZCBiZXR3ZWVuIGVhY2ggYXN5bmMgc3RlcCBvZiB0aGUgdXBsb2FkCiAqIHByb2Nlc3MuCiAqIEBwYXJhbSB7c3RyaW5nfSBpbnB1dElkIEVsZW1lbnQgSUQgb2YgdGhlIGlucHV0IGZpbGUgcGlja2VyIGVsZW1lbnQuCiAqIEBwYXJhbSB7c3RyaW5nfSBvdXRwdXRJZCBFbGVtZW50IElEIG9mIHRoZSBvdXRwdXQgZGlzcGxheS4KICogQHJldHVybiB7IUl0ZXJhYmxlPCFPYmplY3Q+fSBJdGVyYWJsZSBvZiBuZXh0IHN0ZXBzLgogKi8KZnVuY3Rpb24qIHVwbG9hZEZpbGVzU3RlcChpbnB1dElkLCBvdXRwdXRJZCkgewogIGNvbnN0IGlucHV0RWxlbWVudCA9IGRvY3VtZW50LmdldEVsZW1lbnRCeUlkKGlucHV0SWQpOwogIGlucHV0RWxlbWVudC5kaXNhYmxlZCA9IGZhbHNlOwoKICBjb25zdCBvdXRwdXRFbGVtZW50ID0gZG9jdW1lbnQuZ2V0RWxlbWVudEJ5SWQob3V0cHV0SWQpOwogIG91dHB1dEVsZW1lbnQuaW5uZXJIVE1MID0gJyc7CgogIGNvbnN0IHBpY2tlZFByb21pc2UgPSBuZXcgUHJvbWlzZSgocmVzb2x2ZSkgPT4gewogICAgaW5wdXRFbGVtZW50LmFkZEV2ZW50TGlzdGVuZXIoJ2NoYW5nZScsIChlKSA9PiB7CiAgICAgIHJlc29sdmUoZS50YXJnZXQuZmlsZXMpOwogICAgfSk7CiAgfSk7CgogIGNvbnN0IGNhbmNlbCA9IGRvY3VtZW50LmNyZWF0ZUVsZW1lbnQoJ2J1dHRvbicpOwogIGlucHV0RWxlbWVudC5wYXJlbnRFbGVtZW50LmFwcGVuZENoaWxkKGNhbmNlbCk7CiAgY2FuY2VsLnRleHRDb250ZW50ID0gJ0NhbmNlbCB1cGxvYWQnOwogIGNvbnN0IGNhbmNlbFByb21pc2UgPSBuZXcgUHJvbWlzZSgocmVzb2x2ZSkgPT4gewogICAgY2FuY2VsLm9uY2xpY2sgPSAoKSA9PiB7CiAgICAgIHJlc29sdmUobnVsbCk7CiAgICB9OwogIH0pOwoKICAvLyBXYWl0IGZvciB0aGUgdXNlciB0byBwaWNrIHRoZSBmaWxlcy4KICBjb25zdCBmaWxlcyA9IHlpZWxkIHsKICAgIHByb21pc2U6IFByb21pc2UucmFjZShbcGlja2VkUHJvbWlzZSwgY2FuY2VsUHJvbWlzZV0pLAogICAgcmVzcG9uc2U6IHsKICAgICAgYWN0aW9uOiAnc3RhcnRpbmcnLAogICAgfQogIH07CgogIGNhbmNlbC5yZW1vdmUoKTsKCiAgLy8gRGlzYWJsZSB0aGUgaW5wdXQgZWxlbWVudCBzaW5jZSBmdXJ0aGVyIHBpY2tzIGFyZSBub3QgYWxsb3dlZC4KICBpbnB1dEVsZW1lbnQuZGlzYWJsZWQgPSB0cnVlOwoKICBpZiAoIWZpbGVzKSB7CiAgICByZXR1cm4gewogICAgICByZXNwb25zZTogewogICAgICAgIGFjdGlvbjogJ2NvbXBsZXRlJywKICAgICAgfQogICAgfTsKICB9CgogIGZvciAoY29uc3QgZmlsZSBvZiBmaWxlcykgewogICAgY29uc3QgbGkgPSBkb2N1bWVudC5jcmVhdGVFbGVtZW50KCdsaScpOwogICAgbGkuYXBwZW5kKHNwYW4oZmlsZS5uYW1lLCB7Zm9udFdlaWdodDogJ2JvbGQnfSkpOwogICAgbGkuYXBwZW5kKHNwYW4oCiAgICAgICAgYCgke2ZpbGUudHlwZSB8fCAnbi9hJ30pIC0gJHtmaWxlLnNpemV9IGJ5dGVzLCBgICsKICAgICAgICBgbGFzdCBtb2RpZmllZDogJHsKICAgICAgICAgICAgZmlsZS5sYXN0TW9kaWZpZWREYXRlID8gZmlsZS5sYXN0TW9kaWZpZWREYXRlLnRvTG9jYWxlRGF0ZVN0cmluZygpIDoKICAgICAgICAgICAgICAgICAgICAgICAgICAgICAgICAgICAgJ24vYSd9IC0gYCkpOwogICAgY29uc3QgcGVyY2VudCA9IHNwYW4oJzAlIGRvbmUnKTsKICAgIGxpLmFwcGVuZENoaWxkKHBlcmNlbnQpOwoKICAgIG91dHB1dEVsZW1lbnQuYXBwZW5kQ2hpbGQobGkpOwoKICAgIGNvbnN0IGZpbGVEYXRhUHJvbWlzZSA9IG5ldyBQcm9taXNlKChyZXNvbHZlKSA9PiB7CiAgICAgIGNvbnN0IHJlYWRlciA9IG5ldyBGaWxlUmVhZGVyKCk7CiAgICAgIHJlYWRlci5vbmxvYWQgPSAoZSkgPT4gewogICAgICAgIHJlc29sdmUoZS50YXJnZXQucmVzdWx0KTsKICAgICAgfTsKICAgICAgcmVhZGVyLnJlYWRBc0FycmF5QnVmZmVyKGZpbGUpOwogICAgfSk7CiAgICAvLyBXYWl0IGZvciB0aGUgZGF0YSB0byBiZSByZWFkeS4KICAgIGxldCBmaWxlRGF0YSA9IHlpZWxkIHsKICAgICAgcHJvbWlzZTogZmlsZURhdGFQcm9taXNlLAogICAgICByZXNwb25zZTogewogICAgICAgIGFjdGlvbjogJ2NvbnRpbnVlJywKICAgICAgfQogICAgfTsKCiAgICAvLyBVc2UgYSBjaHVua2VkIHNlbmRpbmcgdG8gYXZvaWQgbWVzc2FnZSBzaXplIGxpbWl0cy4gU2VlIGIvNjIxMTU2NjAuCiAgICBsZXQgcG9zaXRpb24gPSAwOwogICAgZG8gewogICAgICBjb25zdCBsZW5ndGggPSBNYXRoLm1pbihmaWxlRGF0YS5ieXRlTGVuZ3RoIC0gcG9zaXRpb24sIE1BWF9QQVlMT0FEX1NJWkUpOwogICAgICBjb25zdCBjaHVuayA9IG5ldyBVaW50OEFycmF5KGZpbGVEYXRhLCBwb3NpdGlvbiwgbGVuZ3RoKTsKICAgICAgcG9zaXRpb24gKz0gbGVuZ3RoOwoKICAgICAgY29uc3QgYmFzZTY0ID0gYnRvYShTdHJpbmcuZnJvbUNoYXJDb2RlLmFwcGx5KG51bGwsIGNodW5rKSk7CiAgICAgIHlpZWxkIHsKICAgICAgICByZXNwb25zZTogewogICAgICAgICAgYWN0aW9uOiAnYXBwZW5kJywKICAgICAgICAgIGZpbGU6IGZpbGUubmFtZSwKICAgICAgICAgIGRhdGE6IGJhc2U2NCwKICAgICAgICB9LAogICAgICB9OwoKICAgICAgbGV0IHBlcmNlbnREb25lID0gZmlsZURhdGEuYnl0ZUxlbmd0aCA9PT0gMCA/CiAgICAgICAgICAxMDAgOgogICAgICAgICAgTWF0aC5yb3VuZCgocG9zaXRpb24gLyBmaWxlRGF0YS5ieXRlTGVuZ3RoKSAqIDEwMCk7CiAgICAgIHBlcmNlbnQudGV4dENvbnRlbnQgPSBgJHtwZXJjZW50RG9uZX0lIGRvbmVgOwoKICAgIH0gd2hpbGUgKHBvc2l0aW9uIDwgZmlsZURhdGEuYnl0ZUxlbmd0aCk7CiAgfQoKICAvLyBBbGwgZG9uZS4KICB5aWVsZCB7CiAgICByZXNwb25zZTogewogICAgICBhY3Rpb246ICdjb21wbGV0ZScsCiAgICB9CiAgfTsKfQoKc2NvcGUuZ29vZ2xlID0gc2NvcGUuZ29vZ2xlIHx8IHt9OwpzY29wZS5nb29nbGUuY29sYWIgPSBzY29wZS5nb29nbGUuY29sYWIgfHwge307CnNjb3BlLmdvb2dsZS5jb2xhYi5fZmlsZXMgPSB7CiAgX3VwbG9hZEZpbGVzLAogIF91cGxvYWRGaWxlc0NvbnRpbnVlLAp9Owp9KShzZWxmKTsK",
              "headers": [
                [
                  "content-type",
                  "application/javascript"
                ]
              ],
              "ok": true,
              "status": 200,
              "status_text": ""
            }
          }
        },
        "id": "gF57HrNMqElV",
        "outputId": "a16d2140-9810-4e38-f758-f94ca7cfd82e"
      },
      "outputs": [
        {
          "data": {
            "text/html": [
              "\n",
              "     <input type=\"file\" id=\"files-5386d07e-92bf-4945-90a1-03c5ba9f92c2\" name=\"files[]\" multiple disabled\n",
              "        style=\"border:none\" />\n",
              "     <output id=\"result-5386d07e-92bf-4945-90a1-03c5ba9f92c2\">\n",
              "      Upload widget is only available when the cell has been executed in the\n",
              "      current browser session. Please rerun this cell to enable.\n",
              "      </output>\n",
              "      <script src=\"/nbextensions/google.colab/files.js\"></script> "
            ],
            "text/plain": [
              "<IPython.core.display.HTML object>"
            ]
          },
          "metadata": {},
          "output_type": "display_data"
        },
        {
          "name": "stdout",
          "output_type": "stream",
          "text": [
            "Saving voter_final.csv to voter_final.csv\n"
          ]
        }
      ],
      "source": [
        "# from google.colab import files\n",
        "# uploaded = files.upload()"
      ]
    },
    {
      "cell_type": "code",
      "execution_count": 2,
      "metadata": {
        "colab": {
          "base_uri": "https://localhost:8080/",
          "height": 288
        },
        "id": "V2rA7u3RpUyA",
        "outputId": "f963f942-b5e0-4e77-9f76-f8208cd2d32a"
      },
      "outputs": [
        {
          "data": {
            "text/html": [
              "<div>\n",
              "<style scoped>\n",
              "    .dataframe tbody tr th:only-of-type {\n",
              "        vertical-align: middle;\n",
              "    }\n",
              "\n",
              "    .dataframe tbody tr th {\n",
              "        vertical-align: top;\n",
              "    }\n",
              "\n",
              "    .dataframe thead th {\n",
              "        text-align: right;\n",
              "    }\n",
              "</style>\n",
              "<table border=\"1\" class=\"dataframe\">\n",
              "  <thead>\n",
              "    <tr style=\"text-align: right;\">\n",
              "      <th></th>\n",
              "      <th>Voter_ID</th>\n",
              "      <th>Birth_Year</th>\n",
              "      <th>City</th>\n",
              "      <th>Zip_Code</th>\n",
              "      <th>Party</th>\n",
              "      <th>Registration_Date</th>\n",
              "      <th>2020_Primary_Election</th>\n",
              "      <th>2020_General_Election</th>\n",
              "      <th>2016_Primary_Election</th>\n",
              "      <th>2016_General_Election</th>\n",
              "      <th>Generational_Group</th>\n",
              "    </tr>\n",
              "  </thead>\n",
              "  <tbody>\n",
              "    <tr>\n",
              "      <th>0</th>\n",
              "      <td>704844</td>\n",
              "      <td>1959</td>\n",
              "      <td>SEVEN HILLS</td>\n",
              "      <td>44131</td>\n",
              "      <td>NOPTY</td>\n",
              "      <td>1/1/1901</td>\n",
              "      <td>0</td>\n",
              "      <td>t</td>\n",
              "      <td>D</td>\n",
              "      <td>t</td>\n",
              "      <td>Boomers</td>\n",
              "    </tr>\n",
              "    <tr>\n",
              "      <th>1</th>\n",
              "      <td>1658758</td>\n",
              "      <td>1968</td>\n",
              "      <td>PARMA</td>\n",
              "      <td>44130</td>\n",
              "      <td>REP</td>\n",
              "      <td>9/9/1996</td>\n",
              "      <td>0</td>\n",
              "      <td>t</td>\n",
              "      <td>R</td>\n",
              "      <td>t</td>\n",
              "      <td>Generation X</td>\n",
              "    </tr>\n",
              "    <tr>\n",
              "      <th>2</th>\n",
              "      <td>2005536</td>\n",
              "      <td>1976</td>\n",
              "      <td>BROADVIEW HTS</td>\n",
              "      <td>44147</td>\n",
              "      <td>REP</td>\n",
              "      <td>3/8/2004</td>\n",
              "      <td>0</td>\n",
              "      <td>t</td>\n",
              "      <td>R</td>\n",
              "      <td>t</td>\n",
              "      <td>Generation X</td>\n",
              "    </tr>\n",
              "    <tr>\n",
              "      <th>3</th>\n",
              "      <td>2465762</td>\n",
              "      <td>1991</td>\n",
              "      <td>SOLON</td>\n",
              "      <td>44139</td>\n",
              "      <td>NOPTY</td>\n",
              "      <td>9/27/2010</td>\n",
              "      <td>0</td>\n",
              "      <td>f</td>\n",
              "      <td>0</td>\n",
              "      <td>f</td>\n",
              "      <td>Millennials</td>\n",
              "    </tr>\n",
              "    <tr>\n",
              "      <th>4</th>\n",
              "      <td>710633</td>\n",
              "      <td>1968</td>\n",
              "      <td>INDEPENDENCE</td>\n",
              "      <td>44131</td>\n",
              "      <td>REP</td>\n",
              "      <td>1/1/1901</td>\n",
              "      <td>0</td>\n",
              "      <td>t</td>\n",
              "      <td>R</td>\n",
              "      <td>t</td>\n",
              "      <td>Generation X</td>\n",
              "    </tr>\n",
              "  </tbody>\n",
              "</table>\n",
              "</div>"
            ],
            "text/plain": [
              "   Voter_ID  Birth_Year           City  Zip_Code  Party Registration_Date  \\\n",
              "0    704844        1959    SEVEN HILLS     44131  NOPTY          1/1/1901   \n",
              "1   1658758        1968          PARMA     44130    REP          9/9/1996   \n",
              "2   2005536        1976  BROADVIEW HTS     44147    REP          3/8/2004   \n",
              "3   2465762        1991          SOLON     44139  NOPTY         9/27/2010   \n",
              "4    710633        1968   INDEPENDENCE     44131    REP          1/1/1901   \n",
              "\n",
              "  2020_Primary_Election 2020_General_Election 2016_Primary_Election  \\\n",
              "0                     0                     t                     D   \n",
              "1                     0                     t                     R   \n",
              "2                     0                     t                     R   \n",
              "3                     0                     f                     0   \n",
              "4                     0                     t                     R   \n",
              "\n",
              "  2016_General_Election Generational_Group  \n",
              "0                     t            Boomers  \n",
              "1                     t       Generation X  \n",
              "2                     t       Generation X  \n",
              "3                     f        Millennials  \n",
              "4                     t       Generation X  "
            ]
          },
          "execution_count": 2,
          "metadata": {},
          "output_type": "execute_result"
        }
      ],
      "source": [
        "# 1. Create a DataFrame for the Presidential Election data. \n",
        "file_to_open = (\"voter_final.csv\")\n",
        "voter_df = pd.read_csv(file_to_open,  encoding=\"ISO-8859-1\")\n",
        "voter_df.head()"
      ]
    },
    {
      "cell_type": "markdown",
      "metadata": {
        "id": "RiEWb4FapUyC"
      },
      "source": [
        "## Data Cleaning"
      ]
    },
    {
      "cell_type": "code",
      "execution_count": 3,
      "metadata": {
        "id": "91Vfd5lApUyD"
      },
      "outputs": [],
      "source": [
        "#Replace True and False Values with 0 and 1\n",
        "voter_df.replace(('f', 't'), (0, 1), inplace=True)"
      ]
    },
    {
      "cell_type": "code",
      "execution_count": 4,
      "metadata": {
        "colab": {
          "base_uri": "https://localhost:8080/"
        },
        "id": "ZCZe5ToUpUyE",
        "outputId": "84e12a83-09ac-404e-a8ec-6880c81f687f"
      },
      "outputs": [
        {
          "data": {
            "text/plain": [
              "(719425, 11)"
            ]
          },
          "execution_count": 4,
          "metadata": {},
          "output_type": "execute_result"
        }
      ],
      "source": [
        "voter_df.shape"
      ]
    },
    {
      "cell_type": "code",
      "execution_count": 5,
      "metadata": {
        "colab": {
          "base_uri": "https://localhost:8080/"
        },
        "id": "3Su8DTnrpUyF",
        "outputId": "bb8e1995-7216-4ece-c9df-a80cb0d5c2c4"
      },
      "outputs": [
        {
          "name": "stdout",
          "output_type": "stream",
          "text": [
            "<class 'pandas.core.frame.DataFrame'>\n",
            "RangeIndex: 719425 entries, 0 to 719424\n",
            "Data columns (total 11 columns):\n",
            " #   Column                 Non-Null Count   Dtype \n",
            "---  ------                 --------------   ----- \n",
            " 0   Voter_ID               719425 non-null  int64 \n",
            " 1   Birth_Year             719425 non-null  int64 \n",
            " 2   City                   719425 non-null  object\n",
            " 3   Zip_Code               719425 non-null  int64 \n",
            " 4   Party                  719425 non-null  object\n",
            " 5   Registration_Date      719425 non-null  object\n",
            " 6   2020_Primary_Election  719425 non-null  object\n",
            " 7   2020_General_Election  719425 non-null  int64 \n",
            " 8   2016_Primary_Election  719425 non-null  object\n",
            " 9   2016_General_Election  719425 non-null  int64 \n",
            " 10  Generational_Group     719425 non-null  object\n",
            "dtypes: int64(5), object(6)\n",
            "memory usage: 60.4+ MB\n"
          ]
        }
      ],
      "source": [
        "#Column Datatypes\n",
        "voter_df.info()"
      ]
    },
    {
      "cell_type": "code",
      "execution_count": 6,
      "metadata": {
        "id": "LtMROt3TpUyG"
      },
      "outputs": [],
      "source": [
        "# Set voter_id_org column as index\n",
        "voter_df= voter_df.set_index('Voter_ID')"
      ]
    },
    {
      "cell_type": "code",
      "execution_count": null,
      "metadata": {
        "id": "OjK-HGuMpUyI"
      },
      "outputs": [],
      "source": [
        "# Hand categorical data\n",
        "# code primary election data into integers\n",
        "#D is Democrat, R is Republican, L is Libertarian, G is Green, 0, \" \", X and N is non-party, issues only ballot\n"
      ]
    },
    {
      "cell_type": "code",
      "execution_count": 7,
      "metadata": {
        "id": "BaCHGGcCpUyJ"
      },
      "outputs": [],
      "source": [
        "party={\"D\": 0, \"R\": 1, \"L\": 2, \"0\": 3, \"N\": 3, \" \": 3, \"G\": 4, \"X\": 3}\n",
        "voter_df['2016_Primary_Election'] = voter_df['2016_Primary_Election'].apply(lambda x:party[x])\n",
        "voter_df['2020_Primary_Election'] = voter_df['2020_Primary_Election'].apply(lambda x:party[x])\n"
      ]
    },
    {
      "cell_type": "code",
      "execution_count": 8,
      "metadata": {
        "colab": {
          "base_uri": "https://localhost:8080/",
          "height": 319
        },
        "id": "OkH-fabppUyK",
        "outputId": "3f6f3ee9-6a32-4737-b522-69157b4cb3b0"
      },
      "outputs": [
        {
          "data": {
            "text/html": [
              "<div>\n",
              "<style scoped>\n",
              "    .dataframe tbody tr th:only-of-type {\n",
              "        vertical-align: middle;\n",
              "    }\n",
              "\n",
              "    .dataframe tbody tr th {\n",
              "        vertical-align: top;\n",
              "    }\n",
              "\n",
              "    .dataframe thead th {\n",
              "        text-align: right;\n",
              "    }\n",
              "</style>\n",
              "<table border=\"1\" class=\"dataframe\">\n",
              "  <thead>\n",
              "    <tr style=\"text-align: right;\">\n",
              "      <th></th>\n",
              "      <th>Birth_Year</th>\n",
              "      <th>City</th>\n",
              "      <th>Zip_Code</th>\n",
              "      <th>Party</th>\n",
              "      <th>Registration_Date</th>\n",
              "      <th>2020_Primary_Election</th>\n",
              "      <th>2020_General_Election</th>\n",
              "      <th>2016_Primary_Election</th>\n",
              "      <th>2016_General_Election</th>\n",
              "      <th>Generational_Group</th>\n",
              "    </tr>\n",
              "    <tr>\n",
              "      <th>Voter_ID</th>\n",
              "      <th></th>\n",
              "      <th></th>\n",
              "      <th></th>\n",
              "      <th></th>\n",
              "      <th></th>\n",
              "      <th></th>\n",
              "      <th></th>\n",
              "      <th></th>\n",
              "      <th></th>\n",
              "      <th></th>\n",
              "    </tr>\n",
              "  </thead>\n",
              "  <tbody>\n",
              "    <tr>\n",
              "      <th>704844</th>\n",
              "      <td>1959</td>\n",
              "      <td>SEVEN HILLS</td>\n",
              "      <td>44131</td>\n",
              "      <td>NOPTY</td>\n",
              "      <td>1/1/1901</td>\n",
              "      <td>3</td>\n",
              "      <td>1</td>\n",
              "      <td>0</td>\n",
              "      <td>1</td>\n",
              "      <td>Boomers</td>\n",
              "    </tr>\n",
              "    <tr>\n",
              "      <th>1658758</th>\n",
              "      <td>1968</td>\n",
              "      <td>PARMA</td>\n",
              "      <td>44130</td>\n",
              "      <td>REP</td>\n",
              "      <td>9/9/1996</td>\n",
              "      <td>3</td>\n",
              "      <td>1</td>\n",
              "      <td>1</td>\n",
              "      <td>1</td>\n",
              "      <td>Generation X</td>\n",
              "    </tr>\n",
              "    <tr>\n",
              "      <th>2005536</th>\n",
              "      <td>1976</td>\n",
              "      <td>BROADVIEW HTS</td>\n",
              "      <td>44147</td>\n",
              "      <td>REP</td>\n",
              "      <td>3/8/2004</td>\n",
              "      <td>3</td>\n",
              "      <td>1</td>\n",
              "      <td>1</td>\n",
              "      <td>1</td>\n",
              "      <td>Generation X</td>\n",
              "    </tr>\n",
              "    <tr>\n",
              "      <th>2465762</th>\n",
              "      <td>1991</td>\n",
              "      <td>SOLON</td>\n",
              "      <td>44139</td>\n",
              "      <td>NOPTY</td>\n",
              "      <td>9/27/2010</td>\n",
              "      <td>3</td>\n",
              "      <td>0</td>\n",
              "      <td>3</td>\n",
              "      <td>0</td>\n",
              "      <td>Millennials</td>\n",
              "    </tr>\n",
              "    <tr>\n",
              "      <th>710633</th>\n",
              "      <td>1968</td>\n",
              "      <td>INDEPENDENCE</td>\n",
              "      <td>44131</td>\n",
              "      <td>REP</td>\n",
              "      <td>1/1/1901</td>\n",
              "      <td>3</td>\n",
              "      <td>1</td>\n",
              "      <td>1</td>\n",
              "      <td>1</td>\n",
              "      <td>Generation X</td>\n",
              "    </tr>\n",
              "  </tbody>\n",
              "</table>\n",
              "</div>"
            ],
            "text/plain": [
              "          Birth_Year           City  Zip_Code  Party Registration_Date  \\\n",
              "Voter_ID                                                                 \n",
              "704844          1959    SEVEN HILLS     44131  NOPTY          1/1/1901   \n",
              "1658758         1968          PARMA     44130    REP          9/9/1996   \n",
              "2005536         1976  BROADVIEW HTS     44147    REP          3/8/2004   \n",
              "2465762         1991          SOLON     44139  NOPTY         9/27/2010   \n",
              "710633          1968   INDEPENDENCE     44131    REP          1/1/1901   \n",
              "\n",
              "          2020_Primary_Election  2020_General_Election  2016_Primary_Election  \\\n",
              "Voter_ID                                                                        \n",
              "704844                        3                      1                      0   \n",
              "1658758                       3                      1                      1   \n",
              "2005536                       3                      1                      1   \n",
              "2465762                       3                      0                      3   \n",
              "710633                        3                      1                      1   \n",
              "\n",
              "          2016_General_Election Generational_Group  \n",
              "Voter_ID                                            \n",
              "704844                        1            Boomers  \n",
              "1658758                       1       Generation X  \n",
              "2005536                       1       Generation X  \n",
              "2465762                       0        Millennials  \n",
              "710633                        1       Generation X  "
            ]
          },
          "execution_count": 8,
          "metadata": {},
          "output_type": "execute_result"
        }
      ],
      "source": [
        "voter_df.head()"
      ]
    },
    {
      "cell_type": "code",
      "execution_count": 9,
      "metadata": {
        "colab": {
          "base_uri": "https://localhost:8080/"
        },
        "id": "c6mHIT7epUyK",
        "outputId": "d00bd3c8-81eb-4672-a9c8-8562b22d3388"
      },
      "outputs": [
        {
          "data": {
            "text/plain": [
              "array(['NOPTY', 'REP', 'DEM', 'GRE', 'LIB'], dtype=object)"
            ]
          },
          "execution_count": 9,
          "metadata": {},
          "output_type": "execute_result"
        }
      ],
      "source": [
        "voter_df[\"Party\"].unique()"
      ]
    },
    {
      "cell_type": "code",
      "execution_count": 10,
      "metadata": {
        "colab": {
          "base_uri": "https://localhost:8080/",
          "height": 319
        },
        "id": "E6et7zPGpUyL",
        "outputId": "f49a1200-8711-4359-d2c2-6abbed33fa77"
      },
      "outputs": [
        {
          "data": {
            "text/html": [
              "<div>\n",
              "<style scoped>\n",
              "    .dataframe tbody tr th:only-of-type {\n",
              "        vertical-align: middle;\n",
              "    }\n",
              "\n",
              "    .dataframe tbody tr th {\n",
              "        vertical-align: top;\n",
              "    }\n",
              "\n",
              "    .dataframe thead th {\n",
              "        text-align: right;\n",
              "    }\n",
              "</style>\n",
              "<table border=\"1\" class=\"dataframe\">\n",
              "  <thead>\n",
              "    <tr style=\"text-align: right;\">\n",
              "      <th></th>\n",
              "      <th>Birth_Year</th>\n",
              "      <th>City</th>\n",
              "      <th>Zip_Code</th>\n",
              "      <th>Party</th>\n",
              "      <th>Registration_Date</th>\n",
              "      <th>2020_Primary_Election</th>\n",
              "      <th>2020_General_Election</th>\n",
              "      <th>2016_Primary_Election</th>\n",
              "      <th>2016_General_Election</th>\n",
              "      <th>Generational_Group</th>\n",
              "    </tr>\n",
              "    <tr>\n",
              "      <th>Voter_ID</th>\n",
              "      <th></th>\n",
              "      <th></th>\n",
              "      <th></th>\n",
              "      <th></th>\n",
              "      <th></th>\n",
              "      <th></th>\n",
              "      <th></th>\n",
              "      <th></th>\n",
              "      <th></th>\n",
              "      <th></th>\n",
              "    </tr>\n",
              "  </thead>\n",
              "  <tbody>\n",
              "    <tr>\n",
              "      <th>704844</th>\n",
              "      <td>1959</td>\n",
              "      <td>SEVEN HILLS</td>\n",
              "      <td>44131</td>\n",
              "      <td>3</td>\n",
              "      <td>1/1/1901</td>\n",
              "      <td>3</td>\n",
              "      <td>1</td>\n",
              "      <td>0</td>\n",
              "      <td>1</td>\n",
              "      <td>Boomers</td>\n",
              "    </tr>\n",
              "    <tr>\n",
              "      <th>1658758</th>\n",
              "      <td>1968</td>\n",
              "      <td>PARMA</td>\n",
              "      <td>44130</td>\n",
              "      <td>1</td>\n",
              "      <td>9/9/1996</td>\n",
              "      <td>3</td>\n",
              "      <td>1</td>\n",
              "      <td>1</td>\n",
              "      <td>1</td>\n",
              "      <td>Generation X</td>\n",
              "    </tr>\n",
              "    <tr>\n",
              "      <th>2005536</th>\n",
              "      <td>1976</td>\n",
              "      <td>BROADVIEW HTS</td>\n",
              "      <td>44147</td>\n",
              "      <td>1</td>\n",
              "      <td>3/8/2004</td>\n",
              "      <td>3</td>\n",
              "      <td>1</td>\n",
              "      <td>1</td>\n",
              "      <td>1</td>\n",
              "      <td>Generation X</td>\n",
              "    </tr>\n",
              "    <tr>\n",
              "      <th>2465762</th>\n",
              "      <td>1991</td>\n",
              "      <td>SOLON</td>\n",
              "      <td>44139</td>\n",
              "      <td>3</td>\n",
              "      <td>9/27/2010</td>\n",
              "      <td>3</td>\n",
              "      <td>0</td>\n",
              "      <td>3</td>\n",
              "      <td>0</td>\n",
              "      <td>Millennials</td>\n",
              "    </tr>\n",
              "    <tr>\n",
              "      <th>710633</th>\n",
              "      <td>1968</td>\n",
              "      <td>INDEPENDENCE</td>\n",
              "      <td>44131</td>\n",
              "      <td>1</td>\n",
              "      <td>1/1/1901</td>\n",
              "      <td>3</td>\n",
              "      <td>1</td>\n",
              "      <td>1</td>\n",
              "      <td>1</td>\n",
              "      <td>Generation X</td>\n",
              "    </tr>\n",
              "  </tbody>\n",
              "</table>\n",
              "</div>"
            ],
            "text/plain": [
              "          Birth_Year           City  Zip_Code  Party Registration_Date  \\\n",
              "Voter_ID                                                                 \n",
              "704844          1959    SEVEN HILLS     44131      3          1/1/1901   \n",
              "1658758         1968          PARMA     44130      1          9/9/1996   \n",
              "2005536         1976  BROADVIEW HTS     44147      1          3/8/2004   \n",
              "2465762         1991          SOLON     44139      3         9/27/2010   \n",
              "710633          1968   INDEPENDENCE     44131      1          1/1/1901   \n",
              "\n",
              "          2020_Primary_Election  2020_General_Election  2016_Primary_Election  \\\n",
              "Voter_ID                                                                        \n",
              "704844                        3                      1                      0   \n",
              "1658758                       3                      1                      1   \n",
              "2005536                       3                      1                      1   \n",
              "2465762                       3                      0                      3   \n",
              "710633                        3                      1                      1   \n",
              "\n",
              "          2016_General_Election Generational_Group  \n",
              "Voter_ID                                            \n",
              "704844                        1            Boomers  \n",
              "1658758                       1       Generation X  \n",
              "2005536                       1       Generation X  \n",
              "2465762                       0        Millennials  \n",
              "710633                        1       Generation X  "
            ]
          },
          "execution_count": 10,
          "metadata": {},
          "output_type": "execute_result"
        }
      ],
      "source": [
        "# Handle Categorical \"Party\" columns\n",
        "P_ID = {\"DEM\": 0, \"REP\": 1,\"LIB\": 2, \"NOPTY\": 3, \"GRE\": 4}\n",
        "voter_df[\"Party\"] = voter_df[\"Party\"].apply(lambda x:P_ID[x])\n",
        "voter_df.head()"
      ]
    },
    {
      "cell_type": "code",
      "execution_count": 11,
      "metadata": {
        "colab": {
          "base_uri": "https://localhost:8080/",
          "height": 319
        },
        "id": "hwhqX2nppUyM",
        "outputId": "6fb0c18b-d560-45eb-e3cb-b58df5d3e6f2",
        "scrolled": true
      },
      "outputs": [
        {
          "data": {
            "text/html": [
              "<div>\n",
              "<style scoped>\n",
              "    .dataframe tbody tr th:only-of-type {\n",
              "        vertical-align: middle;\n",
              "    }\n",
              "\n",
              "    .dataframe tbody tr th {\n",
              "        vertical-align: top;\n",
              "    }\n",
              "\n",
              "    .dataframe thead th {\n",
              "        text-align: right;\n",
              "    }\n",
              "</style>\n",
              "<table border=\"1\" class=\"dataframe\">\n",
              "  <thead>\n",
              "    <tr style=\"text-align: right;\">\n",
              "      <th></th>\n",
              "      <th>Birth_Year</th>\n",
              "      <th>City</th>\n",
              "      <th>Zip_Code</th>\n",
              "      <th>Party</th>\n",
              "      <th>Registration_Date</th>\n",
              "      <th>2020_Primary_Election</th>\n",
              "      <th>2020_General_Election</th>\n",
              "      <th>2016_Primary_Election</th>\n",
              "      <th>2016_General_Election</th>\n",
              "      <th>Generational_Group</th>\n",
              "    </tr>\n",
              "    <tr>\n",
              "      <th>Voter_ID</th>\n",
              "      <th></th>\n",
              "      <th></th>\n",
              "      <th></th>\n",
              "      <th></th>\n",
              "      <th></th>\n",
              "      <th></th>\n",
              "      <th></th>\n",
              "      <th></th>\n",
              "      <th></th>\n",
              "      <th></th>\n",
              "    </tr>\n",
              "  </thead>\n",
              "  <tbody>\n",
              "    <tr>\n",
              "      <th>704844</th>\n",
              "      <td>1959</td>\n",
              "      <td>SEVEN HILLS</td>\n",
              "      <td>44131</td>\n",
              "      <td>3</td>\n",
              "      <td>1/1/1901</td>\n",
              "      <td>3</td>\n",
              "      <td>1</td>\n",
              "      <td>0</td>\n",
              "      <td>1</td>\n",
              "      <td>2</td>\n",
              "    </tr>\n",
              "    <tr>\n",
              "      <th>1658758</th>\n",
              "      <td>1968</td>\n",
              "      <td>PARMA</td>\n",
              "      <td>44130</td>\n",
              "      <td>1</td>\n",
              "      <td>9/9/1996</td>\n",
              "      <td>3</td>\n",
              "      <td>1</td>\n",
              "      <td>1</td>\n",
              "      <td>1</td>\n",
              "      <td>3</td>\n",
              "    </tr>\n",
              "    <tr>\n",
              "      <th>2005536</th>\n",
              "      <td>1976</td>\n",
              "      <td>BROADVIEW HTS</td>\n",
              "      <td>44147</td>\n",
              "      <td>1</td>\n",
              "      <td>3/8/2004</td>\n",
              "      <td>3</td>\n",
              "      <td>1</td>\n",
              "      <td>1</td>\n",
              "      <td>1</td>\n",
              "      <td>3</td>\n",
              "    </tr>\n",
              "    <tr>\n",
              "      <th>2465762</th>\n",
              "      <td>1991</td>\n",
              "      <td>SOLON</td>\n",
              "      <td>44139</td>\n",
              "      <td>3</td>\n",
              "      <td>9/27/2010</td>\n",
              "      <td>3</td>\n",
              "      <td>0</td>\n",
              "      <td>3</td>\n",
              "      <td>0</td>\n",
              "      <td>4</td>\n",
              "    </tr>\n",
              "    <tr>\n",
              "      <th>710633</th>\n",
              "      <td>1968</td>\n",
              "      <td>INDEPENDENCE</td>\n",
              "      <td>44131</td>\n",
              "      <td>1</td>\n",
              "      <td>1/1/1901</td>\n",
              "      <td>3</td>\n",
              "      <td>1</td>\n",
              "      <td>1</td>\n",
              "      <td>1</td>\n",
              "      <td>3</td>\n",
              "    </tr>\n",
              "  </tbody>\n",
              "</table>\n",
              "</div>"
            ],
            "text/plain": [
              "          Birth_Year           City  Zip_Code  Party Registration_Date  \\\n",
              "Voter_ID                                                                 \n",
              "704844          1959    SEVEN HILLS     44131      3          1/1/1901   \n",
              "1658758         1968          PARMA     44130      1          9/9/1996   \n",
              "2005536         1976  BROADVIEW HTS     44147      1          3/8/2004   \n",
              "2465762         1991          SOLON     44139      3         9/27/2010   \n",
              "710633          1968   INDEPENDENCE     44131      1          1/1/1901   \n",
              "\n",
              "          2020_Primary_Election  2020_General_Election  2016_Primary_Election  \\\n",
              "Voter_ID                                                                        \n",
              "704844                        3                      1                      0   \n",
              "1658758                       3                      1                      1   \n",
              "2005536                       3                      1                      1   \n",
              "2465762                       3                      0                      3   \n",
              "710633                        3                      1                      1   \n",
              "\n",
              "          2016_General_Election  Generational_Group  \n",
              "Voter_ID                                             \n",
              "704844                        1                   2  \n",
              "1658758                       1                   3  \n",
              "2005536                       1                   3  \n",
              "2465762                       0                   4  \n",
              "710633                        1                   3  "
            ]
          },
          "execution_count": 11,
          "metadata": {},
          "output_type": "execute_result"
        }
      ],
      "source": [
        "group = {\"Silent\": 1,\"Boomers\": 2, \"Generation X\": 3, \"Millennials\": 4, \"Generation Z\": 5}\n",
        "voter_df[\"Generational_Group\"] = voter_df[\"Generational_Group\"].apply(lambda x:group[x])\n",
        "voter_df.head()"
      ]
    },
    {
      "cell_type": "code",
      "execution_count": 12,
      "metadata": {
        "colab": {
          "base_uri": "https://localhost:8080/"
        },
        "id": "BcB0MLkrpUyM",
        "outputId": "5dbd424d-d47b-44a9-a989-999022afebc6"
      },
      "outputs": [
        {
          "data": {
            "text/plain": [
              "array(['SEVEN HILLS', 'PARMA', 'BROADVIEW HTS', 'SOLON', 'INDEPENDENCE',\n",
              "       'EUCLID', 'CLEVELAND HTS', 'GARFIELD HTS', 'CLEVELAND',\n",
              "       'ROCKY RIVER', 'WESTLAKE', 'ORANGE', 'PEPPER PIKE', 'MAPLE HTS',\n",
              "       'EAST CLEVELAND', 'BROOK PARK', 'NORTH ROYALTON',\n",
              "       'WARRENSVILLE HTS', 'FAIRVIEW PARK', 'SOUTH EUCLID', 'BEREA',\n",
              "       'MIDDLEBURG HTS', 'LYNDHURST', 'SHAKER HTS', 'BROOKLYN',\n",
              "       'LAKEWOOD', 'OLMSTED FALLS', 'HIGHLAND HTS', 'GATES MILLS',\n",
              "       'MAYFIELD HTS', 'PARMA HTS', 'BEACHWOOD', 'RICHMOND HTS',\n",
              "       'BRECKSVILLE', 'UNIVERSITY HTS', 'BEDFORD', 'BEDFORD HTS',\n",
              "       'OAKWOOD', 'STRONGSVILLE', 'BROOKLYN HTS', 'NEWBURGH HTS',\n",
              "       'NORTH OLMSTED', 'OLMSTED TWP', 'WALTON HILLS', 'BAY VILLAGE',\n",
              "       'CUYAHOGA HTS', 'VALLEY VIEW', 'MAYFIELD VILLAGE',\n",
              "       'MORELAND HILLS', 'CHAGRIN FALLS', 'GLENWILLOW', 'HUNTING VALLEY',\n",
              "       'BRATENAHL', 'BENTLEYVILLE', 'WOODMERE', 'HIGHLAND HILLS',\n",
              "       'NORTH RANDALL', 'LINNDALE', 'CHAGRIN FALLS TWP'], dtype=object)"
            ]
          },
          "execution_count": 12,
          "metadata": {},
          "output_type": "execute_result"
        }
      ],
      "source": [
        "voter_df[\"City\"].unique()"
      ]
    },
    {
      "cell_type": "code",
      "execution_count": 13,
      "metadata": {
        "id": "9pieK8UxpUyM"
      },
      "outputs": [],
      "source": [
        "# Code the cities to unique #s\n",
        "cities = {'SEVEN HILLS': 1, 'PARMA': 2, 'BROADVIEW HTS': 3, 'SOLON': 4, 'INDEPENDENCE': 5,\n",
        "       'EUCLID': 6, 'CLEVELAND HTS': 7, 'GARFIELD HTS': 8, 'CLEVELAND': 9,\n",
        "       'ROCKY RIVER': 10, 'WESTLAKE': 11, 'ORANGE': 12, 'PEPPER PIKE':13, 'MAPLE HTS':14,\n",
        "       'EAST CLEVELAND':15, 'BROOK PARK':16, 'NORTH ROYALTON':17, 'HIGHLAND HTS':18,\n",
        "       'WARRENSVILLE HTS':19, 'FAIRVIEW PARK':20, 'SOUTH EUCLID':21, 'BEREA':22,\n",
        "       'MIDDLEBURG HTS':23, 'LAKEWOOD':24, 'LYNDHURST':25, 'SHAKER HTS':25,\n",
        "       'BROOKLYN':27, 'OLMSTED FALLS':28, 'UNIVERSITY HTS':29, 'GATES MILLS':30,\n",
        "       'MAYFIELD HTS':31, 'PARMA HTS':32, 'BEACHWOOD':33, 'RICHMOND HTS':33,\n",
        "       'BRECKSVILLE':34, 'BEDFORD':35, 'BEDFORD HTS':36, 'OAKWOOD':37,\n",
        "       'NORTH OLMSTED':38, 'OLMSTED TWP':39, 'STRONGSVILLE':40, 'BROOKLYN HTS':41,\n",
        "       'NEWBURGH HTS':42, 'BAY VILLAGE':43, 'MORELAND HILLS':44, 'WALTON HILLS':45,\n",
        "       'CUYAHOGA HTS':46, 'VALLEY VIEW':47, 'MAYFIELD VILLAGE':48, 'BENTLEYVILLE':49,\n",
        "       'GLENWILLOW':50, 'CHAGRIN FALLS':51, 'HUNTING VALLEY':52, 'BRATENAHL':53,\n",
        "       'WOODMERE':54, 'HIGHLAND HILLS':55, 'NORTH RANDALL':56, 'LINNDALE': 57,\n",
        "       'CHAGRIN FALLS TWP': 58}\n",
        "\n",
        "voter_df[\"City\"] = voter_df[\"City\"].apply(lambda x:cities[x])\n"
      ]
    },
    {
      "cell_type": "code",
      "execution_count": 14,
      "metadata": {
        "colab": {
          "base_uri": "https://localhost:8080/"
        },
        "id": "2IONotPipUyO",
        "outputId": "5f3a7cad-1982-4966-b408-0f5620a18877"
      },
      "outputs": [
        {
          "name": "stdout",
          "output_type": "stream",
          "text": [
            "<class 'pandas.core.frame.DataFrame'>\n",
            "Int64Index: 719425 entries, 704844 to 3017222\n",
            "Data columns (total 10 columns):\n",
            " #   Column                 Non-Null Count   Dtype \n",
            "---  ------                 --------------   ----- \n",
            " 0   Birth_Year             719425 non-null  int64 \n",
            " 1   City                   719425 non-null  int64 \n",
            " 2   Zip_Code               719425 non-null  int64 \n",
            " 3   Party                  719425 non-null  int64 \n",
            " 4   Registration_Date      719425 non-null  object\n",
            " 5   2020_Primary_Election  719425 non-null  int64 \n",
            " 6   2020_General_Election  719425 non-null  int64 \n",
            " 7   2016_Primary_Election  719425 non-null  int64 \n",
            " 8   2016_General_Election  719425 non-null  int64 \n",
            " 9   Generational_Group     719425 non-null  int64 \n",
            "dtypes: int64(9), object(1)\n",
            "memory usage: 60.4+ MB\n"
          ]
        }
      ],
      "source": [
        "voter_df.info()"
      ]
    },
    {
      "cell_type": "code",
      "execution_count": 15,
      "metadata": {
        "colab": {
          "base_uri": "https://localhost:8080/"
        },
        "id": "yL3x3AnvnSEv",
        "outputId": "f2e79f01-8d1a-4fe2-9e2f-7c46acf08856"
      },
      "outputs": [
        {
          "name": "stdout",
          "output_type": "stream",
          "text": [
            "<class 'pandas.core.frame.DataFrame'>\n",
            "Int64Index: 719425 entries, 704844 to 3017222\n",
            "Data columns (total 10 columns):\n",
            " #   Column                 Non-Null Count   Dtype         \n",
            "---  ------                 --------------   -----         \n",
            " 0   Birth_Year             719425 non-null  int64         \n",
            " 1   City                   719425 non-null  int64         \n",
            " 2   Zip_Code               719425 non-null  int64         \n",
            " 3   Party                  719425 non-null  int64         \n",
            " 4   Registration_Date      719425 non-null  datetime64[ns]\n",
            " 5   2020_Primary_Election  719425 non-null  int64         \n",
            " 6   2020_General_Election  719425 non-null  int64         \n",
            " 7   2016_Primary_Election  719425 non-null  int64         \n",
            " 8   2016_General_Election  719425 non-null  int64         \n",
            " 9   Generational_Group     719425 non-null  int64         \n",
            "dtypes: datetime64[ns](1), int64(9)\n",
            "memory usage: 60.4 MB\n"
          ]
        }
      ],
      "source": [
        "voter_df['Registration_Date'] =  pd.to_datetime(voter_df['Registration_Date'], dayfirst=True)\n",
        "voter_df.info()"
      ]
    },
    {
      "cell_type": "code",
      "execution_count": 16,
      "metadata": {
        "colab": {
          "base_uri": "https://localhost:8080/",
          "height": 302
        },
        "id": "EzUYZuxusDP_",
        "outputId": "06033a59-e780-4a66-b77d-c1c09376d666"
      },
      "outputs": [
        {
          "data": {
            "text/html": [
              "<div>\n",
              "<style scoped>\n",
              "    .dataframe tbody tr th:only-of-type {\n",
              "        vertical-align: middle;\n",
              "    }\n",
              "\n",
              "    .dataframe tbody tr th {\n",
              "        vertical-align: top;\n",
              "    }\n",
              "\n",
              "    .dataframe thead th {\n",
              "        text-align: right;\n",
              "    }\n",
              "</style>\n",
              "<table border=\"1\" class=\"dataframe\">\n",
              "  <thead>\n",
              "    <tr style=\"text-align: right;\">\n",
              "      <th></th>\n",
              "      <th>Birth_Year</th>\n",
              "      <th>City</th>\n",
              "      <th>Zip_Code</th>\n",
              "      <th>Party</th>\n",
              "      <th>Registration_Date</th>\n",
              "      <th>2020_Primary_Election</th>\n",
              "      <th>2020_General_Election</th>\n",
              "      <th>2016_Primary_Election</th>\n",
              "      <th>2016_General_Election</th>\n",
              "      <th>Generational_Group</th>\n",
              "    </tr>\n",
              "    <tr>\n",
              "      <th>Voter_ID</th>\n",
              "      <th></th>\n",
              "      <th></th>\n",
              "      <th></th>\n",
              "      <th></th>\n",
              "      <th></th>\n",
              "      <th></th>\n",
              "      <th></th>\n",
              "      <th></th>\n",
              "      <th></th>\n",
              "      <th></th>\n",
              "    </tr>\n",
              "  </thead>\n",
              "  <tbody>\n",
              "    <tr>\n",
              "      <th>704844</th>\n",
              "      <td>1959</td>\n",
              "      <td>1</td>\n",
              "      <td>44131</td>\n",
              "      <td>3</td>\n",
              "      <td>1901-01-01</td>\n",
              "      <td>3</td>\n",
              "      <td>1</td>\n",
              "      <td>0</td>\n",
              "      <td>1</td>\n",
              "      <td>2</td>\n",
              "    </tr>\n",
              "    <tr>\n",
              "      <th>1658758</th>\n",
              "      <td>1968</td>\n",
              "      <td>2</td>\n",
              "      <td>44130</td>\n",
              "      <td>1</td>\n",
              "      <td>1996-09-09</td>\n",
              "      <td>3</td>\n",
              "      <td>1</td>\n",
              "      <td>1</td>\n",
              "      <td>1</td>\n",
              "      <td>3</td>\n",
              "    </tr>\n",
              "    <tr>\n",
              "      <th>2005536</th>\n",
              "      <td>1976</td>\n",
              "      <td>3</td>\n",
              "      <td>44147</td>\n",
              "      <td>1</td>\n",
              "      <td>2004-08-03</td>\n",
              "      <td>3</td>\n",
              "      <td>1</td>\n",
              "      <td>1</td>\n",
              "      <td>1</td>\n",
              "      <td>3</td>\n",
              "    </tr>\n",
              "    <tr>\n",
              "      <th>2465762</th>\n",
              "      <td>1991</td>\n",
              "      <td>4</td>\n",
              "      <td>44139</td>\n",
              "      <td>3</td>\n",
              "      <td>2010-09-27</td>\n",
              "      <td>3</td>\n",
              "      <td>0</td>\n",
              "      <td>3</td>\n",
              "      <td>0</td>\n",
              "      <td>4</td>\n",
              "    </tr>\n",
              "    <tr>\n",
              "      <th>710633</th>\n",
              "      <td>1968</td>\n",
              "      <td>5</td>\n",
              "      <td>44131</td>\n",
              "      <td>1</td>\n",
              "      <td>1901-01-01</td>\n",
              "      <td>3</td>\n",
              "      <td>1</td>\n",
              "      <td>1</td>\n",
              "      <td>1</td>\n",
              "      <td>3</td>\n",
              "    </tr>\n",
              "  </tbody>\n",
              "</table>\n",
              "</div>"
            ],
            "text/plain": [
              "          Birth_Year  City  Zip_Code  Party Registration_Date  \\\n",
              "Voter_ID                                                        \n",
              "704844          1959     1     44131      3        1901-01-01   \n",
              "1658758         1968     2     44130      1        1996-09-09   \n",
              "2005536         1976     3     44147      1        2004-08-03   \n",
              "2465762         1991     4     44139      3        2010-09-27   \n",
              "710633          1968     5     44131      1        1901-01-01   \n",
              "\n",
              "          2020_Primary_Election  2020_General_Election  2016_Primary_Election  \\\n",
              "Voter_ID                                                                        \n",
              "704844                        3                      1                      0   \n",
              "1658758                       3                      1                      1   \n",
              "2005536                       3                      1                      1   \n",
              "2465762                       3                      0                      3   \n",
              "710633                        3                      1                      1   \n",
              "\n",
              "          2016_General_Election  Generational_Group  \n",
              "Voter_ID                                             \n",
              "704844                        1                   2  \n",
              "1658758                       1                   3  \n",
              "2005536                       1                   3  \n",
              "2465762                       0                   4  \n",
              "710633                        1                   3  "
            ]
          },
          "execution_count": 16,
          "metadata": {},
          "output_type": "execute_result"
        }
      ],
      "source": [
        "voter_df.head()"
      ]
    },
    {
      "cell_type": "code",
      "execution_count": 17,
      "metadata": {
        "colab": {
          "base_uri": "https://localhost:8080/"
        },
        "id": "FvODHUOypUyQ",
        "outputId": "0f4d8c80-8953-4791-dab6-9234552208af"
      },
      "outputs": [
        {
          "data": {
            "text/plain": [
              "2020_General_Election    1.000000\n",
              "2016_General_Election    0.434672\n",
              "City                     0.112302\n",
              "Zip_Code                 0.054198\n",
              "Generational_Group      -0.275442\n",
              "Birth_Year              -0.285664\n",
              "2020_Primary_Election   -0.309675\n",
              "2016_Primary_Election   -0.337739\n",
              "Party                   -0.392269\n",
              "Name: 2020_General_Election, dtype: float64"
            ]
          },
          "execution_count": 17,
          "metadata": {},
          "output_type": "execute_result"
        }
      ],
      "source": [
        "corr_matrix = voter_df.corr()\n",
        "corr_matrix['2020_General_Election'].sort_values(ascending=False)"
      ]
    },
    {
      "cell_type": "code",
      "execution_count": 18,
      "metadata": {
        "colab": {
          "base_uri": "https://localhost:8080/",
          "height": 609
        },
        "id": "6hK2eK7hpUyR",
        "outputId": "1024a2d5-23d8-469c-add6-585c5d268d37"
      },
      "outputs": [
        {
          "data": {
            "image/png": "[encoded data removed]",
            "text/plain": [
              "<Figure size 1080x576 with 2 Axes>"
            ]
          },
          "metadata": {
            "needs_background": "light"
          },
          "output_type": "display_data"
        }
      ],
      "source": [
        "import matplotlib.pyplot as plt\n",
        "%matplotlib inline\n",
        "plt.subplots(figsize = (15,8))\n",
        "sb.heatmap(voter_df.corr(), annot=True,cmap=\"PiYG\")\n",
        "plt.title(\"Correlations Among Features\", fontsize = 20);"
      ]
    },
    {
      "cell_type": "code",
      "execution_count": 19,
      "metadata": {
        "colab": {
          "base_uri": "https://localhost:8080/"
        },
        "id": "Ma2cp6fvocxj",
        "outputId": "85f3295a-b500-45db-c4f6-da693f4ddf42"
      },
      "outputs": [
        {
          "data": {
            "text/plain": [
              "count    719425.000000\n",
              "mean       1971.485668\n",
              "std          18.784237\n",
              "min        1928.000000\n",
              "25%        1956.000000\n",
              "50%        1972.000000\n",
              "75%        1988.000000\n",
              "max        2004.000000\n",
              "Name: Birth_Year, dtype: float64"
            ]
          },
          "execution_count": 19,
          "metadata": {},
          "output_type": "execute_result"
        }
      ],
      "source": [
        "voter_df['Birth_Year'].describe()"
      ]
    },
    {
      "cell_type": "code",
      "execution_count": 20,
      "metadata": {
        "colab": {
          "base_uri": "https://localhost:8080/"
        },
        "id": "INy7R5appUyS",
        "outputId": "a3931a35-77ed-4948-8321-faa53a4982bd"
      },
      "outputs": [
        {
          "data": {
            "text/plain": [
              "count    677249.000000\n",
              "mean       1969.662775\n",
              "std          17.833038\n",
              "min        1928.000000\n",
              "25%        1956.000000\n",
              "50%        1970.000000\n",
              "75%        1986.000000\n",
              "max        1998.000000\n",
              "Name: Birth_Year, dtype: float64"
            ]
          },
          "execution_count": 20,
          "metadata": {},
          "output_type": "execute_result"
        }
      ],
      "source": [
        "# Restrict to voters eligable to vote in 2016 and 2020 election (born 1998 or before)\n",
        "voter_2016 = voter_df[voter_df['Birth_Year'] <= 1998]\n",
        "voter_2016['Birth_Year'].describe()"
      ]
    },
    {
      "cell_type": "code",
      "execution_count": 21,
      "metadata": {
        "colab": {
          "base_uri": "https://localhost:8080/"
        },
        "id": "5LDaYlqMpw9m",
        "outputId": "8a81592b-3729-4860-db74-61be162c7ad9"
      },
      "outputs": [
        {
          "data": {
            "text/plain": [
              "count                  554377\n",
              "unique                  11963\n",
              "top       1901-01-01 00:00:00\n",
              "freq                   123065\n",
              "first     1800-01-01 00:00:00\n",
              "last      2016-10-01 00:00:00\n",
              "Name: Registration_Date, dtype: object"
            ]
          },
          "execution_count": 21,
          "metadata": {},
          "output_type": "execute_result"
        }
      ],
      "source": [
        "voter_2016 = voter_2016[voter_2016['Registration_Date'] <= '2016-10-01']\n",
        "voter_2016['Registration_Date'].describe()"
      ]
    },
    {
      "cell_type": "code",
      "execution_count": 22,
      "metadata": {
        "colab": {
          "base_uri": "https://localhost:8080/"
        },
        "id": "bNlwwkIGsnBn",
        "outputId": "4785f264-ad42-4462-c588-ef469168e094"
      },
      "outputs": [
        {
          "name": "stdout",
          "output_type": "stream",
          "text": [
            "<class 'pandas.core.frame.DataFrame'>\n",
            "Int64Index: 554377 entries, 704844 to 276903\n",
            "Data columns (total 9 columns):\n",
            " #   Column                 Non-Null Count   Dtype\n",
            "---  ------                 --------------   -----\n",
            " 0   Birth_Year             554377 non-null  int64\n",
            " 1   City                   554377 non-null  int64\n",
            " 2   Zip_Code               554377 non-null  int64\n",
            " 3   Party                  554377 non-null  int64\n",
            " 4   2020_Primary_Election  554377 non-null  int64\n",
            " 5   2020_General_Election  554377 non-null  int64\n",
            " 6   2016_Primary_Election  554377 non-null  int64\n",
            " 7   2016_General_Election  554377 non-null  int64\n",
            " 8   Generational_Group     554377 non-null  int64\n",
            "dtypes: int64(9)\n",
            "memory usage: 42.3 MB\n"
          ]
        }
      ],
      "source": [
        "voter_2016cleaned = voter_2016.drop(['Registration_Date'], axis=1)\n",
        "voter_2016cleaned.info()"
      ]
    },
    {
      "cell_type": "code",
      "execution_count": 23,
      "metadata": {
        "colab": {
          "base_uri": "https://localhost:8080/",
          "height": 609
        },
        "id": "fEzS57pGpUyS",
        "outputId": "ad7f846f-39a1-4a83-fa6d-5c2ade6009fd"
      },
      "outputs": [
        {
          "data": {
            "image/png": "[encoded data removed]",
            "text/plain": [
              "<Figure size 1080x576 with 2 Axes>"
            ]
          },
          "metadata": {
            "needs_background": "light"
          },
          "output_type": "display_data"
        }
      ],
      "source": [
        "plt.subplots(figsize = (15,8))\n",
        "sb.heatmap(voter_2016cleaned.corr(), annot=True,cmap=\"PiYG\")\n",
        "plt.title(\"Correlations Among Features for 2016 and 2020 Election\", fontsize = 20);"
      ]
    },
    {
      "cell_type": "markdown",
      "metadata": {
        "id": "9AwSv3DkpUyU"
      },
      "source": [
        "# Machine Learning on 2016 and 2020 election - Voters Born 1928-1998"
      ]
    },
    {
      "cell_type": "code",
      "execution_count": 24,
      "metadata": {
        "id": "alu5Wxg_pUyU"
      },
      "outputs": [],
      "source": [
        "from sklearn.model_selection import StratifiedShuffleSplit\n",
        "from sklearn.metrics import accuracy_score, log_loss\n",
        "from sklearn.ensemble import RandomForestClassifier,GradientBoostingClassifier\n",
        "from sklearn.linear_model import LogisticRegression\n",
        "from warnings import filterwarnings\n",
        "filterwarnings(action='ignore')"
      ]
    },
    {
      "cell_type": "code",
      "execution_count": 25,
      "metadata": {
        "id": "I4aSW8N-pUyW"
      },
      "outputs": [],
      "source": [
        "classifier = GradientBoostingClassifier()"
      ]
    },
    {
      "cell_type": "code",
      "execution_count": 26,
      "metadata": {
        "id": "4YRlE5DIsZrY"
      },
      "outputs": [],
      "source": [
        "x = voter_2016cleaned.drop(\"2020_General_Election\",axis=1)\n",
        "y = voter_2016cleaned[\"2020_General_Election\"]"
      ]
    },
    {
      "cell_type": "code",
      "execution_count": 27,
      "metadata": {
        "id": "vuSZKPQppUyW"
      },
      "outputs": [],
      "source": [
        "from sklearn.model_selection import train_test_split\n",
        "X_train , X_test , Y_train , Y_test = train_test_split(x,y,test_size = 0.2 , random_state = 33)\n",
        "\n",
        "classifier.fit(X_train,Y_train)\n",
        "\n",
        "\n",
        "from sklearn.model_selection import cross_val_score\n",
        "\n",
        "score = cross_val_score(classifier, X_train, Y_train,cv=5,\n",
        "scoring=\"accuracy\").mean()"
      ]
    },
    {
      "cell_type": "code",
      "execution_count": 28,
      "metadata": {
        "colab": {
          "base_uri": "https://localhost:8080/"
        },
        "id": "MikBDa4RpUyX",
        "outputId": "d6549876-ea5c-45d5-c712-9d6a058e5860"
      },
      "outputs": [
        {
          "data": {
            "text/plain": [
              "0.8382100599245377"
            ]
          },
          "execution_count": 28,
          "metadata": {},
          "output_type": "execute_result"
        }
      ],
      "source": [
        "score \n"
      ]
    },
    {
      "cell_type": "code",
      "execution_count": 30,
      "metadata": {},
      "outputs": [
        {
          "name": "stdout",
          "output_type": "stream",
          "text": [
            "              precision    recall  f1-score   support\n",
            "\n",
            "           0       0.71      0.61      0.66     28194\n",
            "           1       0.87      0.91      0.89     82682\n",
            "\n",
            "    accuracy                           0.84    110876\n",
            "   macro avg       0.79      0.76      0.78    110876\n",
            "weighted avg       0.83      0.84      0.83    110876\n",
            "\n"
          ]
        }
      ],
      "source": [
        "from sklearn.metrics import confusion_matrix, classification_report\n",
        "\n",
        "y_pred = classifier.predict(X_test)\n",
        "report = classification_report(Y_test, y_pred)\n",
        "print(report)"
      ]
    },
    {
      "cell_type": "code",
      "execution_count": 76,
      "metadata": {
        "colab": {
          "base_uri": "https://localhost:8080/"
        },
        "id": "A6A98WFwq3DJ",
        "outputId": "e6df401b-ae3c-4d40-dda1-78c6fef034f4"
      },
      "outputs": [
        {
          "data": {
            "text/plain": [
              "GridSearchCV(cv=5,\n",
              "             estimator=GradientBoostingClassifier(max_depth=8,\n",
              "                                                  max_features='sqrt',\n",
              "                                                  min_samples_leaf=50,\n",
              "                                                  min_samples_split=500,\n",
              "                                                  random_state=33,\n",
              "                                                  subsample=0.8),\n",
              "             n_jobs=4, param_grid={'n_estimators': range(20, 81, 10)},\n",
              "             scoring='roc_auc')"
            ]
          },
          "execution_count": 76,
          "metadata": {},
          "output_type": "execute_result"
        }
      ],
      "source": [
        "from sklearn.ensemble import GradientBoostingClassifier\n",
        "\n",
        "from sklearn.model_selection import GridSearchCV\n",
        "from sklearn.metrics import accuracy_score\n",
        "from sklearn.metrics import precision_score\n",
        "from sklearn.metrics import recall_score\n",
        "from sklearn.metrics import make_scorer\n",
        "\n",
        "param_test1 = {'n_estimators':range(20,81,10)}\n",
        "clf = GridSearchCV(estimator = GradientBoostingClassifier(learning_rate=0.1, min_samples_split=500,\n",
        "                                  min_samples_leaf=50,max_depth=8,max_features='sqrt', subsample=0.8,random_state=33), \n",
        "                       param_grid = param_test1, scoring='roc_auc',n_jobs=4, cv=5)\n",
        "clf.fit(X_train, Y_train.values.ravel())\n"
      ]
    },
    {
      "cell_type": "code",
      "execution_count": 77,
      "metadata": {
        "colab": {
          "base_uri": "https://localhost:8080/"
        },
        "id": "GXRy3H_0sEDD",
        "outputId": "018005cf-fa6e-411b-9751-d8f0b537f6e8"
      },
      "outputs": [
        {
          "data": {
            "text/plain": [
              "{'mean_fit_time': array([24.63394957, 34.78171268, 47.14568014, 59.27721367, 71.43809476,\n",
              "        80.72460322, 78.91655555]),\n",
              " 'mean_score_time': array([0.38598452, 0.48704553, 0.60864048, 0.72607293, 0.85054345,\n",
              "        0.95186243, 0.77884407]),\n",
              " 'mean_test_score': array([0.88105295, 0.88176675, 0.88223466, 0.88268987, 0.8829689 ,\n",
              "        0.88313859, 0.8832504 ]),\n",
              " 'param_n_estimators': masked_array(data=[20, 30, 40, 50, 60, 70, 80],\n",
              "              mask=[False, False, False, False, False, False, False],\n",
              "        fill_value='?',\n",
              "             dtype=object),\n",
              " 'params': [{'n_estimators': 20},\n",
              "  {'n_estimators': 30},\n",
              "  {'n_estimators': 40},\n",
              "  {'n_estimators': 50},\n",
              "  {'n_estimators': 60},\n",
              "  {'n_estimators': 70},\n",
              "  {'n_estimators': 80}],\n",
              " 'rank_test_score': array([7, 6, 5, 4, 3, 2, 1], dtype=int32),\n",
              " 'split0_test_score': array([0.88128251, 0.88188668, 0.88226353, 0.88258788, 0.88285812,\n",
              "        0.88302385, 0.88311841]),\n",
              " 'split1_test_score': array([0.88134628, 0.88203496, 0.88254517, 0.88296452, 0.88324468,\n",
              "        0.8833374 , 0.88342527]),\n",
              " 'split2_test_score': array([0.87885048, 0.87961624, 0.88007301, 0.88074253, 0.88106517,\n",
              "        0.88127131, 0.88139761]),\n",
              " 'split3_test_score': array([0.88042602, 0.88118561, 0.88182767, 0.88234901, 0.88269024,\n",
              "        0.88286906, 0.88302325]),\n",
              " 'split4_test_score': array([0.88335945, 0.88411028, 0.88446394, 0.88480541, 0.88498627,\n",
              "        0.88519133, 0.88528745]),\n",
              " 'std_fit_time': array([ 0.73331354,  0.44700498,  0.55806149,  0.83500181,  0.35838092,\n",
              "         1.08769775, 14.67752976]),\n",
              " 'std_score_time': array([0.00523602, 0.01558071, 0.01921816, 0.02224796, 0.01579641,\n",
              "        0.0297922 , 0.27513055]),\n",
              " 'std_test_score': array([0.00146305, 0.00145195, 0.0014075 , 0.00130151, 0.00125379,\n",
              "        0.00125106, 0.00123952])}"
            ]
          },
          "execution_count": 77,
          "metadata": {},
          "output_type": "execute_result"
        }
      ],
      "source": [
        "grid_scores = clf.cv_results_\n",
        "grid_scores"
      ]
    },
    {
      "cell_type": "code",
      "execution_count": null,
      "metadata": {
        "id": "3NuBIX_10zus"
      },
      "outputs": [],
      "source": [
        "param_test2 = {'learning_rate': range(1, 6, 2)}\n",
        "clf = GridSearchCV(estimator = GradientBoostingClassifier(n_estimators=80, min_samples_split=500,\n",
        "                                  min_samples_leaf=50,max_depth=8,max_features='sqrt', subsample=0.8,random_state=33), \n",
        "                       param_grid = param_test2, scoring='roc_auc',n_jobs=4, cv=5)\n",
        "clf.fit(X_train, Y_train.values.ravel())"
      ]
    },
    {
      "cell_type": "code",
      "execution_count": 82,
      "metadata": {
        "colab": {
          "base_uri": "https://localhost:8080/"
        },
        "id": "y7YAm3pe4E7z",
        "outputId": "ada96b01-0c0c-4c7d-966d-75421c95f471"
      },
      "outputs": [
        {
          "data": {
            "text/plain": [
              "{'mean_fit_time': array([ 96.07599654, 100.02433534,  80.42911625]),\n",
              " 'mean_score_time': array([0.99882364, 1.24105616, 0.82442503]),\n",
              " 'mean_test_score': array([0.87799788, 0.5911286 , 0.55566325]),\n",
              " 'param_learning_rate': masked_array(data=[1, 3, 5],\n",
              "              mask=[False, False, False],\n",
              "        fill_value='?',\n",
              "             dtype=object),\n",
              " 'params': [{'learning_rate': 1}, {'learning_rate': 3}, {'learning_rate': 5}],\n",
              " 'rank_test_score': array([1, 2, 3], dtype=int32),\n",
              " 'split0_test_score': array([0.87846746, 0.49332747, 0.50604328]),\n",
              " 'split1_test_score': array([0.87759452, 0.65468115, 0.67746284]),\n",
              " 'split2_test_score': array([0.87634104, 0.67036794, 0.54885958]),\n",
              " 'split3_test_score': array([0.87783465, 0.4929318 , 0.44412811]),\n",
              " 'split4_test_score': array([0.87975171, 0.64433467, 0.60182242]),\n",
              " 'std_fit_time': array([ 0.68668596,  2.78623797, 14.86724576]),\n",
              " 'std_score_time': array([0.02672455, 0.11731341, 0.28536754]),\n",
              " 'std_test_score': array([0.00111633, 0.08044421, 0.07989284])}"
            ]
          },
          "execution_count": 82,
          "metadata": {},
          "output_type": "execute_result"
        }
      ],
      "source": [
        "grid_scores = clf.cv_results_\n",
        "grid_scores"
      ]
    },
    {
      "cell_type": "markdown",
      "metadata": {
        "id": "v7AIXpVPpUyX"
      },
      "source": [
        "## Optimize Parameters"
      ]
    },
    {
      "cell_type": "code",
      "execution_count": 84,
      "metadata": {
        "colab": {
          "base_uri": "https://localhost:8080/"
        },
        "id": "TglZDk13pUyY",
        "outputId": "4e6202b6-5f7d-4db8-b17f-815fcb0c25b2"
      },
      "outputs": [
        {
          "data": {
            "text/plain": [
              "GridSearchCV(cv=5,\n",
              "             estimator=GradientBoostingClassifier(max_features='sqrt',\n",
              "                                                  min_samples_leaf=50,\n",
              "                                                  min_samples_split=500,\n",
              "                                                  n_estimators=80,\n",
              "                                                  random_state=33,\n",
              "                                                  subsample=0.8),\n",
              "             n_jobs=4,\n",
              "             param_grid={'learning_rate': [0.5, 1], 'max_depth': [3, 5, 10]},\n",
              "             scoring='roc_auc')"
            ]
          },
          "execution_count": 84,
          "metadata": {},
          "output_type": "execute_result"
        }
      ],
      "source": [
        "from sklearn.ensemble import GradientBoostingClassifier\n",
        "\n",
        "from sklearn.model_selection import GridSearchCV\n",
        "from sklearn.metrics import accuracy_score\n",
        "from sklearn.metrics import precision_score\n",
        "from sklearn.metrics import recall_score\n",
        "from sklearn.metrics import make_scorer\n",
        "#creating Scoring parameter: \n",
        "scoring = {'accuracy': make_scorer(accuracy_score),\n",
        "           'precision': make_scorer(precision_score),'recall':make_scorer(recall_score)}\n",
        "\n",
        "# A sample parameter\n",
        "\n",
        "parameters = {\n",
        "    \"learning_rate\": [0.5, 1],\n",
        "    \"max_depth\":[3,5,10]\n",
        "    }\n",
        "#passing the scoring function in the GridSearchCV\n",
        "clf = GridSearchCV(GradientBoostingClassifier(n_estimators=80, min_samples_split=500,\n",
        "                                  min_samples_leaf=50,max_features='sqrt', subsample=0.8,random_state=33), \n",
        "                       param_grid = parameters, scoring='roc_auc',n_jobs=4, cv=5)\n",
        "\n",
        "clf.fit(X_train, Y_train.values.ravel())\n",
        "#converting the clf.cv_results to dataframe\n",
        "\n"
      ]
    },
    {
      "cell_type": "code",
      "execution_count": 85,
      "metadata": {
        "colab": {
          "base_uri": "https://localhost:8080/"
        },
        "id": "eoZ081Etq16w",
        "outputId": "b4a7445b-8d7f-45c9-ae38-dfb0c006fff0"
      },
      "outputs": [
        {
          "data": {
            "text/plain": [
              "{'mean_fit_time': array([ 46.21811314,  66.13710895, 118.71682496,  46.87083058,\n",
              "         66.20505166, 100.94824061]),\n",
              " 'mean_score_time': array([0.51737309, 0.71610479, 1.21534891, 0.50191631, 0.73229299,\n",
              "        0.93822317]),\n",
              " 'mean_test_score': array([0.88256841, 0.8828701 , 0.88000232, 0.88215093, 0.88128554,\n",
              "        0.8731169 ]),\n",
              " 'param_learning_rate': masked_array(data=[0.5, 0.5, 0.5, 1, 1, 1],\n",
              "              mask=[False, False, False, False, False, False],\n",
              "        fill_value='?',\n",
              "             dtype=object),\n",
              " 'param_max_depth': masked_array(data=[3, 5, 10, 3, 5, 10],\n",
              "              mask=[False, False, False, False, False, False],\n",
              "        fill_value='?',\n",
              "             dtype=object),\n",
              " 'params': [{'learning_rate': 0.5, 'max_depth': 3},\n",
              "  {'learning_rate': 0.5, 'max_depth': 5},\n",
              "  {'learning_rate': 0.5, 'max_depth': 10},\n",
              "  {'learning_rate': 1, 'max_depth': 3},\n",
              "  {'learning_rate': 1, 'max_depth': 5},\n",
              "  {'learning_rate': 1, 'max_depth': 10}],\n",
              " 'rank_test_score': array([2, 1, 5, 3, 4, 6], dtype=int32),\n",
              " 'split0_test_score': array([0.8827297 , 0.88263607, 0.88030874, 0.88195268, 0.88114913,\n",
              "        0.87515275]),\n",
              " 'split1_test_score': array([0.88254606, 0.8830343 , 0.88017815, 0.8821045 , 0.88085844,\n",
              "        0.87462405]),\n",
              " 'split2_test_score': array([0.88068767, 0.8812195 , 0.87823468, 0.88051353, 0.87993864,\n",
              "        0.86615565]),\n",
              " 'split3_test_score': array([0.88220726, 0.88250851, 0.87963945, 0.88201562, 0.88130424,\n",
              "        0.87597575]),\n",
              " 'split4_test_score': array([0.88467137, 0.88495212, 0.88165059, 0.88416834, 0.88317725,\n",
              "        0.87367632]),\n",
              " 'std_fit_time': array([ 0.39314841,  0.24336683,  1.83708783,  2.27631734,  0.46028859,\n",
              "        25.46378917]),\n",
              " 'std_score_time': array([0.03054117, 0.03389314, 0.04631791, 0.01958922, 0.02771857,\n",
              "        0.32722384]),\n",
              " 'std_test_score': array([0.00127409, 0.00120596, 0.00110434, 0.00116712, 0.00105774,\n",
              "        0.00355981])}"
            ]
          },
          "execution_count": 85,
          "metadata": {},
          "output_type": "execute_result"
        }
      ],
      "source": [
        "grid_scores = clf.cv_results_\n",
        "grid_scores"
      ]
    },
    {
      "cell_type": "code",
      "execution_count": 86,
      "metadata": {
        "colab": {
          "base_uri": "https://localhost:8080/"
        },
        "id": "9KumtJhmlONG",
        "outputId": "3906184c-1ae5-484a-ebd7-8a4080fd8ce1"
      },
      "outputs": [
        {
          "data": {
            "text/plain": [
              "GridSearchCV(cv=5,\n",
              "             estimator=GradientBoostingClassifier(max_features='sqrt',\n",
              "                                                  min_samples_leaf=50,\n",
              "                                                  min_samples_split=500,\n",
              "                                                  n_estimators=80,\n",
              "                                                  random_state=33,\n",
              "                                                  subsample=0.8),\n",
              "             n_jobs=4,\n",
              "             param_grid={'learning_rate': [0.1, 0.5], 'max_depth': [5]},\n",
              "             scoring='roc_auc')"
            ]
          },
          "execution_count": 86,
          "metadata": {},
          "output_type": "execute_result"
        }
      ],
      "source": [
        "from sklearn.ensemble import GradientBoostingClassifier\n",
        "\n",
        "from sklearn.model_selection import GridSearchCV\n",
        "from sklearn.metrics import accuracy_score\n",
        "from sklearn.metrics import precision_score\n",
        "from sklearn.metrics import recall_score\n",
        "from sklearn.metrics import make_scorer\n",
        "#creating Scoring parameter: \n",
        "scoring = {'accuracy': make_scorer(accuracy_score),\n",
        "           'precision': make_scorer(precision_score),'recall':make_scorer(recall_score)}\n",
        "\n",
        "\n",
        "\n",
        "parameters = {\n",
        "    \"learning_rate\": [0.1, 0.5],\n",
        "    \"max_depth\":[5]\n",
        "    }\n",
        "#passing the scoring function in the GridSearchCV\n",
        "clf = GridSearchCV(GradientBoostingClassifier(n_estimators=80, min_samples_split=500,\n",
        "                                  min_samples_leaf=50,max_features='sqrt', subsample=0.8,random_state=33), \n",
        "                       param_grid = parameters, scoring='roc_auc',n_jobs=4, cv=5)\n",
        "clf.fit(X_train, Y_train.values.ravel())\n",
        "#converting the clf.cv_results to dataframe"
      ]
    },
    {
      "cell_type": "code",
      "execution_count": 87,
      "metadata": {
        "colab": {
          "base_uri": "https://localhost:8080/"
        },
        "id": "s0BcY95p_ST3",
        "outputId": "32ffb22f-0644-4184-9a41-0dfa197faa19"
      },
      "outputs": [
        {
          "data": {
            "text/plain": [
              "{'mean_fit_time': array([64.80125237, 50.64787717]),\n",
              " 'mean_score_time': array([0.73014898, 0.53654699]),\n",
              " 'mean_test_score': array([0.88228538, 0.8828701 ]),\n",
              " 'param_learning_rate': masked_array(data=[0.1, 0.5],\n",
              "              mask=[False, False],\n",
              "        fill_value='?',\n",
              "             dtype=object),\n",
              " 'param_max_depth': masked_array(data=[5, 5],\n",
              "              mask=[False, False],\n",
              "        fill_value='?',\n",
              "             dtype=object),\n",
              " 'params': [{'learning_rate': 0.1, 'max_depth': 5},\n",
              "  {'learning_rate': 0.5, 'max_depth': 5}],\n",
              " 'rank_test_score': array([2, 1], dtype=int32),\n",
              " 'split0_test_score': array([0.88227724, 0.88263607]),\n",
              " 'split1_test_score': array([0.88241932, 0.8830343 ]),\n",
              " 'split2_test_score': array([0.88035871, 0.8812195 ]),\n",
              " 'split3_test_score': array([0.88194193, 0.88250851]),\n",
              " 'split4_test_score': array([0.8844297 , 0.88495212]),\n",
              " 'std_fit_time': array([ 0.16229949, 17.38667406]),\n",
              " 'std_score_time': array([0.02503302, 0.20368637]),\n",
              " 'std_test_score': array([0.0012997 , 0.00120596])}"
            ]
          },
          "execution_count": 87,
          "metadata": {},
          "output_type": "execute_result"
        }
      ],
      "source": [
        "grid_scores = clf.cv_results_\n",
        "grid_scores"
      ]
    }
  ],
  "metadata": {
    "colab": {
      "collapsed_sections": [],
      "include_colab_link": true,
      "name": "GoVoteML_2016.ipynb",
      "provenance": []
    },
    "kernelspec": {
      "display_name": "mlenv",
      "language": "python",
      "name": "mlenv"
    },
    "language_info": {
      "codemirror_mode": {
        "name": "ipython",
        "version": 3
      },
      "file_extension": ".py",
      "mimetype": "text/x-python",
      "name": "python",
      "nbconvert_exporter": "python",
      "pygments_lexer": "ipython3",
      "version": "3.7.13"
    },
    "vscode": {
      "interpreter": {
        "hash": "9cbd3ad8153c16a78d81bc8a504c18eabb83723a1b678246e27cd1390a16f6c4"
      }
    }
  },
  "nbformat": 4,
  "nbformat_minor": 0
}
